{
 "cells": [
  {
   "cell_type": "markdown",
   "metadata": {
    "id": "HKmorPdno_n_"
   },
   "source": [
    "# Kiva Project\n",
    "\n",
    "Predict whether a Kiva loan application will default."
   ]
  },
  {
   "cell_type": "markdown",
   "metadata": {
    "id": "oZFTCX4DqmRO"
   },
   "source": [
    "# Preliminaries: Inspect and Set up environment"
   ]
  },
  {
   "cell_type": "code",
   "execution_count": null,
   "metadata": {
    "colab": {
     "base_uri": "https://localhost:8080/"
    },
    "id": "LfOMt1lErLhZ",
    "outputId": "b8174afa-53e6-4423-9b5f-3b705b602152"
   },
   "outputs": [
    {
     "name": "stdout",
     "output_type": "stream",
     "text": [
      "/usr/local/bin/python\n"
     ]
    }
   ],
   "source": [
    "!which python"
   ]
  },
  {
   "cell_type": "code",
   "execution_count": null,
   "metadata": {
    "colab": {
     "base_uri": "https://localhost:8080/"
    },
    "id": "aub2w1-arM5K",
    "outputId": "6009f6f5-a2c2-4e60-cbf1-c06ad67e04a2"
   },
   "outputs": [
    {
     "name": "stdout",
     "output_type": "stream",
     "text": [
      "Python 3.7.10\n"
     ]
    }
   ],
   "source": [
    "!python --version"
   ]
  },
  {
   "cell_type": "code",
   "execution_count": null,
   "metadata": {
    "colab": {
     "base_uri": "https://localhost:8080/"
    },
    "id": "E9Y_n_8UrO9i",
    "outputId": "98a93055-3879-4481-97b9-1157a66229d1"
   },
   "outputs": [
    {
     "name": "stdout",
     "output_type": "stream",
     "text": [
      "/env/python\n"
     ]
    }
   ],
   "source": [
    "!echo $PYTHONPATH"
   ]
  },
  {
   "cell_type": "code",
   "execution_count": null,
   "metadata": {
    "colab": {
     "base_uri": "https://localhost:8080/"
    },
    "executionInfo": {
     "elapsed": 5607,
     "status": "ok",
     "timestamp": 1618125279785,
     "user": {
      "displayName": "Felipe A. Gomes Ferreira",
      "photoUrl": "",
      "userId": "09095471911889500468"
     },
     "user_tz": 180
    },
    "id": "sUh4JyAIpagr",
    "outputId": "4111f0ff-1bff-40b8-e5c1-11961c7c442e"
   },
   "outputs": [
    {
     "name": "stdout",
     "output_type": "stream",
     "text": [
      "Collecting unidecode\n",
      "\u001b[?25l  Downloading https://files.pythonhosted.org/packages/9e/25/723487ca2a52ebcee88a34d7d1f5a4b80b793f179ee0f62d5371938dfa01/Unidecode-1.2.0-py2.py3-none-any.whl (241kB)\n",
      "\u001b[K     |████████████████████████████████| 245kB 6.7MB/s \n",
      "\u001b[?25hCollecting textstat\n",
      "\u001b[?25l  Downloading https://files.pythonhosted.org/packages/ca/b1/ab40a00b727a0d209402d1be6aa3f1bc75bd03678b59ace8507b08bf12f5/textstat-0.7.0-py3-none-any.whl (99kB)\n",
      "\u001b[K     |████████████████████████████████| 102kB 8.4MB/s \n",
      "\u001b[?25hCollecting pyphen\n",
      "\u001b[?25l  Downloading https://files.pythonhosted.org/packages/7c/5a/5bc036e01389bc6a6667a932bac3e388de6e7fa5777a6ff50e652f60ec79/Pyphen-0.10.0-py3-none-any.whl (1.9MB)\n",
      "\u001b[K     |████████████████████████████████| 1.9MB 18.4MB/s \n",
      "\u001b[?25hInstalling collected packages: unidecode, pyphen, textstat\n",
      "Successfully installed pyphen-0.10.0 textstat-0.7.0 unidecode-1.2.0\n"
     ]
    }
   ],
   "source": [
    "pip install unidecode textstat"
   ]
  },
  {
   "cell_type": "code",
   "execution_count": null,
   "metadata": {
    "colab": {
     "base_uri": "https://localhost:8080/"
    },
    "executionInfo": {
     "elapsed": 3185,
     "status": "ok",
     "timestamp": 1618125289400,
     "user": {
      "displayName": "Felipe A. Gomes Ferreira",
      "photoUrl": "",
      "userId": "09095471911889500468"
     },
     "user_tz": 180
    },
    "id": "p24VrihfpgEr",
    "outputId": "1cf7f697-36a1-4fd8-a3ce-51f80c7b94e9"
   },
   "outputs": [
    {
     "name": "stdout",
     "output_type": "stream",
     "text": [
      "[nltk_data] Downloading package stopwords to /root/nltk_data...\n",
      "[nltk_data]   Unzipping corpora/stopwords.zip.\n",
      "[nltk_data] Downloading package wordnet to /root/nltk_data...\n",
      "[nltk_data]   Unzipping corpora/wordnet.zip.\n"
     ]
    },
    {
     "data": {
      "text/plain": [
       "True"
      ]
     },
     "execution_count": 2,
     "metadata": {
      "tags": []
     },
     "output_type": "execute_result"
    }
   ],
   "source": [
    "import nltk\n",
    "nltk.download('stopwords')\n",
    "nltk.download('wordnet')"
   ]
  },
  {
   "cell_type": "code",
   "execution_count": null,
   "metadata": {
    "id": "AGs25flao_oJ"
   },
   "outputs": [],
   "source": [
    "import pandas as pd\n",
    "import numpy as np\n",
    "\n",
    "from IPython.core.interactiveshell import InteractiveShell\n",
    "InteractiveShell.ast_node_interactivity = \"all\""
   ]
  },
  {
   "cell_type": "code",
   "execution_count": null,
   "metadata": {
    "id": "Qrot1IOkqIxH"
   },
   "outputs": [],
   "source": [
    "import string"
   ]
  },
  {
   "cell_type": "code",
   "execution_count": null,
   "metadata": {
    "colab": {
     "base_uri": "https://localhost:8080/"
    },
    "executionInfo": {
     "elapsed": 3176,
     "status": "ok",
     "timestamp": 1618125289403,
     "user": {
      "displayName": "Felipe A. Gomes Ferreira",
      "photoUrl": "",
      "userId": "09095471911889500468"
     },
     "user_tz": 180
    },
    "id": "xj34Jz-Do_oK",
    "outputId": "08f2fec7-68c8-49c9-84a2-2314ba03e536"
   },
   "outputs": [
    {
     "name": "stdout",
     "output_type": "stream",
     "text": [
      "2021-04-11 07:14:49.128093\n"
     ]
    }
   ],
   "source": [
    "import datetime\n",
    "print(datetime.datetime.now())"
   ]
  },
  {
   "cell_type": "code",
   "execution_count": null,
   "metadata": {
    "colab": {
     "base_uri": "https://localhost:8080/"
    },
    "executionInfo": {
     "elapsed": 3948,
     "status": "ok",
     "timestamp": 1618125290180,
     "user": {
      "displayName": "Felipe A. Gomes Ferreira",
      "photoUrl": "",
      "userId": "09095471911889500468"
     },
     "user_tz": 180
    },
    "id": "hhS6imPgY92j",
    "outputId": "fffcbe78-51a6-4b77-89cb-8b1aa1564de2"
   },
   "outputs": [
    {
     "name": "stdout",
     "output_type": "stream",
     "text": [
      "[nltk_data] Downloading package punkt to /root/nltk_data...\n",
      "[nltk_data]   Unzipping tokenizers/punkt.zip.\n"
     ]
    },
    {
     "data": {
      "text/plain": [
       "True"
      ]
     },
     "execution_count": 6,
     "metadata": {
      "tags": []
     },
     "output_type": "execute_result"
    }
   ],
   "source": [
    "nltk.download('punkt')\n",
    "from nltk.tokenize import word_tokenize"
   ]
  },
  {
   "cell_type": "code",
   "execution_count": null,
   "metadata": {
    "id": "EugQT3oliaDn"
   },
   "outputs": [],
   "source": [
    "from nltk.stem import WordNetLemmatizer\n",
    "from nltk.corpus import stopwords"
   ]
  },
  {
   "cell_type": "markdown",
   "metadata": {
    "id": "qj1NSQelo_oN"
   },
   "source": [
    "# Read Data"
   ]
  },
  {
   "cell_type": "code",
   "execution_count": null,
   "metadata": {
    "id": "60UNWiX8YmLi"
   },
   "outputs": [],
   "source": [
    "# The labeled training data\n",
    "df = pd.read_csv(\"https://drive.google.com/uc?export=download&id=1dzzVbgHphbCf7kvq9IKiIhwzmxPbuH4s\")"
   ]
  },
  {
   "cell_type": "code",
   "execution_count": null,
   "metadata": {
    "colab": {
     "base_uri": "https://localhost:8080/"
    },
    "executionInfo": {
     "elapsed": 5430,
     "status": "ok",
     "timestamp": 1618125291672,
     "user": {
      "displayName": "Felipe A. Gomes Ferreira",
      "photoUrl": "",
      "userId": "09095471911889500468"
     },
     "user_tz": 180
    },
    "id": "Qeavkicwo_oN",
    "outputId": "d35df718-105e-4737-be91-6b8205c74824"
   },
   "outputs": [
    {
     "name": "stdout",
     "output_type": "stream",
     "text": [
      "<class 'pandas.core.frame.DataFrame'>\n",
      "RangeIndex: 6138 entries, 0 to 6137\n",
      "Data columns (total 3 columns):\n",
      " #   Column     Non-Null Count  Dtype \n",
      "---  ------     --------------  ----- \n",
      " 0   loan_id    6138 non-null   int64 \n",
      " 1   en_clean   6138 non-null   object\n",
      " 2   defaulted  6138 non-null   int64 \n",
      "dtypes: int64(2), object(1)\n",
      "memory usage: 144.0+ KB\n"
     ]
    }
   ],
   "source": [
    "df.info()"
   ]
  },
  {
   "cell_type": "markdown",
   "metadata": {
    "id": "m7FIkMnao_oO"
   },
   "source": [
    "# EDA"
   ]
  },
  {
   "cell_type": "code",
   "execution_count": null,
   "metadata": {
    "colab": {
     "base_uri": "https://localhost:8080/",
     "height": 204
    },
    "executionInfo": {
     "elapsed": 5423,
     "status": "ok",
     "timestamp": 1618125291673,
     "user": {
      "displayName": "Felipe A. Gomes Ferreira",
      "photoUrl": "",
      "userId": "09095471911889500468"
     },
     "user_tz": 180
    },
    "id": "cgek8ghwo_oP",
    "outputId": "49e8067e-df5a-445d-88ee-13cdcefac86f"
   },
   "outputs": [
    {
     "data": {
      "text/html": [
       "<div>\n",
       "<style scoped>\n",
       "    .dataframe tbody tr th:only-of-type {\n",
       "        vertical-align: middle;\n",
       "    }\n",
       "\n",
       "    .dataframe tbody tr th {\n",
       "        vertical-align: top;\n",
       "    }\n",
       "\n",
       "    .dataframe thead th {\n",
       "        text-align: right;\n",
       "    }\n",
       "</style>\n",
       "<table border=\"1\" class=\"dataframe\">\n",
       "  <thead>\n",
       "    <tr style=\"text-align: right;\">\n",
       "      <th></th>\n",
       "      <th>loan_id</th>\n",
       "      <th>en_clean</th>\n",
       "      <th>defaulted</th>\n",
       "    </tr>\n",
       "  </thead>\n",
       "  <tbody>\n",
       "    <tr>\n",
       "      <th>0</th>\n",
       "      <td>7779</td>\n",
       "      <td>She opened a colmado out of the side of her ho...</td>\n",
       "      <td>0</td>\n",
       "    </tr>\n",
       "    <tr>\n",
       "      <th>1</th>\n",
       "      <td>2777</td>\n",
       "      <td>(First Loan):  Joffre continues to run his loc...</td>\n",
       "      <td>1</td>\n",
       "    </tr>\n",
       "    <tr>\n",
       "      <th>2</th>\n",
       "      <td>6007</td>\n",
       "      <td>Dina Santana is the mother of two children, Ju...</td>\n",
       "      <td>0</td>\n",
       "    </tr>\n",
       "    <tr>\n",
       "      <th>3</th>\n",
       "      <td>76</td>\n",
       "      <td>Rosemary is 50 years old, single, and has 6 ch...</td>\n",
       "      <td>1</td>\n",
       "    </tr>\n",
       "    <tr>\n",
       "      <th>4</th>\n",
       "      <td>4217</td>\n",
       "      <td>Segundo has a shop where he sells animal feed,...</td>\n",
       "      <td>0</td>\n",
       "    </tr>\n",
       "  </tbody>\n",
       "</table>\n",
       "</div>"
      ],
      "text/plain": [
       "   loan_id                                           en_clean  defaulted\n",
       "0     7779  She opened a colmado out of the side of her ho...          0\n",
       "1     2777  (First Loan):  Joffre continues to run his loc...          1\n",
       "2     6007  Dina Santana is the mother of two children, Ju...          0\n",
       "3       76  Rosemary is 50 years old, single, and has 6 ch...          1\n",
       "4     4217  Segundo has a shop where he sells animal feed,...          0"
      ]
     },
     "execution_count": 10,
     "metadata": {
      "tags": []
     },
     "output_type": "execute_result"
    }
   ],
   "source": [
    "df.head()"
   ]
  },
  {
   "cell_type": "code",
   "execution_count": null,
   "metadata": {
    "colab": {
     "base_uri": "https://localhost:8080/"
    },
    "executionInfo": {
     "elapsed": 5416,
     "status": "ok",
     "timestamp": 1618125291675,
     "user": {
      "displayName": "Felipe A. Gomes Ferreira",
      "photoUrl": "",
      "userId": "09095471911889500468"
     },
     "user_tz": 180
    },
    "id": "rMtMpjHSGbMz",
    "outputId": "508d3e9c-b60c-471c-ee1c-84732419bbee"
   },
   "outputs": [
    {
     "data": {
      "text/plain": [
       "0    3102\n",
       "1    3036\n",
       "Name: defaulted, dtype: int64"
      ]
     },
     "execution_count": 11,
     "metadata": {
      "tags": []
     },
     "output_type": "execute_result"
    }
   ],
   "source": [
    "df['defaulted'].value_counts()"
   ]
  },
  {
   "cell_type": "code",
   "execution_count": null,
   "metadata": {
    "colab": {
     "base_uri": "https://localhost:8080/"
    },
    "executionInfo": {
     "elapsed": 5410,
     "status": "ok",
     "timestamp": 1618125291676,
     "user": {
      "displayName": "Felipe A. Gomes Ferreira",
      "photoUrl": "",
      "userId": "09095471911889500468"
     },
     "user_tz": 180
    },
    "id": "b3HbKKatgmxa",
    "outputId": "ee8e5d90-a8eb-4664-eaf5-83d1bec24968"
   },
   "outputs": [
    {
     "data": {
      "text/plain": [
       "(6129, 3)"
      ]
     },
     "execution_count": 12,
     "metadata": {
      "tags": []
     },
     "output_type": "execute_result"
    }
   ],
   "source": [
    "df = df.drop_duplicates('en_clean')\n",
    "df.shape"
   ]
  },
  {
   "cell_type": "code",
   "execution_count": null,
   "metadata": {
    "id": "a0scBscjo_oQ"
   },
   "outputs": [],
   "source": [
    "import spacy\n",
    "from spacy import displacy\n",
    "nlp = spacy.load(\"en_core_web_sm\")"
   ]
  },
  {
   "cell_type": "code",
   "execution_count": null,
   "metadata": {
    "colab": {
     "base_uri": "https://localhost:8080/",
     "height": 227
    },
    "executionInfo": {
     "elapsed": 7320,
     "status": "ok",
     "timestamp": 1618125293598,
     "user": {
      "displayName": "Felipe A. Gomes Ferreira",
      "photoUrl": "",
      "userId": "09095471911889500468"
     },
     "user_tz": 180
    },
    "id": "ez0AoK6-o_oQ",
    "outputId": "0b30b262-4c00-4a91-af4d-0d083eab496f"
   },
   "outputs": [
    {
     "data": {
      "text/html": [
       "<span class=\"tex2jax_ignore\"><div class=\"entities\" style=\"line-height: 2.5; direction: ltr\">\n",
       "<mark class=\"entity\" style=\"background: #7aecec; padding: 0.45em 0.6em; margin: 0 0.25em; line-height: 1; border-radius: 0.35em;\">\n",
       "    Antonio\n",
       "    <span style=\"font-size: 0.8em; font-weight: bold; line-height: 1; border-radius: 0.35em; text-transform: uppercase; vertical-align: middle; margin-left: 0.5rem\">ORG</span>\n",
       "</mark>\n",
       " has a spot at a local market where he sells jewelry, laces and other items. He buys the merchandise in whole sale packages from a local distributor. \n",
       "<mark class=\"entity\" style=\"background: #aa9cfc; padding: 0.45em 0.6em; margin: 0 0.25em; line-height: 1; border-radius: 0.35em;\">\n",
       "    Antonio\n",
       "    <span style=\"font-size: 0.8em; font-weight: bold; line-height: 1; border-radius: 0.35em; text-transform: uppercase; vertical-align: middle; margin-left: 0.5rem\">PERSON</span>\n",
       "</mark>\n",
       " has been watching his parents in this type of activity from a very young age. They owned a stand at a local market where \n",
       "<mark class=\"entity\" style=\"background: #aa9cfc; padding: 0.45em 0.6em; margin: 0 0.25em; line-height: 1; border-radius: 0.35em;\">\n",
       "    Antonio\n",
       "    <span style=\"font-size: 0.8em; font-weight: bold; line-height: 1; border-radius: 0.35em; text-transform: uppercase; vertical-align: middle; margin-left: 0.5rem\">PERSON</span>\n",
       "</mark>\n",
       " would always visit and help out. Eventually, his father provided him with $\n",
       "<mark class=\"entity\" style=\"background: #e4e7d2; padding: 0.45em 0.6em; margin: 0 0.25em; line-height: 1; border-radius: 0.35em;\">\n",
       "    50\n",
       "    <span style=\"font-size: 0.8em; font-weight: bold; line-height: 1; border-radius: 0.35em; text-transform: uppercase; vertical-align: middle; margin-left: 0.5rem\">MONEY</span>\n",
       "</mark>\n",
       " worth of merchandise in order to get \n",
       "<mark class=\"entity\" style=\"background: #aa9cfc; padding: 0.45em 0.6em; margin: 0 0.25em; line-height: 1; border-radius: 0.35em;\">\n",
       "    Antonio\n",
       "    <span style=\"font-size: 0.8em; font-weight: bold; line-height: 1; border-radius: 0.35em; text-transform: uppercase; vertical-align: middle; margin-left: 0.5rem\">PERSON</span>\n",
       "</mark>\n",
       " started in his own business. He sells all his products for \n",
       "<mark class=\"entity\" style=\"background: #e4e7d2; padding: 0.45em 0.6em; margin: 0 0.25em; line-height: 1; border-radius: 0.35em;\">\n",
       "    $1 or\n",
       "    <span style=\"font-size: 0.8em; font-weight: bold; line-height: 1; border-radius: 0.35em; text-transform: uppercase; vertical-align: middle; margin-left: 0.5rem\">MONEY</span>\n",
       "</mark>\n",
       " less because he works in very poor communities where people cannot afford to pay more. Antonio is seeking the loan so he may purchase at larger quantities from wholesalers. He is hoping to invest in new and different products that are still affordable to his clients. \n",
       "<mark class=\"entity\" style=\"background: #aa9cfc; padding: 0.45em 0.6em; margin: 0 0.25em; line-height: 1; border-radius: 0.35em;\">\n",
       "    Antonio\n",
       "    <span style=\"font-size: 0.8em; font-weight: bold; line-height: 1; border-radius: 0.35em; text-transform: uppercase; vertical-align: middle; margin-left: 0.5rem\">PERSON</span>\n",
       "</mark>\n",
       " is only \n",
       "<mark class=\"entity\" style=\"background: #bfe1d9; padding: 0.45em 0.6em; margin: 0 0.25em; line-height: 1; border-radius: 0.35em;\">\n",
       "    22 years old\n",
       "    <span style=\"font-size: 0.8em; font-weight: bold; line-height: 1; border-radius: 0.35em; text-transform: uppercase; vertical-align: middle; margin-left: 0.5rem\">DATE</span>\n",
       "</mark>\n",
       ". He is currently a student at a local college. His business helped him cover the expense from finishing high school and attending college. He hopes to continue running his business until he graduates when he wants to open a much a larger operation.</div></span>"
      ],
      "text/plain": [
       "<IPython.core.display.HTML object>"
      ]
     },
     "metadata": {
      "tags": []
     },
     "output_type": "display_data"
    }
   ],
   "source": [
    "# We can use spacy to show all the named entities in a given document.\n",
    "\n",
    "doc = nlp(df.iloc[4001].en_clean)\n",
    "displacy.render(doc, style=\"ent\", jupyter=True)"
   ]
  },
  {
   "cell_type": "markdown",
   "metadata": {
    "id": "er6haRkwGMQi"
   },
   "source": [
    "Add Text Augmentation"
   ]
  },
  {
   "cell_type": "code",
   "execution_count": null,
   "metadata": {
    "colab": {
     "base_uri": "https://localhost:8080/"
    },
    "executionInfo": {
     "elapsed": 7519,
     "status": "ok",
     "timestamp": 1618125321487,
     "user": {
      "displayName": "Felipe A. Gomes Ferreira",
      "photoUrl": "",
      "userId": "09095471911889500468"
     },
     "user_tz": 180
    },
    "id": "Whkw6JTTGKyU",
    "outputId": "9569fa42-34e5-4b15-a01c-636aec6dd4d7"
   },
   "outputs": [
    {
     "name": "stdout",
     "output_type": "stream",
     "text": [
      "Collecting textaugment\n",
      "  Downloading https://files.pythonhosted.org/packages/2c/63/9960414280dba3d9eba332502231d69fdc8ba664a4bd3d46842ba8cf0ef2/textaugment-1.3.4-py3-none-any.whl\n",
      "Requirement already satisfied: gensim in /usr/local/lib/python3.7/dist-packages (from textaugment) (3.6.0)\n",
      "Collecting googletrans\n",
      "  Downloading https://files.pythonhosted.org/packages/71/3a/3b19effdd4c03958b90f40fe01c93de6d5280e03843cc5adf6956bfc9512/googletrans-3.0.0.tar.gz\n",
      "Requirement already satisfied: numpy in /usr/local/lib/python3.7/dist-packages (from textaugment) (1.19.5)\n",
      "Requirement already satisfied: nltk in /usr/local/lib/python3.7/dist-packages (from textaugment) (3.2.5)\n",
      "Requirement already satisfied: textblob in /usr/local/lib/python3.7/dist-packages (from textaugment) (0.15.3)\n",
      "Requirement already satisfied: six>=1.5.0 in /usr/local/lib/python3.7/dist-packages (from gensim->textaugment) (1.15.0)\n",
      "Requirement already satisfied: scipy>=0.18.1 in /usr/local/lib/python3.7/dist-packages (from gensim->textaugment) (1.4.1)\n",
      "Requirement already satisfied: smart-open>=1.2.1 in /usr/local/lib/python3.7/dist-packages (from gensim->textaugment) (4.2.0)\n",
      "Collecting httpx==0.13.3\n",
      "\u001b[?25l  Downloading https://files.pythonhosted.org/packages/54/b4/698b284c6aed4d7c2b4fe3ba5df1fcf6093612423797e76fbb24890dd22f/httpx-0.13.3-py3-none-any.whl (55kB)\n",
      "\u001b[K     |████████████████████████████████| 61kB 3.3MB/s \n",
      "\u001b[?25hRequirement already satisfied: certifi in /usr/local/lib/python3.7/dist-packages (from httpx==0.13.3->googletrans->textaugment) (2020.12.5)\n",
      "Requirement already satisfied: chardet==3.* in /usr/local/lib/python3.7/dist-packages (from httpx==0.13.3->googletrans->textaugment) (3.0.4)\n",
      "Collecting hstspreload\n",
      "\u001b[?25l  Downloading https://files.pythonhosted.org/packages/dd/50/606213e12fb49c5eb667df0936223dcaf461f94e215ea60244b2b1e9b039/hstspreload-2020.12.22-py3-none-any.whl (994kB)\n",
      "\u001b[K     |████████████████████████████████| 1.0MB 7.2MB/s \n",
      "\u001b[?25hRequirement already satisfied: idna==2.* in /usr/local/lib/python3.7/dist-packages (from httpx==0.13.3->googletrans->textaugment) (2.10)\n",
      "Collecting sniffio\n",
      "  Downloading https://files.pythonhosted.org/packages/52/b0/7b2e028b63d092804b6794595871f936aafa5e9322dcaaad50ebf67445b3/sniffio-1.2.0-py3-none-any.whl\n",
      "Collecting httpcore==0.9.*\n",
      "\u001b[?25l  Downloading https://files.pythonhosted.org/packages/dd/d5/e4ff9318693ac6101a2095e580908b591838c6f33df8d3ee8dd953ba96a8/httpcore-0.9.1-py3-none-any.whl (42kB)\n",
      "\u001b[K     |████████████████████████████████| 51kB 5.7MB/s \n",
      "\u001b[?25hCollecting rfc3986<2,>=1.3\n",
      "  Downloading https://files.pythonhosted.org/packages/78/be/7b8b99fd74ff5684225f50dd0e865393d2265656ef3b4ba9eaaaffe622b8/rfc3986-1.4.0-py2.py3-none-any.whl\n",
      "Collecting h2==3.*\n",
      "\u001b[?25l  Downloading https://files.pythonhosted.org/packages/25/de/da019bcc539eeab02f6d45836f23858ac467f584bfec7a526ef200242afe/h2-3.2.0-py2.py3-none-any.whl (65kB)\n",
      "\u001b[K     |████████████████████████████████| 71kB 6.1MB/s \n",
      "\u001b[?25hCollecting h11<0.10,>=0.8\n",
      "\u001b[?25l  Downloading https://files.pythonhosted.org/packages/5a/fd/3dad730b0f95e78aeeb742f96fa7bbecbdd56a58e405d3da440d5bfb90c6/h11-0.9.0-py2.py3-none-any.whl (53kB)\n",
      "\u001b[K     |████████████████████████████████| 61kB 6.1MB/s \n",
      "\u001b[?25hCollecting hyperframe<6,>=5.2.0\n",
      "  Downloading https://files.pythonhosted.org/packages/19/0c/bf88182bcb5dce3094e2f3e4fe20db28a9928cb7bd5b08024030e4b140db/hyperframe-5.2.0-py2.py3-none-any.whl\n",
      "Collecting hpack<4,>=3.0\n",
      "  Downloading https://files.pythonhosted.org/packages/8a/cc/e53517f4a1e13f74776ca93271caef378dadec14d71c61c949d759d3db69/hpack-3.0.0-py2.py3-none-any.whl\n",
      "Building wheels for collected packages: googletrans\n",
      "  Building wheel for googletrans (setup.py) ... \u001b[?25l\u001b[?25hdone\n",
      "  Created wheel for googletrans: filename=googletrans-3.0.0-cp37-none-any.whl size=15737 sha256=1676f8f5c91674e82c898fcfb3a7248ef586fe7ba514711e46063bd28c9b6942\n",
      "  Stored in directory: /root/.cache/pip/wheels/28/1a/a7/eaf4d7a3417a0c65796c547cff4deb6d79c7d14c2abd29273e\n",
      "Successfully built googletrans\n",
      "Installing collected packages: hstspreload, sniffio, hyperframe, hpack, h2, h11, httpcore, rfc3986, httpx, googletrans, textaugment\n",
      "Successfully installed googletrans-3.0.0 h11-0.9.0 h2-3.2.0 hpack-3.0.0 hstspreload-2020.12.22 httpcore-0.9.1 httpx-0.13.3 hyperframe-5.2.0 rfc3986-1.4.0 sniffio-1.2.0 textaugment-1.3.4\n",
      "[nltk_data] Downloading package averaged_perceptron_tagger to\n",
      "[nltk_data]     /root/nltk_data...\n",
      "[nltk_data]   Package averaged_perceptron_tagger is already up-to-\n",
      "[nltk_data]       date!\n"
     ]
    },
    {
     "data": {
      "text/plain": [
       "True"
      ]
     },
     "execution_count": 16,
     "metadata": {
      "tags": []
     },
     "output_type": "execute_result"
    }
   ],
   "source": [
    "!pip install textaugment\n",
    "nltk.download('averaged_perceptron_tagger')\n",
    "from textaugment import Wordnet\n",
    "from tqdm import tqdm\n",
    "from sklearn.utils import shuffle"
   ]
  },
  {
   "cell_type": "code",
   "execution_count": null,
   "metadata": {
    "id": "D378WfurGS_h"
   },
   "outputs": [],
   "source": [
    "def augment_text(df,samples=1250):\n",
    "    t = Wordnet()\n",
    "    new_text_majority=[]\n",
    "    \n",
    "    ##selecting the majority class samples\n",
    "    df_n=df[df.defaulted==1].reset_index(drop=True)\n",
    "\n",
    "    ## data augmentation loop\n",
    "    for i in tqdm(np.random.randint(0,len(df_n),samples)):\n",
    "        \n",
    "            text = df_n.iloc[i]['en_clean']\n",
    "            augmented_text = t.augment(text)\n",
    "            new_text_majority.append(augmented_text)\n",
    "    \n",
    "    ## dataframe\n",
    "    new=pd.DataFrame({'en_clean':new_text_majority,'defaulted':1})\n",
    "    df=shuffle(df.append(new).reset_index(drop=True))\n",
    "\n",
    "\n",
    "    new_text_minority=[]\n",
    "\n",
    "    ##selecting the minority class samples\n",
    "    df_n=df[df.defaulted==0].reset_index(drop=True)\n",
    "\n",
    "    ## data augmentation loop\n",
    "    for i in tqdm(np.random.randint(0,len(df_n),samples)):\n",
    "        \n",
    "            text = df_n.iloc[i]['en_clean']\n",
    "            augmented_text = t.augment(text)\n",
    "            new_text_minority.append(augmented_text)\n",
    "    \n",
    "\n",
    "    ## dataframe\n",
    "    new=pd.DataFrame({'en_clean':new_text_minority,'defaulted':0})\n",
    "    df=shuffle(df.append(new).reset_index(drop=True))\n",
    "    return df"
   ]
  },
  {
   "cell_type": "code",
   "execution_count": null,
   "metadata": {
    "colab": {
     "base_uri": "https://localhost:8080/"
    },
    "executionInfo": {
     "elapsed": 30311,
     "status": "ok",
     "timestamp": 1618125344291,
     "user": {
      "displayName": "Felipe A. Gomes Ferreira",
      "photoUrl": "",
      "userId": "09095471911889500468"
     },
     "user_tz": 180
    },
    "id": "LZCzW8hFGXwX",
    "outputId": "2e3277f5-533f-4305-d6c4-72f31d097e4f"
   },
   "outputs": [
    {
     "name": "stderr",
     "output_type": "stream",
     "text": [
      "100%|██████████| 1250/1250 [00:12<00:00, 96.76it/s] \n",
      "100%|██████████| 1250/1250 [00:09<00:00, 130.68it/s]\n"
     ]
    }
   ],
   "source": [
    "df = augment_text(df)"
   ]
  },
  {
   "cell_type": "code",
   "execution_count": null,
   "metadata": {
    "colab": {
     "base_uri": "https://localhost:8080/"
    },
    "executionInfo": {
     "elapsed": 30309,
     "status": "ok",
     "timestamp": 1618125344292,
     "user": {
      "displayName": "Felipe A. Gomes Ferreira",
      "photoUrl": "",
      "userId": "09095471911889500468"
     },
     "user_tz": 180
    },
    "id": "46Z1hbP6GkRv",
    "outputId": "ed34c8a1-6394-4171-a19b-c2e35bdd46b9"
   },
   "outputs": [
    {
     "data": {
      "text/plain": [
       "0    4346\n",
       "1    4283\n",
       "Name: defaulted, dtype: int64"
      ]
     },
     "execution_count": 19,
     "metadata": {
      "tags": []
     },
     "output_type": "execute_result"
    }
   ],
   "source": [
    "df['defaulted'].value_counts()"
   ]
  },
  {
   "cell_type": "code",
   "execution_count": null,
   "metadata": {
    "colab": {
     "base_uri": "https://localhost:8080/"
    },
    "executionInfo": {
     "elapsed": 30306,
     "status": "ok",
     "timestamp": 1618125344293,
     "user": {
      "displayName": "Felipe A. Gomes Ferreira",
      "photoUrl": "",
      "userId": "09095471911889500468"
     },
     "user_tz": 180
    },
    "id": "o7AAowcUwrBg",
    "outputId": "235bd198-1e90-4ba7-e81e-4e6549dce0a1"
   },
   "outputs": [
    {
     "data": {
      "text/plain": [
       "loan_id      2500\n",
       "en_clean        0\n",
       "defaulted       0\n",
       "dtype: int64"
      ]
     },
     "execution_count": 20,
     "metadata": {
      "tags": []
     },
     "output_type": "execute_result"
    }
   ],
   "source": [
    "# See if there are null values\n",
    "df.isnull().sum()"
   ]
  },
  {
   "cell_type": "code",
   "execution_count": null,
   "metadata": {
    "colab": {
     "base_uri": "https://localhost:8080/"
    },
    "executionInfo": {
     "elapsed": 30303,
     "status": "ok",
     "timestamp": 1618125344294,
     "user": {
      "displayName": "Felipe A. Gomes Ferreira",
      "photoUrl": "",
      "userId": "09095471911889500468"
     },
     "user_tz": 180
    },
    "id": "DWTWElLYwr96",
    "outputId": "b50699a5-2988-4837-9681-199c4127f730"
   },
   "outputs": [
    {
     "data": {
      "text/plain": [
       "loan_id      0\n",
       "en_clean     0\n",
       "defaulted    0\n",
       "dtype: int64"
      ]
     },
     "execution_count": 21,
     "metadata": {
      "tags": []
     },
     "output_type": "execute_result"
    }
   ],
   "source": [
    "# Drop the NaN values\n",
    "df.dropna(inplace=True)\n",
    "df.isnull().sum()"
   ]
  },
  {
   "cell_type": "markdown",
   "metadata": {
    "id": "6I9xt79wqtFu"
   },
   "source": [
    "Add Sentiment Label Score Feature using Vander package"
   ]
  },
  {
   "cell_type": "code",
   "execution_count": null,
   "metadata": {
    "colab": {
     "base_uri": "https://localhost:8080/"
    },
    "executionInfo": {
     "elapsed": 30300,
     "status": "ok",
     "timestamp": 1618125344295,
     "user": {
      "displayName": "Felipe A. Gomes Ferreira",
      "photoUrl": "",
      "userId": "09095471911889500468"
     },
     "user_tz": 180
    },
    "id": "gaiLOr8PqsRf",
    "outputId": "38ba0546-4e0f-46db-f147-8019a3f3d6f3"
   },
   "outputs": [
    {
     "name": "stdout",
     "output_type": "stream",
     "text": [
      "[nltk_data] Downloading package vader_lexicon to /root/nltk_data...\n"
     ]
    },
    {
     "data": {
      "text/plain": [
       "True"
      ]
     },
     "execution_count": 22,
     "metadata": {
      "tags": []
     },
     "output_type": "execute_result"
    },
    {
     "name": "stderr",
     "output_type": "stream",
     "text": [
      "/usr/local/lib/python3.7/dist-packages/nltk/twitter/__init__.py:20: UserWarning: The twython library has not been installed. Some functionality from the twitter package will not be available.\n",
      "  warnings.warn(\"The twython library has not been installed. \"\n"
     ]
    }
   ],
   "source": [
    "import nltk\n",
    "nltk.download('vader_lexicon')\n",
    "from nltk.sentiment.vader import SentimentIntensityAnalyzer\n",
    "\n",
    "sid = SentimentIntensityAnalyzer()"
   ]
  },
  {
   "cell_type": "code",
   "execution_count": null,
   "metadata": {
    "colab": {
     "base_uri": "https://localhost:8080/"
    },
    "executionInfo": {
     "elapsed": 30297,
     "status": "ok",
     "timestamp": 1618125344296,
     "user": {
      "displayName": "Felipe A. Gomes Ferreira",
      "photoUrl": "",
      "userId": "09095471911889500468"
     },
     "user_tz": 180
    },
    "id": "Jg1liDNnrFFu",
    "outputId": "9e02a2f1-0a75-4cfc-dad6-52f3a819d417"
   },
   "outputs": [
    {
     "data": {
      "text/plain": [
       "{'compound': 0.4404, 'neg': 0.0, 'neu': 0.508, 'pos': 0.492}"
      ]
     },
     "execution_count": 23,
     "metadata": {
      "tags": []
     },
     "output_type": "execute_result"
    }
   ],
   "source": [
    "a = 'This was a good movie.'\n",
    "sid.polarity_scores(a)\n"
   ]
  },
  {
   "cell_type": "code",
   "execution_count": null,
   "metadata": {
    "id": "5_tR43zvrQKd"
   },
   "outputs": [],
   "source": [
    "df['scores'] = df['en_clean'].apply(lambda review: sid.polarity_scores(review))\n"
   ]
  },
  {
   "cell_type": "code",
   "execution_count": null,
   "metadata": {
    "colab": {
     "base_uri": "https://localhost:8080/",
     "height": 669
    },
    "executionInfo": {
     "elapsed": 40230,
     "status": "ok",
     "timestamp": 1618125354235,
     "user": {
      "displayName": "Felipe A. Gomes Ferreira",
      "photoUrl": "",
      "userId": "09095471911889500468"
     },
     "user_tz": 180
    },
    "id": "9xBgAKpPsA0Q",
    "outputId": "e5a97005-2fb1-41b2-deb1-6eff55cd5e75"
   },
   "outputs": [
    {
     "data": {
      "text/html": [
       "<div>\n",
       "<style scoped>\n",
       "    .dataframe tbody tr th:only-of-type {\n",
       "        vertical-align: middle;\n",
       "    }\n",
       "\n",
       "    .dataframe tbody tr th {\n",
       "        vertical-align: top;\n",
       "    }\n",
       "\n",
       "    .dataframe thead th {\n",
       "        text-align: right;\n",
       "    }\n",
       "</style>\n",
       "<table border=\"1\" class=\"dataframe\">\n",
       "  <thead>\n",
       "    <tr style=\"text-align: right;\">\n",
       "      <th></th>\n",
       "      <th>loan_id</th>\n",
       "      <th>en_clean</th>\n",
       "      <th>defaulted</th>\n",
       "      <th>scores</th>\n",
       "      <th>compound</th>\n",
       "      <th>comp_score</th>\n",
       "    </tr>\n",
       "  </thead>\n",
       "  <tbody>\n",
       "    <tr>\n",
       "      <th>773</th>\n",
       "      <td>1254.0</td>\n",
       "      <td>I am a married father of 4. I am the main brea...</td>\n",
       "      <td>1</td>\n",
       "      <td>{'neg': 0.029, 'neu': 0.845, 'pos': 0.126, 'co...</td>\n",
       "      <td>0.6908</td>\n",
       "      <td>1</td>\n",
       "    </tr>\n",
       "    <tr>\n",
       "      <th>5163</th>\n",
       "      <td>2874.0</td>\n",
       "      <td>Graciela is an experienced entrepreneur and mo...</td>\n",
       "      <td>1</td>\n",
       "      <td>{'neg': 0.0, 'neu': 0.821, 'pos': 0.179, 'comp...</td>\n",
       "      <td>0.9517</td>\n",
       "      <td>1</td>\n",
       "    </tr>\n",
       "    <tr>\n",
       "      <th>928</th>\n",
       "      <td>3894.0</td>\n",
       "      <td>Don Walter has successfully repaid his first l...</td>\n",
       "      <td>0</td>\n",
       "      <td>{'neg': 0.023, 'neu': 0.85, 'pos': 0.127, 'com...</td>\n",
       "      <td>0.9786</td>\n",
       "      <td>1</td>\n",
       "    </tr>\n",
       "    <tr>\n",
       "      <th>3921</th>\n",
       "      <td>5988.0</td>\n",
       "      <td>Jos has only worked in agriculture; he has had...</td>\n",
       "      <td>0</td>\n",
       "      <td>{'neg': 0.0, 'neu': 0.846, 'pos': 0.154, 'comp...</td>\n",
       "      <td>0.9817</td>\n",
       "      <td>1</td>\n",
       "    </tr>\n",
       "    <tr>\n",
       "      <th>1505</th>\n",
       "      <td>1555.0</td>\n",
       "      <td>Judith Wathithi Mikori is 37 years old and mar...</td>\n",
       "      <td>1</td>\n",
       "      <td>{'neg': 0.0, 'neu': 0.94, 'pos': 0.06, 'compou...</td>\n",
       "      <td>0.7783</td>\n",
       "      <td>1</td>\n",
       "    </tr>\n",
       "    <tr>\n",
       "      <th>736</th>\n",
       "      <td>518.0</td>\n",
       "      <td>Lilian is a young mother who was married off a...</td>\n",
       "      <td>1</td>\n",
       "      <td>{'neg': 0.0, 'neu': 0.914, 'pos': 0.086, 'comp...</td>\n",
       "      <td>0.5423</td>\n",
       "      <td>1</td>\n",
       "    </tr>\n",
       "    <tr>\n",
       "      <th>2482</th>\n",
       "      <td>4783.0</td>\n",
       "      <td>Rhoda is married with two children. Both have ...</td>\n",
       "      <td>0</td>\n",
       "      <td>{'neg': 0.0, 'neu': 0.829, 'pos': 0.171, 'comp...</td>\n",
       "      <td>0.9538</td>\n",
       "      <td>1</td>\n",
       "    </tr>\n",
       "    <tr>\n",
       "      <th>2998</th>\n",
       "      <td>7095.0</td>\n",
       "      <td>Margarita was born and raised in the Ochocient...</td>\n",
       "      <td>0</td>\n",
       "      <td>{'neg': 0.0, 'neu': 0.943, 'pos': 0.057, 'comp...</td>\n",
       "      <td>0.6486</td>\n",
       "      <td>1</td>\n",
       "    </tr>\n",
       "    <tr>\n",
       "      <th>7131</th>\n",
       "      <td>6275.0</td>\n",
       "      <td>Elba is 59 years old. She has  seven children ...</td>\n",
       "      <td>0</td>\n",
       "      <td>{'neg': 0.029, 'neu': 0.922, 'pos': 0.049, 'co...</td>\n",
       "      <td>0.3612</td>\n",
       "      <td>1</td>\n",
       "    </tr>\n",
       "    <tr>\n",
       "      <th>3549</th>\n",
       "      <td>6329.0</td>\n",
       "      <td>Sonia lives in Batey, the migrant camps which ...</td>\n",
       "      <td>0</td>\n",
       "      <td>{'neg': 0.0, 'neu': 0.915, 'pos': 0.085, 'comp...</td>\n",
       "      <td>0.8555</td>\n",
       "      <td>1</td>\n",
       "    </tr>\n",
       "    <tr>\n",
       "      <th>5153</th>\n",
       "      <td>6099.0</td>\n",
       "      <td>Cristina Geraldino is the proud mother of 3 ch...</td>\n",
       "      <td>0</td>\n",
       "      <td>{'neg': 0.012, 'neu': 0.924, 'pos': 0.064, 'co...</td>\n",
       "      <td>0.8034</td>\n",
       "      <td>1</td>\n",
       "    </tr>\n",
       "    <tr>\n",
       "      <th>407</th>\n",
       "      <td>4702.0</td>\n",
       "      <td>Mercedes has been selling ceviches door to doo...</td>\n",
       "      <td>0</td>\n",
       "      <td>{'neg': 0.022, 'neu': 0.878, 'pos': 0.1, 'comp...</td>\n",
       "      <td>0.9538</td>\n",
       "      <td>1</td>\n",
       "    </tr>\n",
       "    <tr>\n",
       "      <th>3372</th>\n",
       "      <td>1946.0</td>\n",
       "      <td>Harrison Maina Munge is a single 23 year old. ...</td>\n",
       "      <td>1</td>\n",
       "      <td>{'neg': 0.031, 'neu': 0.794, 'pos': 0.175, 'co...</td>\n",
       "      <td>0.9831</td>\n",
       "      <td>1</td>\n",
       "    </tr>\n",
       "    <tr>\n",
       "      <th>2032</th>\n",
       "      <td>3278.0</td>\n",
       "      <td>This group, composed of five women, is led by ...</td>\n",
       "      <td>1</td>\n",
       "      <td>{'neg': 0.011, 'neu': 0.829, 'pos': 0.16, 'com...</td>\n",
       "      <td>0.9839</td>\n",
       "      <td>1</td>\n",
       "    </tr>\n",
       "    <tr>\n",
       "      <th>5093</th>\n",
       "      <td>5476.0</td>\n",
       "      <td>Gertrudis Hernndez and her husband Juan Fulgen...</td>\n",
       "      <td>0</td>\n",
       "      <td>{'neg': 0.0, 'neu': 0.831, 'pos': 0.169, 'comp...</td>\n",
       "      <td>0.9716</td>\n",
       "      <td>1</td>\n",
       "    </tr>\n",
       "    <tr>\n",
       "      <th>4682</th>\n",
       "      <td>6203.0</td>\n",
       "      <td>Mr. Jos Delgado and his family run an autmobil...</td>\n",
       "      <td>0</td>\n",
       "      <td>{'neg': 0.0, 'neu': 0.954, 'pos': 0.046, 'comp...</td>\n",
       "      <td>0.6597</td>\n",
       "      <td>1</td>\n",
       "    </tr>\n",
       "    <tr>\n",
       "      <th>3518</th>\n",
       "      <td>6782.0</td>\n",
       "      <td>Mara Antonia is a forty-six-year-old, experien...</td>\n",
       "      <td>0</td>\n",
       "      <td>{'neg': 0.011, 'neu': 0.92, 'pos': 0.07, 'comp...</td>\n",
       "      <td>0.8126</td>\n",
       "      <td>1</td>\n",
       "    </tr>\n",
       "    <tr>\n",
       "      <th>2733</th>\n",
       "      <td>67.0</td>\n",
       "      <td>Jackson is married and with one child. He took...</td>\n",
       "      <td>1</td>\n",
       "      <td>{'neg': 0.011, 'neu': 0.908, 'pos': 0.081, 'co...</td>\n",
       "      <td>0.9447</td>\n",
       "      <td>1</td>\n",
       "    </tr>\n",
       "    <tr>\n",
       "      <th>6608</th>\n",
       "      <td>1560.0</td>\n",
       "      <td>James is thirty eight years old and is married...</td>\n",
       "      <td>1</td>\n",
       "      <td>{'neg': 0.061, 'neu': 0.842, 'pos': 0.098, 'co...</td>\n",
       "      <td>0.9064</td>\n",
       "      <td>1</td>\n",
       "    </tr>\n",
       "    <tr>\n",
       "      <th>820</th>\n",
       "      <td>5355.0</td>\n",
       "      <td>Jacinto is a hard working farmer who grew up i...</td>\n",
       "      <td>0</td>\n",
       "      <td>{'neg': 0.011, 'neu': 0.923, 'pos': 0.066, 'co...</td>\n",
       "      <td>0.7351</td>\n",
       "      <td>1</td>\n",
       "    </tr>\n",
       "  </tbody>\n",
       "</table>\n",
       "</div>"
      ],
      "text/plain": [
       "      loan_id  ... comp_score\n",
       "773    1254.0  ...          1\n",
       "5163   2874.0  ...          1\n",
       "928    3894.0  ...          1\n",
       "3921   5988.0  ...          1\n",
       "1505   1555.0  ...          1\n",
       "736     518.0  ...          1\n",
       "2482   4783.0  ...          1\n",
       "2998   7095.0  ...          1\n",
       "7131   6275.0  ...          1\n",
       "3549   6329.0  ...          1\n",
       "5153   6099.0  ...          1\n",
       "407    4702.0  ...          1\n",
       "3372   1946.0  ...          1\n",
       "2032   3278.0  ...          1\n",
       "5093   5476.0  ...          1\n",
       "4682   6203.0  ...          1\n",
       "3518   6782.0  ...          1\n",
       "2733     67.0  ...          1\n",
       "6608   1560.0  ...          1\n",
       "820    5355.0  ...          1\n",
       "\n",
       "[20 rows x 6 columns]"
      ]
     },
     "execution_count": 25,
     "metadata": {
      "tags": []
     },
     "output_type": "execute_result"
    }
   ],
   "source": [
    "df['compound']  = df['scores'].apply(lambda score_dict: score_dict['compound'])\n",
    "df['comp_score'] = df['compound'].apply(lambda c: 1 if c >=0 else 0)\n",
    "\n",
    "df.head(20)"
   ]
  },
  {
   "cell_type": "code",
   "execution_count": null,
   "metadata": {
    "id": "slgZa74MVFxB"
   },
   "outputs": [],
   "source": [
    "import spacy\n",
    "from functools import partial\n",
    "def spacy_tokenize(text, nlp):\n",
    "    return [x.orth_ for x in nlp(text)]\n",
    "\n",
    "nlp = spacy.load('en', disable=['ner', 'parser', 'tagger'])\n",
    "tok = partial(spacy_tokenize, nlp=nlp)"
   ]
  },
  {
   "cell_type": "code",
   "execution_count": null,
   "metadata": {
    "id": "kKZP5uJ0dboP"
   },
   "outputs": [],
   "source": [
    "#funtion to get 'top N' or 'bottom N' words\n",
    "from sklearn.feature_extraction.text import TfidfVectorizer, CountVectorizer\n",
    "def get_n_words(corpus, direction, n):\n",
    "    vec = CountVectorizer(stop_words = 'english').fit(corpus)\n",
    "    bag_of_words = vec.transform(corpus)\n",
    "    sum_words = bag_of_words.sum(axis=0) \n",
    "    words_freq = [(word, sum_words[0, idx]) for word, idx in vec.vocabulary_.items()]\n",
    "    if direction == \"top\":\n",
    "        words_freq =sorted(words_freq, key = lambda x: x[1], reverse=True)\n",
    "    else:\n",
    "        words_freq =sorted(words_freq, key = lambda x: x[1], reverse=False)\n",
    "    return words_freq[:n]"
   ]
  },
  {
   "cell_type": "code",
   "execution_count": null,
   "metadata": {
    "id": "QQi4GTYedns9"
   },
   "outputs": [],
   "source": [
    "#10 most common and 10 most rare words\n",
    "common_words = get_n_words(df['en_clean'], \"top\", 15)\n",
    "rare_words = get_n_words(df['en_clean'], \"bottom\", 800)\n",
    "#common_words, rare_words"
   ]
  },
  {
   "cell_type": "code",
   "execution_count": null,
   "metadata": {
    "colab": {
     "base_uri": "https://localhost:8080/"
    },
    "executionInfo": {
     "elapsed": 58324,
     "status": "ok",
     "timestamp": 1618125372342,
     "user": {
      "displayName": "Felipe A. Gomes Ferreira",
      "photoUrl": "",
      "userId": "09095471911889500468"
     },
     "user_tz": 180
    },
    "id": "2Pku10w2d2Ng",
    "outputId": "90c0539a-ea57-4782-d6b0-ab38cee1b69c"
   },
   "outputs": [
    {
     "name": "stdout",
     "output_type": "stream",
     "text": [
      "CPU times: user 15.1 s, sys: 56 ms, total: 15.2 s\n",
      "Wall time: 15.1 s\n"
     ]
    }
   ],
   "source": [
    "#Removing common and rare words\n",
    "#%time df['en_clean'] = df['en_clean'].map(lambda x : ' '.join([w for w in x.split() if w not in common_words]))\n",
    "%time df['en_clean'] = df['en_clean'].map(lambda x : ' '.join([w for w in x.split() if w not in rare_words]))"
   ]
  },
  {
   "cell_type": "code",
   "execution_count": null,
   "metadata": {
    "colab": {
     "base_uri": "https://localhost:8080/",
     "height": 359
    },
    "executionInfo": {
     "elapsed": 58322,
     "status": "ok",
     "timestamp": 1618125372343,
     "user": {
      "displayName": "Felipe A. Gomes Ferreira",
      "photoUrl": "",
      "userId": "09095471911889500468"
     },
     "user_tz": 180
    },
    "id": "oUcVq6R1usfd",
    "outputId": "becdff68-073a-44ac-885f-449b76f8758e"
   },
   "outputs": [
    {
     "data": {
      "text/html": [
       "<div>\n",
       "<style scoped>\n",
       "    .dataframe tbody tr th:only-of-type {\n",
       "        vertical-align: middle;\n",
       "    }\n",
       "\n",
       "    .dataframe tbody tr th {\n",
       "        vertical-align: top;\n",
       "    }\n",
       "\n",
       "    .dataframe thead th {\n",
       "        text-align: right;\n",
       "    }\n",
       "</style>\n",
       "<table border=\"1\" class=\"dataframe\">\n",
       "  <thead>\n",
       "    <tr style=\"text-align: right;\">\n",
       "      <th></th>\n",
       "      <th>loan_id</th>\n",
       "      <th>en_clean</th>\n",
       "      <th>defaulted</th>\n",
       "      <th>scores</th>\n",
       "      <th>compound</th>\n",
       "      <th>comp_score</th>\n",
       "    </tr>\n",
       "  </thead>\n",
       "  <tbody>\n",
       "    <tr>\n",
       "      <th>773</th>\n",
       "      <td>1254.0</td>\n",
       "      <td>I am a married father of 4. I am the main brea...</td>\n",
       "      <td>1</td>\n",
       "      <td>{'neg': 0.029, 'neu': 0.845, 'pos': 0.126, 'co...</td>\n",
       "      <td>0.6908</td>\n",
       "      <td>1</td>\n",
       "    </tr>\n",
       "    <tr>\n",
       "      <th>5163</th>\n",
       "      <td>2874.0</td>\n",
       "      <td>Graciela is an experienced entrepreneur and mo...</td>\n",
       "      <td>1</td>\n",
       "      <td>{'neg': 0.0, 'neu': 0.821, 'pos': 0.179, 'comp...</td>\n",
       "      <td>0.9517</td>\n",
       "      <td>1</td>\n",
       "    </tr>\n",
       "    <tr>\n",
       "      <th>928</th>\n",
       "      <td>3894.0</td>\n",
       "      <td>Don Walter has successfully repaid his first l...</td>\n",
       "      <td>0</td>\n",
       "      <td>{'neg': 0.023, 'neu': 0.85, 'pos': 0.127, 'com...</td>\n",
       "      <td>0.9786</td>\n",
       "      <td>1</td>\n",
       "    </tr>\n",
       "    <tr>\n",
       "      <th>3921</th>\n",
       "      <td>5988.0</td>\n",
       "      <td>Jos has only worked in agriculture; he has had...</td>\n",
       "      <td>0</td>\n",
       "      <td>{'neg': 0.0, 'neu': 0.846, 'pos': 0.154, 'comp...</td>\n",
       "      <td>0.9817</td>\n",
       "      <td>1</td>\n",
       "    </tr>\n",
       "    <tr>\n",
       "      <th>1505</th>\n",
       "      <td>1555.0</td>\n",
       "      <td>Judith Wathithi Mikori is 37 years old and mar...</td>\n",
       "      <td>1</td>\n",
       "      <td>{'neg': 0.0, 'neu': 0.94, 'pos': 0.06, 'compou...</td>\n",
       "      <td>0.7783</td>\n",
       "      <td>1</td>\n",
       "    </tr>\n",
       "    <tr>\n",
       "      <th>736</th>\n",
       "      <td>518.0</td>\n",
       "      <td>Lilian is a young mother who was married off a...</td>\n",
       "      <td>1</td>\n",
       "      <td>{'neg': 0.0, 'neu': 0.914, 'pos': 0.086, 'comp...</td>\n",
       "      <td>0.5423</td>\n",
       "      <td>1</td>\n",
       "    </tr>\n",
       "    <tr>\n",
       "      <th>2482</th>\n",
       "      <td>4783.0</td>\n",
       "      <td>Rhoda is married with two children. Both have ...</td>\n",
       "      <td>0</td>\n",
       "      <td>{'neg': 0.0, 'neu': 0.829, 'pos': 0.171, 'comp...</td>\n",
       "      <td>0.9538</td>\n",
       "      <td>1</td>\n",
       "    </tr>\n",
       "    <tr>\n",
       "      <th>2998</th>\n",
       "      <td>7095.0</td>\n",
       "      <td>Margarita was born and raised in the Ochocient...</td>\n",
       "      <td>0</td>\n",
       "      <td>{'neg': 0.0, 'neu': 0.943, 'pos': 0.057, 'comp...</td>\n",
       "      <td>0.6486</td>\n",
       "      <td>1</td>\n",
       "    </tr>\n",
       "    <tr>\n",
       "      <th>7131</th>\n",
       "      <td>6275.0</td>\n",
       "      <td>Elba is 59 years old. She has seven children a...</td>\n",
       "      <td>0</td>\n",
       "      <td>{'neg': 0.029, 'neu': 0.922, 'pos': 0.049, 'co...</td>\n",
       "      <td>0.3612</td>\n",
       "      <td>1</td>\n",
       "    </tr>\n",
       "    <tr>\n",
       "      <th>3549</th>\n",
       "      <td>6329.0</td>\n",
       "      <td>Sonia lives in Batey, the migrant camps which ...</td>\n",
       "      <td>0</td>\n",
       "      <td>{'neg': 0.0, 'neu': 0.915, 'pos': 0.085, 'comp...</td>\n",
       "      <td>0.8555</td>\n",
       "      <td>1</td>\n",
       "    </tr>\n",
       "  </tbody>\n",
       "</table>\n",
       "</div>"
      ],
      "text/plain": [
       "      loan_id  ... comp_score\n",
       "773    1254.0  ...          1\n",
       "5163   2874.0  ...          1\n",
       "928    3894.0  ...          1\n",
       "3921   5988.0  ...          1\n",
       "1505   1555.0  ...          1\n",
       "736     518.0  ...          1\n",
       "2482   4783.0  ...          1\n",
       "2998   7095.0  ...          1\n",
       "7131   6275.0  ...          1\n",
       "3549   6329.0  ...          1\n",
       "\n",
       "[10 rows x 6 columns]"
      ]
     },
     "execution_count": 30,
     "metadata": {
      "tags": []
     },
     "output_type": "execute_result"
    }
   ],
   "source": [
    "df.head(10)"
   ]
  },
  {
   "cell_type": "markdown",
   "metadata": {
    "id": "RjUgRW1N6ppS"
   },
   "source": [
    "# Train Test Split"
   ]
  },
  {
   "cell_type": "code",
   "execution_count": null,
   "metadata": {
    "id": "ksKqf_fV6pIO"
   },
   "outputs": [],
   "source": [
    "from sklearn.model_selection import train_test_split, StratifiedKFold, RandomizedSearchCV\n",
    "\n",
    "X = df['en_clean']\n",
    "y = df['defaulted']\n",
    "\n",
    "# So that we can evaluate how well our model is performing, we split our training data\n",
    "# into training and validation.\n",
    "\n",
    "X_train, X_val, y_train, y_val = train_test_split(X, y, random_state=42)"
   ]
  },
  {
   "cell_type": "code",
   "execution_count": null,
   "metadata": {
    "colab": {
     "base_uri": "https://localhost:8080/"
    },
    "executionInfo": {
     "elapsed": 58317,
     "status": "ok",
     "timestamp": 1618125372345,
     "user": {
      "displayName": "Felipe A. Gomes Ferreira",
      "photoUrl": "",
      "userId": "09095471911889500468"
     },
     "user_tz": 180
    },
    "id": "m8acyCrZt3sO",
    "outputId": "1748820b-16a7-48f4-c1b7-45b3e240c7c3"
   },
   "outputs": [
    {
     "data": {
      "text/plain": [
       "773     I am a married father of 4. I am the main brea...\n",
       "5163    Graciela is an experienced entrepreneur and mo...\n",
       "928     Don Walter has successfully repaid his first l...\n",
       "3921    Jos has only worked in agriculture; he has had...\n",
       "1505    Judith Wathithi Mikori is 37 years old and mar...\n",
       "                              ...                        \n",
       "3623    Alexandra is 24 years old. She lives with her ...\n",
       "1558    Natalia is thirty-nine years old and a single ...\n",
       "5016    Flora Muthoni is 43 years old, married, with 6...\n",
       "4581    Luisa Guillermina was born and raised in her s...\n",
       "3374    This group hopes to use their first microfinan...\n",
       "Name: en_clean, Length: 6129, dtype: object"
      ]
     },
     "execution_count": 32,
     "metadata": {
      "tags": []
     },
     "output_type": "execute_result"
    }
   ],
   "source": [
    "X"
   ]
  },
  {
   "cell_type": "markdown",
   "metadata": {
    "id": "598AtzLCo_oV"
   },
   "source": [
    "# Feature Engineering and Extraction Pipeline"
   ]
  },
  {
   "cell_type": "code",
   "execution_count": null,
   "metadata": {
    "id": "y4D4cu49o_oS"
   },
   "outputs": [],
   "source": [
    "import re\n",
    "import unidecode\n",
    "\n",
    "# A nice preprocessing function that we can pass to CountVectorizer/TfidfVectorizer\n",
    "def my_preprocess(doc):\n",
    "\n",
    "    # Lowercase everything\n",
    "    res = doc.lower()\n",
    "    \n",
    "    # Remove any \"weird\" characters\n",
    "    res = unidecode.unidecode(res)\n",
    "\n",
    "    #print(res)\n",
    "\n",
    "    # TODO: What else?\n",
    "    SYM_REPLACE = re.compile('[/(){}\\[\\]\\|@,;]')\n",
    "    REM_SYMBOLS_RE = re.compile('[^0-9a-z #+_]')\n",
    "    res = SYM_REPLACE.sub(' ', res) \n",
    "    res = REM_SYMBOLS_RE.sub('', res) \n",
    "\n",
    "    # Create Lemmatizer object\n",
    "    wnl = WordNetLemmatizer()\n",
    "    list2 = nltk.word_tokenize(res)\n",
    "    res = ' '.join([wnl.lemmatize(words) for words in list2])\n",
    "\n",
    "    # Remove stopwords\n",
    "    all_stopwords = nlp.Defaults.stop_words\n",
    "    text_tokens = word_tokenize(res)\n",
    "    tokens_without_sw = [word for word in text_tokens if not word in all_stopwords]\n",
    "    res = (\" \").join(tokens_without_sw)\n",
    "\n",
    "    return res"
   ]
  },
  {
   "cell_type": "code",
   "execution_count": null,
   "metadata": {
    "id": "TOad40BVj5gU"
   },
   "outputs": [],
   "source": [
    "# These functions will calculate additional features on the document.\n",
    "# They will be put into the Pipeline, called via the FunctionTransformer() function.\n",
    "# Each one takes an entire corpus (as a list of documents), and should return\n",
    "# an array of feature values (one for each document in the corpus).\n",
    "# These functions can do anything they want; I've made most of them quick\n",
    "# one-liners Hopefully the names of the functions will make them self explanitory.\n",
    "\n",
    "def doc_length(corpus):\n",
    "    #print(corpus)\n",
    "    return np.array([len(doc) for doc in corpus]).reshape(-1, 1)\n",
    "\n",
    "def num_exclamation_marks(corpus):\n",
    "    return np.array([doc.count('!') for doc in corpus]).reshape(-1, 1)\n",
    "\n",
    "def count_loan(corpus):\n",
    "    return np.array([doc.count('loan') for doc in corpus]).reshape(-1, 1)\n",
    "\n",
    "def generate_sentiment_score(corpus):\n",
    "  score_dict = [sid.polarity_scores(doc) for doc in corpus]\n",
    "  score = []\n",
    "  for key in score_dict:\n",
    "    #print(key['compound'])\n",
    "    score.append(key['compound'])\n",
    "\n",
    "    # if key['compound'] >= 0:\n",
    "    #   score.append(1)\n",
    "    # else:\n",
    "    #   score.append(1)\n",
    "  return np.array(score).reshape(-1, 1)\n"
   ]
  },
  {
   "cell_type": "code",
   "execution_count": null,
   "metadata": {
    "id": "AjQQB8FRkFm-"
   },
   "outputs": [],
   "source": [
    "from sklearn.pipeline import Pipeline, FeatureUnion\n",
    "from sklearn.ensemble import RandomForestClassifier\n",
    "from sklearn.preprocessing import FunctionTransformer\n",
    "from sklearn.ensemble import AdaBoostClassifier\n",
    "from sklearn.tree import DecisionTreeClassifier\n",
    "\n",
    "#0.86 - F1 macro using random forest\n",
    "vectorizer = CountVectorizer(preprocessor=my_preprocess,  tokenizer=tok,min_df=2, \n",
    "                             max_df=0.5, max_features=1000,\n",
    "                             stop_words='english', ngram_range=(1, 2))\n",
    "# vectorizer = CountVectorizer(preprocessor=my_preprocess, min_df=2, \n",
    "#                              max_df=0.5, max_features=1000,\n",
    "#                              ngram_range=(1, 2))\n",
    "# This vectorizer will be used to create the BOW features.\n",
    "# vectorizer = TfidfVectorizer(preprocessor=my_preprocess, \n",
    "#                              tokenizer=tok,\n",
    "#                              max_features = 1000, \n",
    "#                              use_idf=True,\n",
    "#                              stop_words='english',\n",
    "#                              min_df=2, max_df=10, ngram_range=[1,2])\n",
    "\n",
    "rf = RandomForestClassifier(criterion='entropy', random_state=1)\n",
    "\n",
    "# We will \"union\" together the BOW features and the custom-created features we\n",
    "# created in the cell above.\n",
    "feature_processing =  FeatureUnion([ \n",
    "    ('bow', Pipeline([('vectorizer', vectorizer), ])),\n",
    "    ('doc_length', FunctionTransformer(doc_length, validate=False)),\n",
    "    ('num_exclamation_marks', FunctionTransformer(num_exclamation_marks, validate=False)),\n",
    "    ('sentiment_score', FunctionTransformer(generate_sentiment_score, validate=False)),  \n",
    "   # ('count_loan', FunctionTransformer(count_loan, validate=False)),  \n",
    "])\n",
    "\n",
    "pipe = Pipeline([('features', feature_processing), ('clf', rf)])"
   ]
  },
  {
   "cell_type": "markdown",
   "metadata": {
    "id": "isb2-cFWJ5lX"
   },
   "source": [
    "# Model Training/Tuning/Cross Validation\n"
   ]
  },
  {
   "cell_type": "code",
   "execution_count": null,
   "metadata": {
    "colab": {
     "base_uri": "https://localhost:8080/"
    },
    "executionInfo": {
     "elapsed": 6588664,
     "status": "ok",
     "timestamp": 1618131902706,
     "user": {
      "displayName": "Felipe A. Gomes Ferreira",
      "photoUrl": "",
      "userId": "09095471911889500468"
     },
     "user_tz": 180
    },
    "id": "thGaEG4dkv2t",
    "outputId": "bfd64f2f-faae-4e68-f115-cbe64273578e"
   },
   "outputs": [
    {
     "name": "stdout",
     "output_type": "stream",
     "text": [
      "Fitting 5 folds for each of 143 candidates, totalling 715 fits\n"
     ]
    },
    {
     "name": "stderr",
     "output_type": "stream",
     "text": [
      "[Parallel(n_jobs=5)]: Using backend LokyBackend with 5 concurrent workers.\n",
      "/usr/local/lib/python3.7/dist-packages/joblib/externals/loky/process_executor.py:691: UserWarning: A worker stopped while some jobs were given to the executor. This can be caused by a too short worker timeout or by a memory leak.\n",
      "  \"timeout or by a memory leak.\", UserWarning\n",
      "[Parallel(n_jobs=5)]: Done  31 tasks      | elapsed:  4.6min\n",
      "[Parallel(n_jobs=5)]: Done 152 tasks      | elapsed: 20.8min\n",
      "[Parallel(n_jobs=5)]: Done 355 tasks      | elapsed: 49.7min\n",
      "[Parallel(n_jobs=5)]: Done 638 tasks      | elapsed: 95.0min\n",
      "[Parallel(n_jobs=5)]: Done 715 out of 715 | elapsed: 108.1min finished\n",
      "/usr/local/lib/python3.7/dist-packages/sklearn/feature_extraction/text.py:385: UserWarning: Your stop_words may be inconsistent with your preprocessing. Tokenizing the stop words generated tokens ['ca', 'ha', 'le', 'nt', 'u', 'wa'] not in stop_words.\n",
      "  'stop_words.' % sorted(inconsistent))\n"
     ]
    }
   ],
   "source": [
    "from sklearn.model_selection import GridSearchCV\n",
    "\n",
    "# The names of the hypter parameters may look a bit funny; it's based on how they\n",
    "# are added to the Pipeline object above (and seperated with double underscores)\n",
    "# param_grid = {\n",
    "#     'features__bow__vectorizer__max_features': [1000,1200, 1300, 1500],\n",
    "#     'features__bow__vectorizer__use_idf': [True, False],\n",
    "#     'clf__n_estimators': [10, 100,200],\n",
    "#     'features__doc_length' : [True, False],\n",
    "#     'features__num_exclamation_marks' : [True, False],\n",
    "#     'features__sentiment_score' : [True, False],\n",
    "\n",
    "# }\n",
    "\n",
    "param_grid = {\n",
    "    'features__bow__vectorizer__max_features': [500, 1000,1150,1200, 1300,2000,2500,3000,3500,4000,5000,6000,7000],\n",
    "    'clf__n_estimators': [10, 100, 150, 200, 225, 250, 300, 350, 400, 450, 500],\n",
    "    'features__bow__vectorizer__ngram_range': [(1, 2)],\n",
    "}\n",
    "\n",
    "\n",
    "#cv = StratifiedKFold(n_splits=8)\n",
    "search = GridSearchCV(pipe, \n",
    "                      param_grid, \n",
    "                      cv=5, \n",
    "                      n_jobs=5, \n",
    "                      scoring='f1_macro', \n",
    "                      return_train_score=True, \n",
    "                      verbose=2)\n",
    "\n",
    "search = search.fit(X_train, y_train)"
   ]
  },
  {
   "cell_type": "code",
   "execution_count": null,
   "metadata": {
    "colab": {
     "base_uri": "https://localhost:8080/"
    },
    "executionInfo": {
     "elapsed": 6588661,
     "status": "ok",
     "timestamp": 1618131902707,
     "user": {
      "displayName": "Felipe A. Gomes Ferreira",
      "photoUrl": "",
      "userId": "09095471911889500468"
     },
     "user_tz": 180
    },
    "id": "haxVEq0chNc_",
    "outputId": "3728aad5-2fc7-48ef-c409-bbca96e17076"
   },
   "outputs": [
    {
     "name": "stdout",
     "output_type": "stream",
     "text": [
      "Best parameter (CV score: 0.85470):\n",
      "{'clf__n_estimators': 500, 'features__bow__vectorizer__max_features': 1000, 'features__bow__vectorizer__ngram_range': (1, 2)}\n"
     ]
    }
   ],
   "source": [
    "print(\"Best parameter (CV score: %0.5f):\" % search.best_score_)\n",
    "print(search.best_params_)"
   ]
  },
  {
   "cell_type": "code",
   "execution_count": null,
   "metadata": {
    "colab": {
     "base_uri": "https://localhost:8080/"
    },
    "executionInfo": {
     "elapsed": 7412529,
     "status": "ok",
     "timestamp": 1618132726578,
     "user": {
      "displayName": "Felipe A. Gomes Ferreira",
      "photoUrl": "",
      "userId": "09095471911889500468"
     },
     "user_tz": 180
    },
    "id": "zo1ErxuDiDzD",
    "outputId": "38a6f888-d6f6-4967-b6df-b421181a80fb"
   },
   "outputs": [
    {
     "name": "stdout",
     "output_type": "stream",
     "text": [
      "Fitting 8 folds for each of 10 candidates, totalling 80 fits\n"
     ]
    },
    {
     "name": "stderr",
     "output_type": "stream",
     "text": [
      "[Parallel(n_jobs=5)]: Using backend LokyBackend with 5 concurrent workers.\n",
      "/usr/local/lib/python3.7/dist-packages/joblib/externals/loky/process_executor.py:691: UserWarning: A worker stopped while some jobs were given to the executor. This can be caused by a too short worker timeout or by a memory leak.\n",
      "  \"timeout or by a memory leak.\", UserWarning\n",
      "[Parallel(n_jobs=5)]: Done   8 tasks      | elapsed:  2.1min\n",
      "[Parallel(n_jobs=5)]: Done  31 tasks      | elapsed:  5.6min\n",
      "[Parallel(n_jobs=5)]: Done  62 tasks      | elapsed: 10.6min\n",
      "[Parallel(n_jobs=5)]: Done  80 out of  80 | elapsed: 13.1min finished\n",
      "/usr/local/lib/python3.7/dist-packages/sklearn/feature_extraction/text.py:385: UserWarning: Your stop_words may be inconsistent with your preprocessing. Tokenizing the stop words generated tokens ['ca', 'ha', 'le', 'nt', 'u', 'wa'] not in stop_words.\n",
      "  'stop_words.' % sorted(inconsistent))\n"
     ]
    }
   ],
   "source": [
    "# param_grid = {\n",
    "#     'features__bow__vectorizer__max_features': [500, 1000,1200,1500,2000],\n",
    "#     'features__bow__vectorizer__use_idf': [True, False],\n",
    "#     'clf__n_estimators': [100,200],\n",
    "# }\n",
    "\n",
    "param_grid = {\n",
    "    'features__bow__vectorizer__max_features': [500, 1000,1150,1200, 1300,2000,2500,3000,3500,4000,5000,6000,7000],\n",
    "    'clf__n_estimators': [10, 100, 150, 200, 225, 250, 300, 350, 400, 450, 500],\n",
    "    'features__bow__vectorizer__ngram_range': [(1, 2)],\n",
    "}\n",
    "\n",
    "cv = StratifiedKFold(n_splits=8)\n",
    "search = RandomizedSearchCV(pipe, param_distributions=param_grid, cv=cv, n_jobs=5,  scoring='f1_macro', return_train_score=True, verbose=8)\n",
    "search = search.fit(X_train, y_train)"
   ]
  },
  {
   "cell_type": "code",
   "execution_count": null,
   "metadata": {
    "colab": {
     "base_uri": "https://localhost:8080/"
    },
    "executionInfo": {
     "elapsed": 7412526,
     "status": "ok",
     "timestamp": 1618132726579,
     "user": {
      "displayName": "Felipe A. Gomes Ferreira",
      "photoUrl": "",
      "userId": "09095471911889500468"
     },
     "user_tz": 180
    },
    "id": "H-8l7TMUwP3a",
    "outputId": "2774a506-7b24-490c-8eea-34b6ed776298"
   },
   "outputs": [
    {
     "name": "stdout",
     "output_type": "stream",
     "text": [
      "Best parameter (CV score: 0.85291):\n",
      "{'features__bow__vectorizer__ngram_range': (1, 2), 'features__bow__vectorizer__max_features': 3000, 'clf__n_estimators': 400}\n"
     ]
    }
   ],
   "source": [
    "print(\"Best parameter (CV score: %0.5f):\" % search.best_score_)\n",
    "print(search.best_params_)"
   ]
  },
  {
   "cell_type": "markdown",
   "metadata": {
    "id": "C_VcUjHulQ9p"
   },
   "source": []
  },
  {
   "cell_type": "code",
   "execution_count": null,
   "metadata": {
    "colab": {
     "base_uri": "https://localhost:8080/",
     "height": 379
    },
    "executionInfo": {
     "elapsed": 7412525,
     "status": "ok",
     "timestamp": 1618132726581,
     "user": {
      "displayName": "Felipe A. Gomes Ferreira",
      "photoUrl": "",
      "userId": "09095471911889500468"
     },
     "user_tz": 180
    },
    "id": "sa5zY1t8lQvK",
    "outputId": "528031d5-b96c-4f9c-bff2-b7d6a12e8ff7"
   },
   "outputs": [
    {
     "data": {
      "text/html": [
       "<div>\n",
       "<style scoped>\n",
       "    .dataframe tbody tr th:only-of-type {\n",
       "        vertical-align: middle;\n",
       "    }\n",
       "\n",
       "    .dataframe tbody tr th {\n",
       "        vertical-align: top;\n",
       "    }\n",
       "\n",
       "    .dataframe thead th {\n",
       "        text-align: right;\n",
       "    }\n",
       "</style>\n",
       "<table border=\"1\" class=\"dataframe\">\n",
       "  <thead>\n",
       "    <tr style=\"text-align: right;\">\n",
       "      <th></th>\n",
       "      <th>features__bow__vectorizer__ngram_range</th>\n",
       "      <th>features__bow__vectorizer__max_features</th>\n",
       "      <th>clf__n_estimators</th>\n",
       "      <th>mean_fit_time</th>\n",
       "      <th>mean_score_time</th>\n",
       "      <th>mean_train_score</th>\n",
       "      <th>std_train_score</th>\n",
       "      <th>mean_test_score</th>\n",
       "      <th>std_test_score</th>\n",
       "      <th>rank_test_score</th>\n",
       "    </tr>\n",
       "  </thead>\n",
       "  <tbody>\n",
       "    <tr>\n",
       "      <th>4</th>\n",
       "      <td>(1, 2)</td>\n",
       "      <td>3000</td>\n",
       "      <td>400</td>\n",
       "      <td>28.705133</td>\n",
       "      <td>2.256831</td>\n",
       "      <td>1.0</td>\n",
       "      <td>0.0</td>\n",
       "      <td>0.852909</td>\n",
       "      <td>0.012274</td>\n",
       "      <td>1</td>\n",
       "    </tr>\n",
       "    <tr>\n",
       "      <th>8</th>\n",
       "      <td>(1, 2)</td>\n",
       "      <td>4000</td>\n",
       "      <td>300</td>\n",
       "      <td>25.884035</td>\n",
       "      <td>2.228614</td>\n",
       "      <td>1.0</td>\n",
       "      <td>0.0</td>\n",
       "      <td>0.852904</td>\n",
       "      <td>0.012770</td>\n",
       "      <td>2</td>\n",
       "    </tr>\n",
       "    <tr>\n",
       "      <th>6</th>\n",
       "      <td>(1, 2)</td>\n",
       "      <td>1150</td>\n",
       "      <td>450</td>\n",
       "      <td>30.206050</td>\n",
       "      <td>2.240036</td>\n",
       "      <td>1.0</td>\n",
       "      <td>0.0</td>\n",
       "      <td>0.850738</td>\n",
       "      <td>0.011573</td>\n",
       "      <td>3</td>\n",
       "    </tr>\n",
       "    <tr>\n",
       "      <th>9</th>\n",
       "      <td>(1, 2)</td>\n",
       "      <td>4000</td>\n",
       "      <td>100</td>\n",
       "      <td>19.716557</td>\n",
       "      <td>2.166978</td>\n",
       "      <td>1.0</td>\n",
       "      <td>0.0</td>\n",
       "      <td>0.850270</td>\n",
       "      <td>0.011007</td>\n",
       "      <td>4</td>\n",
       "    </tr>\n",
       "    <tr>\n",
       "      <th>7</th>\n",
       "      <td>(1, 2)</td>\n",
       "      <td>2000</td>\n",
       "      <td>150</td>\n",
       "      <td>21.355717</td>\n",
       "      <td>2.194135</td>\n",
       "      <td>1.0</td>\n",
       "      <td>0.0</td>\n",
       "      <td>0.849423</td>\n",
       "      <td>0.010132</td>\n",
       "      <td>5</td>\n",
       "    </tr>\n",
       "    <tr>\n",
       "      <th>2</th>\n",
       "      <td>(1, 2)</td>\n",
       "      <td>1200</td>\n",
       "      <td>150</td>\n",
       "      <td>21.327046</td>\n",
       "      <td>2.185000</td>\n",
       "      <td>1.0</td>\n",
       "      <td>0.0</td>\n",
       "      <td>0.849160</td>\n",
       "      <td>0.009431</td>\n",
       "      <td>6</td>\n",
       "    </tr>\n",
       "    <tr>\n",
       "      <th>5</th>\n",
       "      <td>(1, 2)</td>\n",
       "      <td>1300</td>\n",
       "      <td>225</td>\n",
       "      <td>23.432089</td>\n",
       "      <td>2.191255</td>\n",
       "      <td>1.0</td>\n",
       "      <td>0.0</td>\n",
       "      <td>0.848181</td>\n",
       "      <td>0.013668</td>\n",
       "      <td>7</td>\n",
       "    </tr>\n",
       "    <tr>\n",
       "      <th>0</th>\n",
       "      <td>(1, 2)</td>\n",
       "      <td>1150</td>\n",
       "      <td>300</td>\n",
       "      <td>25.640726</td>\n",
       "      <td>2.216026</td>\n",
       "      <td>1.0</td>\n",
       "      <td>0.0</td>\n",
       "      <td>0.848084</td>\n",
       "      <td>0.010240</td>\n",
       "      <td>8</td>\n",
       "    </tr>\n",
       "    <tr>\n",
       "      <th>1</th>\n",
       "      <td>(1, 2)</td>\n",
       "      <td>7000</td>\n",
       "      <td>100</td>\n",
       "      <td>19.800804</td>\n",
       "      <td>2.203108</td>\n",
       "      <td>1.0</td>\n",
       "      <td>0.0</td>\n",
       "      <td>0.847140</td>\n",
       "      <td>0.009028</td>\n",
       "      <td>9</td>\n",
       "    </tr>\n",
       "    <tr>\n",
       "      <th>3</th>\n",
       "      <td>(1, 2)</td>\n",
       "      <td>7000</td>\n",
       "      <td>200</td>\n",
       "      <td>23.174191</td>\n",
       "      <td>2.227544</td>\n",
       "      <td>1.0</td>\n",
       "      <td>0.0</td>\n",
       "      <td>0.845568</td>\n",
       "      <td>0.011103</td>\n",
       "      <td>10</td>\n",
       "    </tr>\n",
       "  </tbody>\n",
       "</table>\n",
       "</div>"
      ],
      "text/plain": [
       "  features__bow__vectorizer__ngram_range  ...  rank_test_score\n",
       "4                                 (1, 2)  ...                1\n",
       "8                                 (1, 2)  ...                2\n",
       "6                                 (1, 2)  ...                3\n",
       "9                                 (1, 2)  ...                4\n",
       "7                                 (1, 2)  ...                5\n",
       "2                                 (1, 2)  ...                6\n",
       "5                                 (1, 2)  ...                7\n",
       "0                                 (1, 2)  ...                8\n",
       "1                                 (1, 2)  ...                9\n",
       "3                                 (1, 2)  ...               10\n",
       "\n",
       "[10 rows x 10 columns]"
      ]
     },
     "execution_count": 40,
     "metadata": {
      "tags": []
     },
     "output_type": "execute_result"
    }
   ],
   "source": [
    "# Print out the results of hyperparmater tuning\n",
    "\n",
    "def cv_results_to_df(cv_results):\n",
    "    results = pd.DataFrame(list(cv_results['params']))\n",
    "    results['mean_fit_time'] = cv_results['mean_fit_time']\n",
    "    results['mean_score_time'] = cv_results['mean_score_time']\n",
    "    results['mean_train_score'] = cv_results['mean_train_score']\n",
    "    results['std_train_score'] = cv_results['std_train_score']\n",
    "    results['mean_test_score'] = cv_results['mean_test_score']\n",
    "    results['std_test_score'] = cv_results['std_test_score']\n",
    "    results['rank_test_score'] = cv_results['rank_test_score']\n",
    "\n",
    "    results = results.sort_values(['mean_test_score'], ascending=False)\n",
    "    return results\n",
    "\n",
    "results = cv_results_to_df(search.cv_results_)\n",
    "results"
   ]
  },
  {
   "cell_type": "markdown",
   "metadata": {
    "id": "z1Oxr9djo_oa"
   },
   "source": [
    "# Model Assessment"
   ]
  },
  {
   "cell_type": "code",
   "execution_count": null,
   "metadata": {
    "id": "6NY_yGyRo_oa"
   },
   "outputs": [],
   "source": [
    "y_val_pred = search.predict(X_val)"
   ]
  },
  {
   "cell_type": "code",
   "execution_count": null,
   "metadata": {
    "colab": {
     "base_uri": "https://localhost:8080/"
    },
    "executionInfo": {
     "elapsed": 7419035,
     "status": "ok",
     "timestamp": 1618132733099,
     "user": {
      "displayName": "Felipe A. Gomes Ferreira",
      "photoUrl": "",
      "userId": "09095471911889500468"
     },
     "user_tz": 180
    },
    "id": "QjIY8DDto_ob",
    "outputId": "e53b3375-e5e0-4674-b0f8-8283b2ac3522"
   },
   "outputs": [
    {
     "name": "stdout",
     "output_type": "stream",
     "text": [
      "[[702  81]\n",
      " [134 616]]\n",
      "              precision    recall  f1-score   support\n",
      "\n",
      "           0       0.84      0.90      0.87       783\n",
      "           1       0.88      0.82      0.85       750\n",
      "\n",
      "    accuracy                           0.86      1533\n",
      "   macro avg       0.86      0.86      0.86      1533\n",
      "weighted avg       0.86      0.86      0.86      1533\n",
      "\n"
     ]
    }
   ],
   "source": [
    "from sklearn.metrics import confusion_matrix\n",
    "from sklearn.metrics import classification_report\n",
    "\n",
    "print(confusion_matrix(y_true = y_val, y_pred = y_val_pred))\n",
    "\n",
    "class_names = [str(x) for x in search.best_estimator_.classes_]\n",
    "print(classification_report(y_true = y_val, y_pred = y_val_pred, target_names=class_names))"
   ]
  },
  {
   "cell_type": "markdown",
   "metadata": {
    "id": "cxWpS_pSK6El"
   },
   "source": [
    "# Kaggle Predictions"
   ]
  },
  {
   "cell_type": "code",
   "execution_count": null,
   "metadata": {
    "id": "GX_6pu4OK46Y"
   },
   "outputs": [],
   "source": [
    "# Read in the unlabeled testing data (for the Kaggle competition)\n",
    "df_test = pd.read_csv(\"https://drive.google.com/uc?export=download&id=1EVWfyqQOd_W2uTKrr4JTD2iFrEZHoOHT\")"
   ]
  },
  {
   "cell_type": "code",
   "execution_count": null,
   "metadata": {
    "colab": {
     "base_uri": "https://localhost:8080/",
     "height": 204
    },
    "executionInfo": {
     "elapsed": 7422591,
     "status": "ok",
     "timestamp": 1618132736663,
     "user": {
      "displayName": "Felipe A. Gomes Ferreira",
      "photoUrl": "",
      "userId": "09095471911889500468"
     },
     "user_tz": 180
    },
    "id": "OUqg7Lp-Lqy2",
    "outputId": "fb5a05bb-a547-4139-b3d1-5479b15621e4"
   },
   "outputs": [
    {
     "data": {
      "text/html": [
       "<div>\n",
       "<style scoped>\n",
       "    .dataframe tbody tr th:only-of-type {\n",
       "        vertical-align: middle;\n",
       "    }\n",
       "\n",
       "    .dataframe tbody tr th {\n",
       "        vertical-align: top;\n",
       "    }\n",
       "\n",
       "    .dataframe thead th {\n",
       "        text-align: right;\n",
       "    }\n",
       "</style>\n",
       "<table border=\"1\" class=\"dataframe\">\n",
       "  <thead>\n",
       "    <tr style=\"text-align: right;\">\n",
       "      <th></th>\n",
       "      <th>id</th>\n",
       "      <th>predicted</th>\n",
       "    </tr>\n",
       "  </thead>\n",
       "  <tbody>\n",
       "    <tr>\n",
       "      <th>0</th>\n",
       "      <td>6607</td>\n",
       "      <td>0</td>\n",
       "    </tr>\n",
       "    <tr>\n",
       "      <th>1</th>\n",
       "      <td>154</td>\n",
       "      <td>1</td>\n",
       "    </tr>\n",
       "    <tr>\n",
       "      <th>2</th>\n",
       "      <td>7402</td>\n",
       "      <td>0</td>\n",
       "    </tr>\n",
       "    <tr>\n",
       "      <th>3</th>\n",
       "      <td>2617</td>\n",
       "      <td>1</td>\n",
       "    </tr>\n",
       "    <tr>\n",
       "      <th>4</th>\n",
       "      <td>6464</td>\n",
       "      <td>0</td>\n",
       "    </tr>\n",
       "  </tbody>\n",
       "</table>\n",
       "</div>"
      ],
      "text/plain": [
       "     id  predicted\n",
       "0  6607          0\n",
       "1   154          1\n",
       "2  7402          0\n",
       "3  2617          1\n",
       "4  6464          0"
      ]
     },
     "execution_count": 44,
     "metadata": {
      "tags": []
     },
     "output_type": "execute_result"
    }
   ],
   "source": [
    "# Use our pipeline to make predictions; then output predictions to a CSV file.\n",
    "\n",
    "pred_test = search.predict(df_test['en_clean'])\n",
    "my_submission = pd.DataFrame({'id': df_test['loan_id'], 'predicted': pred_test})\n",
    "my_submission.head()\n",
    "\n",
    "# This command will save the file to the local cloud instance; it will be deleted\n",
    "# as soon as this Notebooks session ends.\n",
    "my_submission.to_csv('my_submission.csv', index=False)"
   ]
  },
  {
   "cell_type": "code",
   "execution_count": null,
   "metadata": {
    "colab": {
     "base_uri": "https://localhost:8080/",
     "height": 17
    },
    "executionInfo": {
     "elapsed": 727,
     "status": "ok",
     "timestamp": 1618152971037,
     "user": {
      "displayName": "Felipe A. Gomes Ferreira",
      "photoUrl": "",
      "userId": "09095471911889500468"
     },
     "user_tz": 180
    },
    "id": "RKtdKCTYUwGq",
    "outputId": "eb92c915-5965-44d7-fe4e-a17e418a1659"
   },
   "outputs": [
    {
     "data": {
      "application/javascript": [
       "\n",
       "    async function download(id, filename, size) {\n",
       "      if (!google.colab.kernel.accessAllowed) {\n",
       "        return;\n",
       "      }\n",
       "      const div = document.createElement('div');\n",
       "      const label = document.createElement('label');\n",
       "      label.textContent = `Downloading \"${filename}\": `;\n",
       "      div.appendChild(label);\n",
       "      const progress = document.createElement('progress');\n",
       "      progress.max = size;\n",
       "      div.appendChild(progress);\n",
       "      document.body.appendChild(div);\n",
       "\n",
       "      const buffers = [];\n",
       "      let downloaded = 0;\n",
       "\n",
       "      const channel = await google.colab.kernel.comms.open(id);\n",
       "      // Send a message to notify the kernel that we're ready.\n",
       "      channel.send({})\n",
       "\n",
       "      for await (const message of channel.messages) {\n",
       "        // Send a message to notify the kernel that we're ready.\n",
       "        channel.send({})\n",
       "        if (message.buffers) {\n",
       "          for (const buffer of message.buffers) {\n",
       "            buffers.push(buffer);\n",
       "            downloaded += buffer.byteLength;\n",
       "            progress.value = downloaded;\n",
       "          }\n",
       "        }\n",
       "      }\n",
       "      const blob = new Blob(buffers, {type: 'application/binary'});\n",
       "      const a = document.createElement('a');\n",
       "      a.href = window.URL.createObjectURL(blob);\n",
       "      a.download = filename;\n",
       "      div.appendChild(a);\n",
       "      a.click();\n",
       "      div.remove();\n",
       "    }\n",
       "  "
      ],
      "text/plain": [
       "<IPython.core.display.Javascript object>"
      ]
     },
     "metadata": {
      "tags": []
     },
     "output_type": "display_data"
    },
    {
     "data": {
      "application/javascript": [
       "download(\"download_da625977-2123-4806-872c-7e9c12005e14\", \"my_submission.csv\", 4552)"
      ],
      "text/plain": [
       "<IPython.core.display.Javascript object>"
      ]
     },
     "metadata": {
      "tags": []
     },
     "output_type": "display_data"
    }
   ],
   "source": [
    "# Download predictions file to your local computer\n",
    "\n",
    "from google.colab import files\n",
    "files.download('my_submission.csv')"
   ]
  },
  {
   "cell_type": "code",
   "execution_count": null,
   "metadata": {
    "colab": {
     "base_uri": "https://localhost:8080/"
    },
    "executionInfo": {
     "elapsed": 7422584,
     "status": "ok",
     "timestamp": 1618132736664,
     "user": {
      "displayName": "Felipe A. Gomes Ferreira",
      "photoUrl": "",
      "userId": "09095471911889500468"
     },
     "user_tz": 180
    },
    "id": "Y7F5ZgWwxnD2",
    "outputId": "fcb5b18a-b7be-40c5-cd51-466275899817"
   },
   "outputs": [
    {
     "name": "stdout",
     "output_type": "stream",
     "text": [
      "2021-04-11 09:18:56.541397\n"
     ]
    }
   ],
   "source": [
    "print(datetime.datetime.now())"
   ]
  },
  {
   "cell_type": "code",
   "execution_count": null,
   "metadata": {
    "colab": {
     "base_uri": "https://localhost:8080/"
    },
    "executionInfo": {
     "elapsed": 5353382,
     "status": "ok",
     "timestamp": 1618146216624,
     "user": {
      "displayName": "Felipe A. Gomes Ferreira",
      "photoUrl": "",
      "userId": "09095471911889500468"
     },
     "user_tz": 180
    },
    "id": "F4VUmXRIGbtF",
    "outputId": "747f8b94-c950-4cad-85e3-03058349f21f"
   },
   "outputs": [
    {
     "name": "stdout",
     "output_type": "stream",
     "text": [
      "Go to this URL in a browser: https://accounts.google.com/o/oauth2/auth?client_id=947318989803-6bn6qk8qdgf4n4g3pfee6491hc0brc4i.apps.googleusercontent.com&redirect_uri=urn%3aietf%3awg%3aoauth%3a2.0%3aoob&scope=email%20https%3a%2f%2fwww.googleapis.com%2fauth%2fdocs.test%20https%3a%2f%2fwww.googleapis.com%2fauth%2fdrive%20https%3a%2f%2fwww.googleapis.com%2fauth%2fdrive.photos.readonly%20https%3a%2f%2fwww.googleapis.com%2fauth%2fpeopleapi.readonly%20https%3a%2f%2fwww.googleapis.com%2fauth%2fdrive.activity.readonly%20https%3a%2f%2fwww.googleapis.com%2fauth%2fexperimentsandconfigs%20https%3a%2f%2fwww.googleapis.com%2fauth%2fphotos.native&response_type=code\n",
      "\n",
      "Enter your authorization code:\n",
      "4/1AY0e-g7111wVtOvWqBBefOIjGo3qsoSZ98c233AuGVQ4AApkq42Zx8nSAcw\n",
      "Mounted at /content/drive\n"
     ]
    }
   ],
   "source": [
    "from google.colab import drive\n",
    "drive.mount('/content/drive')"
   ]
  }
 ],
 "metadata": {
  "accelerator": "TPU",
  "colab": {
   "collapsed_sections": [],
   "machine_shape": "hm",
   "name": "T5_Data Augmentation.ipynb",
   "provenance": [
    {
     "file_id": "1tGOVeqkrp7-XtYAIjDp5_5LdhVXNyA3n",
     "timestamp": 1618124582332
    }
   ]
  },
  "kernelspec": {
   "display_name": "Python 3",
   "language": "python",
   "name": "python3"
  },
  "language_info": {
   "codemirror_mode": {
    "name": "ipython",
    "version": 3
   },
   "file_extension": ".py",
   "mimetype": "text/x-python",
   "name": "python",
   "nbconvert_exporter": "python",
   "pygments_lexer": "ipython3",
   "version": "3.8.3"
  }
 },
 "nbformat": 4,
 "nbformat_minor": 1
}
