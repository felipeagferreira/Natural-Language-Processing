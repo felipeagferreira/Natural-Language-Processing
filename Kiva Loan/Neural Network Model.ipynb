{
 "cells": [
  {
   "cell_type": "code",
   "execution_count": 1,
   "metadata": {
    "executionInfo": {
     "elapsed": 3114,
     "status": "ok",
     "timestamp": 1618178742674,
     "user": {
      "displayName": "Felipe A. Gomes Ferreira",
      "photoUrl": "",
      "userId": "09095471911889500468"
     },
     "user_tz": 180
    },
    "id": "fFpo__M3pwuN"
   },
   "outputs": [],
   "source": [
    "import pandas as pd\n",
    "import numpy as np\n",
    "import matplotlib.pyplot as plt\n",
    "import pandas_profiling\n",
    "import seaborn as sns\n",
    "import warnings\n",
    "import nltk\n",
    "warnings.filterwarnings('ignore')\n"
   ]
  },
  {
   "cell_type": "code",
   "execution_count": 2,
   "metadata": {
    "colab": {
     "base_uri": "https://localhost:8080/"
    },
    "executionInfo": {
     "elapsed": 10397,
     "status": "ok",
     "timestamp": 1618178749982,
     "user": {
      "displayName": "Felipe A. Gomes Ferreira",
      "photoUrl": "",
      "userId": "09095471911889500468"
     },
     "user_tz": 180
    },
    "id": "awr3DONVDgXo",
    "outputId": "f2eeed0e-f754-4db5-eee5-10cba5bfec19"
   },
   "outputs": [
    {
     "name": "stdout",
     "output_type": "stream",
     "text": [
      "Collecting textaugment\n",
      "  Downloading https://files.pythonhosted.org/packages/2c/63/9960414280dba3d9eba332502231d69fdc8ba664a4bd3d46842ba8cf0ef2/textaugment-1.3.4-py3-none-any.whl\n",
      "Requirement already satisfied: nltk in /usr/local/lib/python3.7/dist-packages (from textaugment) (3.2.5)\n",
      "Requirement already satisfied: gensim in /usr/local/lib/python3.7/dist-packages (from textaugment) (3.6.0)\n",
      "Requirement already satisfied: numpy in /usr/local/lib/python3.7/dist-packages (from textaugment) (1.19.5)\n",
      "Collecting googletrans\n",
      "  Downloading https://files.pythonhosted.org/packages/71/3a/3b19effdd4c03958b90f40fe01c93de6d5280e03843cc5adf6956bfc9512/googletrans-3.0.0.tar.gz\n",
      "Requirement already satisfied: textblob in /usr/local/lib/python3.7/dist-packages (from textaugment) (0.15.3)\n",
      "Requirement already satisfied: six in /usr/local/lib/python3.7/dist-packages (from nltk->textaugment) (1.15.0)\n",
      "Requirement already satisfied: smart-open>=1.2.1 in /usr/local/lib/python3.7/dist-packages (from gensim->textaugment) (4.2.0)\n",
      "Requirement already satisfied: scipy>=0.18.1 in /usr/local/lib/python3.7/dist-packages (from gensim->textaugment) (1.4.1)\n",
      "Collecting httpx==0.13.3\n",
      "\u001b[?25l  Downloading https://files.pythonhosted.org/packages/54/b4/698b284c6aed4d7c2b4fe3ba5df1fcf6093612423797e76fbb24890dd22f/httpx-0.13.3-py3-none-any.whl (55kB)\n",
      "\u001b[K     |████████████████████████████████| 61kB 7.4MB/s \n",
      "\u001b[?25hCollecting rfc3986<2,>=1.3\n",
      "  Downloading https://files.pythonhosted.org/packages/78/be/7b8b99fd74ff5684225f50dd0e865393d2265656ef3b4ba9eaaaffe622b8/rfc3986-1.4.0-py2.py3-none-any.whl\n",
      "Requirement already satisfied: idna==2.* in /usr/local/lib/python3.7/dist-packages (from httpx==0.13.3->googletrans->textaugment) (2.10)\n",
      "Requirement already satisfied: chardet==3.* in /usr/local/lib/python3.7/dist-packages (from httpx==0.13.3->googletrans->textaugment) (3.0.4)\n",
      "Collecting httpcore==0.9.*\n",
      "\u001b[?25l  Downloading https://files.pythonhosted.org/packages/dd/d5/e4ff9318693ac6101a2095e580908b591838c6f33df8d3ee8dd953ba96a8/httpcore-0.9.1-py3-none-any.whl (42kB)\n",
      "\u001b[K     |████████████████████████████████| 51kB 7.2MB/s \n",
      "\u001b[?25hCollecting sniffio\n",
      "  Downloading https://files.pythonhosted.org/packages/52/b0/7b2e028b63d092804b6794595871f936aafa5e9322dcaaad50ebf67445b3/sniffio-1.2.0-py3-none-any.whl\n",
      "Requirement already satisfied: certifi in /usr/local/lib/python3.7/dist-packages (from httpx==0.13.3->googletrans->textaugment) (2020.12.5)\n",
      "Collecting hstspreload\n",
      "\u001b[?25l  Downloading https://files.pythonhosted.org/packages/dd/50/606213e12fb49c5eb667df0936223dcaf461f94e215ea60244b2b1e9b039/hstspreload-2020.12.22-py3-none-any.whl (994kB)\n",
      "\u001b[K     |████████████████████████████████| 1.0MB 17.6MB/s \n",
      "\u001b[?25hCollecting h2==3.*\n",
      "\u001b[?25l  Downloading https://files.pythonhosted.org/packages/25/de/da019bcc539eeab02f6d45836f23858ac467f584bfec7a526ef200242afe/h2-3.2.0-py2.py3-none-any.whl (65kB)\n",
      "\u001b[K     |████████████████████████████████| 71kB 11.4MB/s \n",
      "\u001b[?25hCollecting h11<0.10,>=0.8\n",
      "\u001b[?25l  Downloading https://files.pythonhosted.org/packages/5a/fd/3dad730b0f95e78aeeb742f96fa7bbecbdd56a58e405d3da440d5bfb90c6/h11-0.9.0-py2.py3-none-any.whl (53kB)\n",
      "\u001b[K     |████████████████████████████████| 61kB 10.1MB/s \n",
      "\u001b[?25hCollecting hyperframe<6,>=5.2.0\n",
      "  Downloading https://files.pythonhosted.org/packages/19/0c/bf88182bcb5dce3094e2f3e4fe20db28a9928cb7bd5b08024030e4b140db/hyperframe-5.2.0-py2.py3-none-any.whl\n",
      "Collecting hpack<4,>=3.0\n",
      "  Downloading https://files.pythonhosted.org/packages/8a/cc/e53517f4a1e13f74776ca93271caef378dadec14d71c61c949d759d3db69/hpack-3.0.0-py2.py3-none-any.whl\n",
      "Building wheels for collected packages: googletrans\n",
      "  Building wheel for googletrans (setup.py) ... \u001b[?25l\u001b[?25hdone\n",
      "  Created wheel for googletrans: filename=googletrans-3.0.0-cp37-none-any.whl size=15737 sha256=a7a705714cff7bcb93488bcd06aeca8b3ff4081d6c99c0fd8ca4b5ecaa6ffbf6\n",
      "  Stored in directory: /root/.cache/pip/wheels/28/1a/a7/eaf4d7a3417a0c65796c547cff4deb6d79c7d14c2abd29273e\n",
      "Successfully built googletrans\n",
      "Installing collected packages: rfc3986, hyperframe, hpack, h2, h11, sniffio, httpcore, hstspreload, httpx, googletrans, textaugment\n",
      "Successfully installed googletrans-3.0.0 h11-0.9.0 h2-3.2.0 hpack-3.0.0 hstspreload-2020.12.22 httpcore-0.9.1 httpx-0.13.3 hyperframe-5.2.0 rfc3986-1.4.0 sniffio-1.2.0 textaugment-1.3.4\n",
      "[nltk_data] Downloading package averaged_perceptron_tagger to\n",
      "[nltk_data]     /root/nltk_data...\n",
      "[nltk_data]   Unzipping taggers/averaged_perceptron_tagger.zip.\n",
      "[nltk_data] Downloading package wordnet to /root/nltk_data...\n",
      "[nltk_data]   Unzipping corpora/wordnet.zip.\n"
     ]
    }
   ],
   "source": [
    "!pip install textaugment\n",
    "nltk.download('averaged_perceptron_tagger')\n",
    "nltk.download('wordnet')\n",
    "\n",
    "from textaugment import Wordnet\n",
    "from tqdm import tqdm\n",
    "from sklearn.utils import shuffle"
   ]
  },
  {
   "cell_type": "code",
   "execution_count": 3,
   "metadata": {
    "executionInfo": {
     "elapsed": 12026,
     "status": "ok",
     "timestamp": 1618178751616,
     "user": {
      "displayName": "Felipe A. Gomes Ferreira",
      "photoUrl": "",
      "userId": "09095471911889500468"
     },
     "user_tz": 180
    },
    "id": "Vk60cnZCp4K3"
   },
   "outputs": [],
   "source": [
    "# The labeled training data\n",
    "df = pd.read_csv(\"https://drive.google.com/uc?export=download&id=1dzzVbgHphbCf7kvq9IKiIhwzmxPbuH4s\")"
   ]
  },
  {
   "cell_type": "code",
   "execution_count": 4,
   "metadata": {
    "colab": {
     "base_uri": "https://localhost:8080/",
     "height": 359
    },
    "executionInfo": {
     "elapsed": 12601,
     "status": "ok",
     "timestamp": 1618178752200,
     "user": {
      "displayName": "Felipe A. Gomes Ferreira",
      "photoUrl": "",
      "userId": "09095471911889500468"
     },
     "user_tz": 180
    },
    "id": "dAhkrjRYqdFU",
    "outputId": "6bcbccab-717c-44b9-cc53-0d159267f5a4"
   },
   "outputs": [
    {
     "data": {
      "text/html": [
       "<div>\n",
       "<style scoped>\n",
       "    .dataframe tbody tr th:only-of-type {\n",
       "        vertical-align: middle;\n",
       "    }\n",
       "\n",
       "    .dataframe tbody tr th {\n",
       "        vertical-align: top;\n",
       "    }\n",
       "\n",
       "    .dataframe thead th {\n",
       "        text-align: right;\n",
       "    }\n",
       "</style>\n",
       "<table border=\"1\" class=\"dataframe\">\n",
       "  <thead>\n",
       "    <tr style=\"text-align: right;\">\n",
       "      <th></th>\n",
       "      <th>loan_id</th>\n",
       "      <th>en_clean</th>\n",
       "      <th>defaulted</th>\n",
       "    </tr>\n",
       "  </thead>\n",
       "  <tbody>\n",
       "    <tr>\n",
       "      <th>0</th>\n",
       "      <td>7779</td>\n",
       "      <td>She opened a colmado out of the side of her ho...</td>\n",
       "      <td>0</td>\n",
       "    </tr>\n",
       "    <tr>\n",
       "      <th>1</th>\n",
       "      <td>2777</td>\n",
       "      <td>(First Loan):  Joffre continues to run his loc...</td>\n",
       "      <td>1</td>\n",
       "    </tr>\n",
       "    <tr>\n",
       "      <th>2</th>\n",
       "      <td>6007</td>\n",
       "      <td>Dina Santana is the mother of two children, Ju...</td>\n",
       "      <td>0</td>\n",
       "    </tr>\n",
       "    <tr>\n",
       "      <th>3</th>\n",
       "      <td>76</td>\n",
       "      <td>Rosemary is 50 years old, single, and has 6 ch...</td>\n",
       "      <td>1</td>\n",
       "    </tr>\n",
       "    <tr>\n",
       "      <th>4</th>\n",
       "      <td>4217</td>\n",
       "      <td>Segundo has a shop where he sells animal feed,...</td>\n",
       "      <td>0</td>\n",
       "    </tr>\n",
       "    <tr>\n",
       "      <th>5</th>\n",
       "      <td>5077</td>\n",
       "      <td>I am a single parent, mother of 4. I sell groc...</td>\n",
       "      <td>0</td>\n",
       "    </tr>\n",
       "    <tr>\n",
       "      <th>6</th>\n",
       "      <td>6033</td>\n",
       "      <td>Mariana Jose Serda owns a general store in Mag...</td>\n",
       "      <td>0</td>\n",
       "    </tr>\n",
       "    <tr>\n",
       "      <th>7</th>\n",
       "      <td>843</td>\n",
       "      <td>Mary is a mother of four children. One of the ...</td>\n",
       "      <td>1</td>\n",
       "    </tr>\n",
       "    <tr>\n",
       "      <th>8</th>\n",
       "      <td>4357</td>\n",
       "      <td>Wilson is seeking his second loan with Kiva an...</td>\n",
       "      <td>0</td>\n",
       "    </tr>\n",
       "    <tr>\n",
       "      <th>9</th>\n",
       "      <td>7007</td>\n",
       "      <td>Clara lives with her two children (ages: 20 an...</td>\n",
       "      <td>0</td>\n",
       "    </tr>\n",
       "  </tbody>\n",
       "</table>\n",
       "</div>"
      ],
      "text/plain": [
       "   loan_id                                           en_clean  defaulted\n",
       "0     7779  She opened a colmado out of the side of her ho...          0\n",
       "1     2777  (First Loan):  Joffre continues to run his loc...          1\n",
       "2     6007  Dina Santana is the mother of two children, Ju...          0\n",
       "3       76  Rosemary is 50 years old, single, and has 6 ch...          1\n",
       "4     4217  Segundo has a shop where he sells animal feed,...          0\n",
       "5     5077  I am a single parent, mother of 4. I sell groc...          0\n",
       "6     6033  Mariana Jose Serda owns a general store in Mag...          0\n",
       "7      843  Mary is a mother of four children. One of the ...          1\n",
       "8     4357  Wilson is seeking his second loan with Kiva an...          0\n",
       "9     7007  Clara lives with her two children (ages: 20 an...          0"
      ]
     },
     "execution_count": 4,
     "metadata": {
      "tags": []
     },
     "output_type": "execute_result"
    }
   ],
   "source": [
    "df.head(10)"
   ]
  },
  {
   "cell_type": "code",
   "execution_count": 5,
   "metadata": {
    "colab": {
     "base_uri": "https://localhost:8080/"
    },
    "executionInfo": {
     "elapsed": 12593,
     "status": "ok",
     "timestamp": 1618178752202,
     "user": {
      "displayName": "Felipe A. Gomes Ferreira",
      "photoUrl": "",
      "userId": "09095471911889500468"
     },
     "user_tz": 180
    },
    "id": "PXt9rqN8BgLx",
    "outputId": "22db2476-5c93-43ce-951e-67d84f93539c"
   },
   "outputs": [
    {
     "data": {
      "text/plain": [
       "0    3102\n",
       "1    3036\n",
       "Name: defaulted, dtype: int64"
      ]
     },
     "execution_count": 5,
     "metadata": {
      "tags": []
     },
     "output_type": "execute_result"
    }
   ],
   "source": [
    "df.defaulted.value_counts()"
   ]
  },
  {
   "cell_type": "code",
   "execution_count": 6,
   "metadata": {
    "colab": {
     "base_uri": "https://localhost:8080/"
    },
    "executionInfo": {
     "elapsed": 12587,
     "status": "ok",
     "timestamp": 1618178752204,
     "user": {
      "displayName": "Felipe A. Gomes Ferreira",
      "photoUrl": "",
      "userId": "09095471911889500468"
     },
     "user_tz": 180
    },
    "id": "AhVKRKHefyhN",
    "outputId": "a1846f6f-ead7-4145-a888-3f6b011be8db"
   },
   "outputs": [
    {
     "data": {
      "text/plain": [
       "(6129, 3)"
      ]
     },
     "execution_count": 6,
     "metadata": {
      "tags": []
     },
     "output_type": "execute_result"
    }
   ],
   "source": [
    "df = df.drop_duplicates('en_clean')\n",
    "df.shape"
   ]
  },
  {
   "cell_type": "markdown",
   "metadata": {
    "id": "y3GP9-J5IpUG"
   },
   "source": [
    "Text Augmentation"
   ]
  },
  {
   "cell_type": "code",
   "execution_count": 7,
   "metadata": {
    "executionInfo": {
     "elapsed": 12584,
     "status": "ok",
     "timestamp": 1618178752205,
     "user": {
      "displayName": "Felipe A. Gomes Ferreira",
      "photoUrl": "",
      "userId": "09095471911889500468"
     },
     "user_tz": 180
    },
    "id": "IbuljyCyBR7x"
   },
   "outputs": [],
   "source": [
    "def augment_text(df,samples=1200,pr=0.2):\n",
    "    t = Wordnet()\n",
    "    new_text=[]\n",
    "    \n",
    "    ##selecting the minority class samples\n",
    "    df_n=df[df.defaulted==1].reset_index(drop=True)\n",
    "\n",
    "    ## data augmentation loop\n",
    "    for i in tqdm(np.random.randint(0,len(df_n),samples)):\n",
    "        \n",
    "            text = df_n.iloc[i]['en_clean']\n",
    "            augmented_text = t.augment(text)\n",
    "            new_text.append(augmented_text)\n",
    "    \n",
    "    ## dataframe\n",
    "    new=pd.DataFrame({'en_clean':new_text,'defaulted':1})\n",
    "    df=shuffle(df.append(new).reset_index(drop=True))\n",
    "    return df"
   ]
  },
  {
   "cell_type": "code",
   "execution_count": 8,
   "metadata": {
    "colab": {
     "base_uri": "https://localhost:8080/"
    },
    "executionInfo": {
     "elapsed": 23315,
     "status": "ok",
     "timestamp": 1618178762944,
     "user": {
      "displayName": "Felipe A. Gomes Ferreira",
      "photoUrl": "",
      "userId": "09095471911889500468"
     },
     "user_tz": 180
    },
    "id": "qZT-zl8FIyYc",
    "outputId": "265d2994-5210-4dbd-a510-3db62095961a"
   },
   "outputs": [
    {
     "name": "stderr",
     "output_type": "stream",
     "text": [
      "100%|██████████| 1200/1200 [00:10<00:00, 110.55it/s]\n"
     ]
    }
   ],
   "source": [
    "df = augment_text(df)"
   ]
  },
  {
   "cell_type": "code",
   "execution_count": 9,
   "metadata": {
    "colab": {
     "base_uri": "https://localhost:8080/",
     "height": 120
    },
    "executionInfo": {
     "elapsed": 23306,
     "status": "ok",
     "timestamp": 1618178762946,
     "user": {
      "displayName": "Felipe A. Gomes Ferreira",
      "photoUrl": "",
      "userId": "09095471911889500468"
     },
     "user_tz": 180
    },
    "id": "fUIkAMRgfu3r",
    "outputId": "75c67483-d514-4a1b-ec75-f140273047e0"
   },
   "outputs": [
    {
     "data": {
      "application/vnd.google.colaboratory.intrinsic+json": {
       "type": "string"
      },
      "text/plain": [
       "'Segundo has a shop where he sells animal feed, medicines and live poultry. He sells products for all types of animals ranging from pigs to ducks. Many people in his community raise these types of animals in their own backyards in order to resell them later for profits. He learned this business while being an assistant for his uncle for ten years. His uncle motivated him to start his own shop about 4 years ago and now he has a spot in his home where he makes his sales. Segundo needs this loan in order to invest in products at wholesale prices and quantities. He also wants to help his wife set up a part of their business as a small food market. They have been experimenting with the idea with some sales and they see potential for increased profits. Segundo and his wife are a young couple with one child. They have a humble home made out of cement and they want to continue making improvements to it.'"
      ]
     },
     "execution_count": 9,
     "metadata": {
      "tags": []
     },
     "output_type": "execute_result"
    }
   ],
   "source": [
    "df['en_clean'][4]"
   ]
  },
  {
   "cell_type": "code",
   "execution_count": 10,
   "metadata": {
    "colab": {
     "base_uri": "https://localhost:8080/"
    },
    "executionInfo": {
     "elapsed": 23299,
     "status": "ok",
     "timestamp": 1618178762947,
     "user": {
      "displayName": "Felipe A. Gomes Ferreira",
      "photoUrl": "",
      "userId": "09095471911889500468"
     },
     "user_tz": 180
    },
    "id": "VTax5f3lqHAx",
    "outputId": "f177e3f4-1f8f-4914-f5c2-e9e6569ba7c8"
   },
   "outputs": [
    {
     "data": {
      "text/plain": [
       "True"
      ]
     },
     "execution_count": 10,
     "metadata": {
      "tags": []
     },
     "output_type": "execute_result"
    }
   ],
   "source": [
    "df.isnull().values.any()"
   ]
  },
  {
   "cell_type": "code",
   "execution_count": 11,
   "metadata": {
    "executionInfo": {
     "elapsed": 23297,
     "status": "ok",
     "timestamp": 1618178762947,
     "user": {
      "displayName": "Felipe A. Gomes Ferreira",
      "photoUrl": "",
      "userId": "09095471911889500468"
     },
     "user_tz": 180
    },
    "id": "OmbwlzHcqJwe"
   },
   "outputs": [],
   "source": [
    "import re\n",
    "from bs4 import BeautifulSoup"
   ]
  },
  {
   "cell_type": "code",
   "execution_count": 12,
   "metadata": {
    "executionInfo": {
     "elapsed": 23294,
     "status": "ok",
     "timestamp": 1618178762948,
     "user": {
      "displayName": "Felipe A. Gomes Ferreira",
      "photoUrl": "",
      "userId": "09095471911889500468"
     },
     "user_tz": 180
    },
    "id": "VoTUU0DRfF-g"
   },
   "outputs": [],
   "source": [
    "#df.drop(columns=['loan_id'], inplace = True) #No need for data augmentation"
   ]
  },
  {
   "cell_type": "code",
   "execution_count": 13,
   "metadata": {
    "colab": {
     "base_uri": "https://localhost:8080/",
     "height": 238
    },
    "executionInfo": {
     "elapsed": 24316,
     "status": "ok",
     "timestamp": 1618178763979,
     "user": {
      "displayName": "Felipe A. Gomes Ferreira",
      "photoUrl": "",
      "userId": "09095471911889500468"
     },
     "user_tz": 180
    },
    "id": "bJubuOPLqQ2K",
    "outputId": "470549f4-8f76-4324-e347-3cc8adae115b"
   },
   "outputs": [
    {
     "name": "stdout",
     "output_type": "stream",
     "text": [
      "CPU times: user 717 ms, sys: 6.25 ms, total: 724 ms\n",
      "Wall time: 722 ms\n"
     ]
    },
    {
     "data": {
      "text/html": [
       "<div>\n",
       "<style scoped>\n",
       "    .dataframe tbody tr th:only-of-type {\n",
       "        vertical-align: middle;\n",
       "    }\n",
       "\n",
       "    .dataframe tbody tr th {\n",
       "        vertical-align: top;\n",
       "    }\n",
       "\n",
       "    .dataframe thead th {\n",
       "        text-align: right;\n",
       "    }\n",
       "</style>\n",
       "<table border=\"1\" class=\"dataframe\">\n",
       "  <thead>\n",
       "    <tr style=\"text-align: right;\">\n",
       "      <th></th>\n",
       "      <th>loan_id</th>\n",
       "      <th>en_clean</th>\n",
       "      <th>defaulted</th>\n",
       "      <th>en_clean_Processed</th>\n",
       "    </tr>\n",
       "  </thead>\n",
       "  <tbody>\n",
       "    <tr>\n",
       "      <th>2094</th>\n",
       "      <td>7754.0</td>\n",
       "      <td>Fhlippe is a single parent, the head of his ho...</td>\n",
       "      <td>0</td>\n",
       "      <td>Fhlippe is a single parent the head of his hou...</td>\n",
       "    </tr>\n",
       "    <tr>\n",
       "      <th>6456</th>\n",
       "      <td>NaN</td>\n",
       "      <td>juana, the leader of this group, live 36 years...</td>\n",
       "      <td>1</td>\n",
       "      <td>juana the leader of this group live 36 years o...</td>\n",
       "    </tr>\n",
       "    <tr>\n",
       "      <th>4931</th>\n",
       "      <td>3903.0</td>\n",
       "      <td>Jenny is a single mother with 3 children. She ...</td>\n",
       "      <td>0</td>\n",
       "      <td>Jenny is a single mother with 3 children She o...</td>\n",
       "    </tr>\n",
       "    <tr>\n",
       "      <th>190</th>\n",
       "      <td>5844.0</td>\n",
       "      <td>Iris is determined to start working on selling...</td>\n",
       "      <td>0</td>\n",
       "      <td>Iris is determined to start working on selling...</td>\n",
       "    </tr>\n",
       "    <tr>\n",
       "      <th>2240</th>\n",
       "      <td>7341.0</td>\n",
       "      <td>Maria Florentino is a spirited young woman who...</td>\n",
       "      <td>0</td>\n",
       "      <td>Maria Florentino is a spirited young woman who...</td>\n",
       "    </tr>\n",
       "  </tbody>\n",
       "</table>\n",
       "</div>"
      ],
      "text/plain": [
       "      loan_id  ...                                 en_clean_Processed\n",
       "2094   7754.0  ...  Fhlippe is a single parent the head of his hou...\n",
       "6456      NaN  ...  juana the leader of this group live 36 years o...\n",
       "4931   3903.0  ...  Jenny is a single mother with 3 children She o...\n",
       "190    5844.0  ...  Iris is determined to start working on selling...\n",
       "2240   7341.0  ...  Maria Florentino is a spirited young woman who...\n",
       "\n",
       "[5 rows x 4 columns]"
      ]
     },
     "execution_count": 13,
     "metadata": {
      "tags": []
     },
     "output_type": "execute_result"
    }
   ],
   "source": [
    "# Remove HTTP tags\n",
    "%time df['en_clean_Processed'] = df['en_clean'].map(lambda x : ' '.join(re.sub(\"(@[A-Za-z0-9]+)|([^0-9A-Za-z \\t])|(\\w+:\\/\\/\\S+)\",\" \",x).split()))\n",
    "df.head()"
   ]
  },
  {
   "cell_type": "code",
   "execution_count": 14,
   "metadata": {
    "colab": {
     "base_uri": "https://localhost:8080/",
     "height": 238
    },
    "executionInfo": {
     "elapsed": 24306,
     "status": "ok",
     "timestamp": 1618178763980,
     "user": {
      "displayName": "Felipe A. Gomes Ferreira",
      "photoUrl": "",
      "userId": "09095471911889500468"
     },
     "user_tz": 180
    },
    "id": "uTVBclxIqTg2",
    "outputId": "22700273-3b8e-410f-cc95-368fe3bfb653"
   },
   "outputs": [
    {
     "name": "stdout",
     "output_type": "stream",
     "text": [
      "CPU times: user 9.41 ms, sys: 34 µs, total: 9.44 ms\n",
      "Wall time: 9.24 ms\n"
     ]
    },
    {
     "data": {
      "text/html": [
       "<div>\n",
       "<style scoped>\n",
       "    .dataframe tbody tr th:only-of-type {\n",
       "        vertical-align: middle;\n",
       "    }\n",
       "\n",
       "    .dataframe tbody tr th {\n",
       "        vertical-align: top;\n",
       "    }\n",
       "\n",
       "    .dataframe thead th {\n",
       "        text-align: right;\n",
       "    }\n",
       "</style>\n",
       "<table border=\"1\" class=\"dataframe\">\n",
       "  <thead>\n",
       "    <tr style=\"text-align: right;\">\n",
       "      <th></th>\n",
       "      <th>loan_id</th>\n",
       "      <th>en_clean</th>\n",
       "      <th>defaulted</th>\n",
       "      <th>en_clean_Processed</th>\n",
       "    </tr>\n",
       "  </thead>\n",
       "  <tbody>\n",
       "    <tr>\n",
       "      <th>2094</th>\n",
       "      <td>7754.0</td>\n",
       "      <td>Fhlippe is a single parent, the head of his ho...</td>\n",
       "      <td>0</td>\n",
       "      <td>fhlippe is a single parent the head of his hou...</td>\n",
       "    </tr>\n",
       "    <tr>\n",
       "      <th>6456</th>\n",
       "      <td>NaN</td>\n",
       "      <td>juana, the leader of this group, live 36 years...</td>\n",
       "      <td>1</td>\n",
       "      <td>juana the leader of this group live 36 years o...</td>\n",
       "    </tr>\n",
       "    <tr>\n",
       "      <th>4931</th>\n",
       "      <td>3903.0</td>\n",
       "      <td>Jenny is a single mother with 3 children. She ...</td>\n",
       "      <td>0</td>\n",
       "      <td>jenny is a single mother with 3 children she o...</td>\n",
       "    </tr>\n",
       "    <tr>\n",
       "      <th>190</th>\n",
       "      <td>5844.0</td>\n",
       "      <td>Iris is determined to start working on selling...</td>\n",
       "      <td>0</td>\n",
       "      <td>iris is determined to start working on selling...</td>\n",
       "    </tr>\n",
       "    <tr>\n",
       "      <th>2240</th>\n",
       "      <td>7341.0</td>\n",
       "      <td>Maria Florentino is a spirited young woman who...</td>\n",
       "      <td>0</td>\n",
       "      <td>maria florentino is a spirited young woman who...</td>\n",
       "    </tr>\n",
       "  </tbody>\n",
       "</table>\n",
       "</div>"
      ],
      "text/plain": [
       "      loan_id  ...                                 en_clean_Processed\n",
       "2094   7754.0  ...  fhlippe is a single parent the head of his hou...\n",
       "6456      NaN  ...  juana the leader of this group live 36 years o...\n",
       "4931   3903.0  ...  jenny is a single mother with 3 children she o...\n",
       "190    5844.0  ...  iris is determined to start working on selling...\n",
       "2240   7341.0  ...  maria florentino is a spirited young woman who...\n",
       "\n",
       "[5 rows x 4 columns]"
      ]
     },
     "execution_count": 14,
     "metadata": {
      "tags": []
     },
     "output_type": "execute_result"
    }
   ],
   "source": [
    "#Lower Case\n",
    "%time df['en_clean_Processed'] = df['en_clean_Processed'].map(lambda x: x.lower())\n",
    "df.head()"
   ]
  },
  {
   "cell_type": "code",
   "execution_count": 15,
   "metadata": {
    "colab": {
     "base_uri": "https://localhost:8080/",
     "height": 238
    },
    "executionInfo": {
     "elapsed": 24298,
     "status": "ok",
     "timestamp": 1618178763981,
     "user": {
      "displayName": "Felipe A. Gomes Ferreira",
      "photoUrl": "",
      "userId": "09095471911889500468"
     },
     "user_tz": 180
    },
    "id": "hmyc6eyRqmdT",
    "outputId": "e09b9d05-db01-48b9-d4ff-c121c30539cc"
   },
   "outputs": [
    {
     "name": "stdout",
     "output_type": "stream",
     "text": [
      "CPU times: user 94 ms, sys: 0 ns, total: 94 ms\n",
      "Wall time: 93.5 ms\n"
     ]
    },
    {
     "data": {
      "text/html": [
       "<div>\n",
       "<style scoped>\n",
       "    .dataframe tbody tr th:only-of-type {\n",
       "        vertical-align: middle;\n",
       "    }\n",
       "\n",
       "    .dataframe tbody tr th {\n",
       "        vertical-align: top;\n",
       "    }\n",
       "\n",
       "    .dataframe thead th {\n",
       "        text-align: right;\n",
       "    }\n",
       "</style>\n",
       "<table border=\"1\" class=\"dataframe\">\n",
       "  <thead>\n",
       "    <tr style=\"text-align: right;\">\n",
       "      <th></th>\n",
       "      <th>loan_id</th>\n",
       "      <th>en_clean</th>\n",
       "      <th>defaulted</th>\n",
       "      <th>en_clean_Processed</th>\n",
       "    </tr>\n",
       "  </thead>\n",
       "  <tbody>\n",
       "    <tr>\n",
       "      <th>2094</th>\n",
       "      <td>7754.0</td>\n",
       "      <td>Fhlippe is a single parent, the head of his ho...</td>\n",
       "      <td>0</td>\n",
       "      <td>fhlippe is a single parent the head of his hou...</td>\n",
       "    </tr>\n",
       "    <tr>\n",
       "      <th>6456</th>\n",
       "      <td>NaN</td>\n",
       "      <td>juana, the leader of this group, live 36 years...</td>\n",
       "      <td>1</td>\n",
       "      <td>juana the leader of this group live 36 years o...</td>\n",
       "    </tr>\n",
       "    <tr>\n",
       "      <th>4931</th>\n",
       "      <td>3903.0</td>\n",
       "      <td>Jenny is a single mother with 3 children. She ...</td>\n",
       "      <td>0</td>\n",
       "      <td>jenny is a single mother with 3 children she o...</td>\n",
       "    </tr>\n",
       "    <tr>\n",
       "      <th>190</th>\n",
       "      <td>5844.0</td>\n",
       "      <td>Iris is determined to start working on selling...</td>\n",
       "      <td>0</td>\n",
       "      <td>iris is determined to start working on selling...</td>\n",
       "    </tr>\n",
       "    <tr>\n",
       "      <th>2240</th>\n",
       "      <td>7341.0</td>\n",
       "      <td>Maria Florentino is a spirited young woman who...</td>\n",
       "      <td>0</td>\n",
       "      <td>maria florentino is a spirited young woman who...</td>\n",
       "    </tr>\n",
       "  </tbody>\n",
       "</table>\n",
       "</div>"
      ],
      "text/plain": [
       "      loan_id  ...                                 en_clean_Processed\n",
       "2094   7754.0  ...  fhlippe is a single parent the head of his hou...\n",
       "6456      NaN  ...  juana the leader of this group live 36 years o...\n",
       "4931   3903.0  ...  jenny is a single mother with 3 children she o...\n",
       "190    5844.0  ...  iris is determined to start working on selling...\n",
       "2240   7341.0  ...  maria florentino is a spirited young woman who...\n",
       "\n",
       "[5 rows x 4 columns]"
      ]
     },
     "execution_count": 15,
     "metadata": {
      "tags": []
     },
     "output_type": "execute_result"
    }
   ],
   "source": [
    "#Remove punctuations\n",
    "%time df['en_clean_Processed'] = df['en_clean_Processed'].map(lambda x: re.sub(r'[^\\w\\s]', '', x))\n",
    "df.head()"
   ]
  },
  {
   "cell_type": "code",
   "execution_count": 16,
   "metadata": {
    "colab": {
     "base_uri": "https://localhost:8080/"
    },
    "executionInfo": {
     "elapsed": 24288,
     "status": "ok",
     "timestamp": 1618178763981,
     "user": {
      "displayName": "Felipe A. Gomes Ferreira",
      "photoUrl": "",
      "userId": "09095471911889500468"
     },
     "user_tz": 180
    },
    "id": "CVBvW_1915pV",
    "outputId": "b6d934a8-c53e-4384-b8ea-2a22f49a1a22"
   },
   "outputs": [
    {
     "name": "stdout",
     "output_type": "stream",
     "text": [
      "<class 'pandas.core.frame.DataFrame'>\n",
      "Int64Index: 7329 entries, 2094 to 4168\n",
      "Data columns (total 4 columns):\n",
      " #   Column              Non-Null Count  Dtype  \n",
      "---  ------              --------------  -----  \n",
      " 0   loan_id             6129 non-null   float64\n",
      " 1   en_clean            7329 non-null   object \n",
      " 2   defaulted           7329 non-null   int64  \n",
      " 3   en_clean_Processed  7329 non-null   object \n",
      "dtypes: float64(1), int64(1), object(2)\n",
      "memory usage: 606.3+ KB\n"
     ]
    }
   ],
   "source": [
    "df.info()"
   ]
  },
  {
   "cell_type": "code",
   "execution_count": 17,
   "metadata": {
    "colab": {
     "base_uri": "https://localhost:8080/"
    },
    "executionInfo": {
     "elapsed": 24282,
     "status": "ok",
     "timestamp": 1618178763982,
     "user": {
      "displayName": "Felipe A. Gomes Ferreira",
      "photoUrl": "",
      "userId": "09095471911889500468"
     },
     "user_tz": 180
    },
    "id": "DHrS6wlc15-1",
    "outputId": "8b2942e8-04c1-4252-ae29-9659d10f655d"
   },
   "outputs": [
    {
     "data": {
      "text/plain": [
       "loan_id               1200\n",
       "en_clean                 0\n",
       "defaulted                0\n",
       "en_clean_Processed       0\n",
       "dtype: int64"
      ]
     },
     "execution_count": 17,
     "metadata": {
      "tags": []
     },
     "output_type": "execute_result"
    }
   ],
   "source": [
    "# See if there are null values\n",
    "df.isnull().sum()"
   ]
  },
  {
   "cell_type": "code",
   "execution_count": 18,
   "metadata": {
    "executionInfo": {
     "elapsed": 24279,
     "status": "ok",
     "timestamp": 1618178763983,
     "user": {
      "displayName": "Felipe A. Gomes Ferreira",
      "photoUrl": "",
      "userId": "09095471911889500468"
     },
     "user_tz": 180
    },
    "id": "fkE7G_yH16Bg"
   },
   "outputs": [],
   "source": [
    "# Drop the NaN values\n",
    "#df.dropna(inplace=True)\n",
    "#df.isnull().sum()"
   ]
  },
  {
   "cell_type": "code",
   "execution_count": 19,
   "metadata": {
    "colab": {
     "base_uri": "https://localhost:8080/",
     "height": 238
    },
    "executionInfo": {
     "elapsed": 24271,
     "status": "ok",
     "timestamp": 1618178763983,
     "user": {
      "displayName": "Felipe A. Gomes Ferreira",
      "photoUrl": "",
      "userId": "09095471911889500468"
     },
     "user_tz": 180
    },
    "id": "D4T4n7uuqvzO",
    "outputId": "734eb917-356f-47ff-be46-8dbacfd19db4"
   },
   "outputs": [
    {
     "name": "stdout",
     "output_type": "stream",
     "text": [
      "CPU times: user 125 ms, sys: 995 µs, total: 126 ms\n",
      "Wall time: 126 ms\n"
     ]
    },
    {
     "data": {
      "text/html": [
       "<div>\n",
       "<style scoped>\n",
       "    .dataframe tbody tr th:only-of-type {\n",
       "        vertical-align: middle;\n",
       "    }\n",
       "\n",
       "    .dataframe tbody tr th {\n",
       "        vertical-align: top;\n",
       "    }\n",
       "\n",
       "    .dataframe thead th {\n",
       "        text-align: right;\n",
       "    }\n",
       "</style>\n",
       "<table border=\"1\" class=\"dataframe\">\n",
       "  <thead>\n",
       "    <tr style=\"text-align: right;\">\n",
       "      <th></th>\n",
       "      <th>loan_id</th>\n",
       "      <th>en_clean</th>\n",
       "      <th>defaulted</th>\n",
       "      <th>en_clean_Processed</th>\n",
       "    </tr>\n",
       "  </thead>\n",
       "  <tbody>\n",
       "    <tr>\n",
       "      <th>2094</th>\n",
       "      <td>7754.0</td>\n",
       "      <td>Fhlippe is a single parent, the head of his ho...</td>\n",
       "      <td>0</td>\n",
       "      <td>fhlippe is a single parent the head of his hou...</td>\n",
       "    </tr>\n",
       "    <tr>\n",
       "      <th>6456</th>\n",
       "      <td>NaN</td>\n",
       "      <td>juana, the leader of this group, live 36 years...</td>\n",
       "      <td>1</td>\n",
       "      <td>juana the leader of this group live 36 years o...</td>\n",
       "    </tr>\n",
       "    <tr>\n",
       "      <th>4931</th>\n",
       "      <td>3903.0</td>\n",
       "      <td>Jenny is a single mother with 3 children. She ...</td>\n",
       "      <td>0</td>\n",
       "      <td>jenny is a single mother with 3 children she o...</td>\n",
       "    </tr>\n",
       "    <tr>\n",
       "      <th>190</th>\n",
       "      <td>5844.0</td>\n",
       "      <td>Iris is determined to start working on selling...</td>\n",
       "      <td>0</td>\n",
       "      <td>iris is determined to start working on selling...</td>\n",
       "    </tr>\n",
       "    <tr>\n",
       "      <th>2240</th>\n",
       "      <td>7341.0</td>\n",
       "      <td>Maria Florentino is a spirited young woman who...</td>\n",
       "      <td>0</td>\n",
       "      <td>maria florentino is a spirited young woman who...</td>\n",
       "    </tr>\n",
       "  </tbody>\n",
       "</table>\n",
       "</div>"
      ],
      "text/plain": [
       "      loan_id  ...                                 en_clean_Processed\n",
       "2094   7754.0  ...  fhlippe is a single parent the head of his hou...\n",
       "6456      NaN  ...  juana the leader of this group live 36 years o...\n",
       "4931   3903.0  ...  jenny is a single mother with 3 children she o...\n",
       "190    5844.0  ...  iris is determined to start working on selling...\n",
       "2240   7341.0  ...  maria florentino is a spirited young woman who...\n",
       "\n",
       "[5 rows x 4 columns]"
      ]
     },
     "execution_count": 19,
     "metadata": {
      "tags": []
     },
     "output_type": "execute_result"
    }
   ],
   "source": [
    "#Remove unicodes\n",
    "%time df['en_clean_Processed'] = df['en_clean_Processed'].map(lambda x : re.sub(r'[^\\x00-\\x7F]+',' ', x))\n",
    "df.head()"
   ]
  },
  {
   "cell_type": "code",
   "execution_count": 20,
   "metadata": {
    "executionInfo": {
     "elapsed": 24266,
     "status": "ok",
     "timestamp": 1618178763984,
     "user": {
      "displayName": "Felipe A. Gomes Ferreira",
      "photoUrl": "",
      "userId": "09095471911889500468"
     },
     "user_tz": 180
    },
    "id": "_MWIbvp2qyC6"
   },
   "outputs": [],
   "source": [
    "from nltk.stem import WordNetLemmatizer\n",
    "from nltk.corpus import stopwords"
   ]
  },
  {
   "cell_type": "code",
   "execution_count": 21,
   "metadata": {
    "colab": {
     "base_uri": "https://localhost:8080/",
     "height": 272
    },
    "executionInfo": {
     "elapsed": 26613,
     "status": "ok",
     "timestamp": 1618178766341,
     "user": {
      "displayName": "Felipe A. Gomes Ferreira",
      "photoUrl": "",
      "userId": "09095471911889500468"
     },
     "user_tz": 180
    },
    "id": "95h4kk_XrBEt",
    "outputId": "c77c52ea-1f9b-4bd4-9980-4d990ea3e435"
   },
   "outputs": [
    {
     "name": "stdout",
     "output_type": "stream",
     "text": [
      "[nltk_data] Downloading package stopwords to /root/nltk_data...\n",
      "[nltk_data]   Unzipping corpora/stopwords.zip.\n",
      "CPU times: user 2.13 s, sys: 5.56 ms, total: 2.14 s\n",
      "Wall time: 2.13 s\n"
     ]
    },
    {
     "data": {
      "text/html": [
       "<div>\n",
       "<style scoped>\n",
       "    .dataframe tbody tr th:only-of-type {\n",
       "        vertical-align: middle;\n",
       "    }\n",
       "\n",
       "    .dataframe tbody tr th {\n",
       "        vertical-align: top;\n",
       "    }\n",
       "\n",
       "    .dataframe thead th {\n",
       "        text-align: right;\n",
       "    }\n",
       "</style>\n",
       "<table border=\"1\" class=\"dataframe\">\n",
       "  <thead>\n",
       "    <tr style=\"text-align: right;\">\n",
       "      <th></th>\n",
       "      <th>loan_id</th>\n",
       "      <th>en_clean</th>\n",
       "      <th>defaulted</th>\n",
       "      <th>en_clean_Processed</th>\n",
       "    </tr>\n",
       "  </thead>\n",
       "  <tbody>\n",
       "    <tr>\n",
       "      <th>2094</th>\n",
       "      <td>7754.0</td>\n",
       "      <td>Fhlippe is a single parent, the head of his ho...</td>\n",
       "      <td>0</td>\n",
       "      <td>fhlippe single parent head household provides ...</td>\n",
       "    </tr>\n",
       "    <tr>\n",
       "      <th>6456</th>\n",
       "      <td>NaN</td>\n",
       "      <td>juana, the leader of this group, live 36 years...</td>\n",
       "      <td>1</td>\n",
       "      <td>juana leader group live 36 years old proud mot...</td>\n",
       "    </tr>\n",
       "    <tr>\n",
       "      <th>4931</th>\n",
       "      <td>3903.0</td>\n",
       "      <td>Jenny is a single mother with 3 children. She ...</td>\n",
       "      <td>0</td>\n",
       "      <td>jenny single mother 3 children owns small shop...</td>\n",
       "    </tr>\n",
       "    <tr>\n",
       "      <th>190</th>\n",
       "      <td>5844.0</td>\n",
       "      <td>Iris is determined to start working on selling...</td>\n",
       "      <td>0</td>\n",
       "      <td>iris determined start working selling various ...</td>\n",
       "    </tr>\n",
       "    <tr>\n",
       "      <th>2240</th>\n",
       "      <td>7341.0</td>\n",
       "      <td>Maria Florentino is a spirited young woman who...</td>\n",
       "      <td>0</td>\n",
       "      <td>maria florentino spirited young woman lives sm...</td>\n",
       "    </tr>\n",
       "  </tbody>\n",
       "</table>\n",
       "</div>"
      ],
      "text/plain": [
       "      loan_id  ...                                 en_clean_Processed\n",
       "2094   7754.0  ...  fhlippe single parent head household provides ...\n",
       "6456      NaN  ...  juana leader group live 36 years old proud mot...\n",
       "4931   3903.0  ...  jenny single mother 3 children owns small shop...\n",
       "190    5844.0  ...  iris determined start working selling various ...\n",
       "2240   7341.0  ...  maria florentino spirited young woman lives sm...\n",
       "\n",
       "[5 rows x 4 columns]"
      ]
     },
     "execution_count": 21,
     "metadata": {
      "tags": []
     },
     "output_type": "execute_result"
    }
   ],
   "source": [
    "import nltk\n",
    "nltk.download('stopwords')\n",
    "# Remove stopwords\n",
    "stop_words = stopwords.words('english')\n",
    "%time df['en_clean_Processed'] = df['en_clean_Processed'].map(lambda x : ' '.join([w for w in x.split() if w not in stop_words]))\n",
    "df.head()"
   ]
  },
  {
   "cell_type": "code",
   "execution_count": 22,
   "metadata": {
    "colab": {
     "base_uri": "https://localhost:8080/",
     "height": 238
    },
    "executionInfo": {
     "elapsed": 31039,
     "status": "ok",
     "timestamp": 1618178770777,
     "user": {
      "displayName": "Felipe A. Gomes Ferreira",
      "photoUrl": "",
      "userId": "09095471911889500468"
     },
     "user_tz": 180
    },
    "id": "F37BYbqnKraC",
    "outputId": "a9e321a6-b757-4544-823f-7dc83e09a3a0"
   },
   "outputs": [
    {
     "name": "stdout",
     "output_type": "stream",
     "text": [
      "CPU times: user 4.01 s, sys: 14 ms, total: 4.03 s\n",
      "Wall time: 4.01 s\n"
     ]
    },
    {
     "data": {
      "text/html": [
       "<div>\n",
       "<style scoped>\n",
       "    .dataframe tbody tr th:only-of-type {\n",
       "        vertical-align: middle;\n",
       "    }\n",
       "\n",
       "    .dataframe tbody tr th {\n",
       "        vertical-align: top;\n",
       "    }\n",
       "\n",
       "    .dataframe thead th {\n",
       "        text-align: right;\n",
       "    }\n",
       "</style>\n",
       "<table border=\"1\" class=\"dataframe\">\n",
       "  <thead>\n",
       "    <tr style=\"text-align: right;\">\n",
       "      <th></th>\n",
       "      <th>loan_id</th>\n",
       "      <th>en_clean</th>\n",
       "      <th>defaulted</th>\n",
       "      <th>en_clean_Processed</th>\n",
       "    </tr>\n",
       "  </thead>\n",
       "  <tbody>\n",
       "    <tr>\n",
       "      <th>2094</th>\n",
       "      <td>7754.0</td>\n",
       "      <td>Fhlippe is a single parent, the head of his ho...</td>\n",
       "      <td>0</td>\n",
       "      <td>fhlippe single parent head household provides ...</td>\n",
       "    </tr>\n",
       "    <tr>\n",
       "      <th>6456</th>\n",
       "      <td>NaN</td>\n",
       "      <td>juana, the leader of this group, live 36 years...</td>\n",
       "      <td>1</td>\n",
       "      <td>juana leader group live 36 year old proud moth...</td>\n",
       "    </tr>\n",
       "    <tr>\n",
       "      <th>4931</th>\n",
       "      <td>3903.0</td>\n",
       "      <td>Jenny is a single mother with 3 children. She ...</td>\n",
       "      <td>0</td>\n",
       "      <td>jenny single mother 3 child owns small shop se...</td>\n",
       "    </tr>\n",
       "    <tr>\n",
       "      <th>190</th>\n",
       "      <td>5844.0</td>\n",
       "      <td>Iris is determined to start working on selling...</td>\n",
       "      <td>0</td>\n",
       "      <td>iris determined start working selling various ...</td>\n",
       "    </tr>\n",
       "    <tr>\n",
       "      <th>2240</th>\n",
       "      <td>7341.0</td>\n",
       "      <td>Maria Florentino is a spirited young woman who...</td>\n",
       "      <td>0</td>\n",
       "      <td>maria florentino spirited young woman life sma...</td>\n",
       "    </tr>\n",
       "  </tbody>\n",
       "</table>\n",
       "</div>"
      ],
      "text/plain": [
       "      loan_id  ...                                 en_clean_Processed\n",
       "2094   7754.0  ...  fhlippe single parent head household provides ...\n",
       "6456      NaN  ...  juana leader group live 36 year old proud moth...\n",
       "4931   3903.0  ...  jenny single mother 3 child owns small shop se...\n",
       "190    5844.0  ...  iris determined start working selling various ...\n",
       "2240   7341.0  ...  maria florentino spirited young woman life sma...\n",
       "\n",
       "[5 rows x 4 columns]"
      ]
     },
     "execution_count": 22,
     "metadata": {
      "tags": []
     },
     "output_type": "execute_result"
    }
   ],
   "source": [
    "#nltk.download('wordnet')\n",
    "  \n",
    "# Lemmatize the text\n",
    "lemmer = WordNetLemmatizer()\n",
    "\n",
    "%time df['en_clean_Processed'] = df['en_clean_Processed'].map(lambda x : ' '.join([lemmer.lemmatize(w) for w in x.split() if w not in stop_words]))\n",
    "df.head()"
   ]
  },
  {
   "cell_type": "code",
   "execution_count": 23,
   "metadata": {
    "colab": {
     "base_uri": "https://localhost:8080/"
    },
    "executionInfo": {
     "elapsed": 31031,
     "status": "ok",
     "timestamp": 1618178770778,
     "user": {
      "displayName": "Felipe A. Gomes Ferreira",
      "photoUrl": "",
      "userId": "09095471911889500468"
     },
     "user_tz": 180
    },
    "id": "AHihOfbc3Tvo",
    "outputId": "68c132aa-672a-4642-e6a4-de721a0dccc4"
   },
   "outputs": [
    {
     "name": "stdout",
     "output_type": "stream",
     "text": [
      "<class 'pandas.core.frame.DataFrame'>\n",
      "Int64Index: 7329 entries, 2094 to 4168\n",
      "Data columns (total 4 columns):\n",
      " #   Column              Non-Null Count  Dtype  \n",
      "---  ------              --------------  -----  \n",
      " 0   loan_id             6129 non-null   float64\n",
      " 1   en_clean            7329 non-null   object \n",
      " 2   defaulted           7329 non-null   int64  \n",
      " 3   en_clean_Processed  7329 non-null   object \n",
      "dtypes: float64(1), int64(1), object(2)\n",
      "memory usage: 606.3+ KB\n"
     ]
    }
   ],
   "source": [
    "df.info()"
   ]
  },
  {
   "cell_type": "code",
   "execution_count": 24,
   "metadata": {
    "colab": {
     "base_uri": "https://localhost:8080/",
     "height": 425
    },
    "executionInfo": {
     "elapsed": 32117,
     "status": "ok",
     "timestamp": 1618178771875,
     "user": {
      "displayName": "Felipe A. Gomes Ferreira",
      "photoUrl": "",
      "userId": "09095471911889500468"
     },
     "user_tz": 180
    },
    "id": "xRHomKaxK386",
    "outputId": "8ebb225a-170c-401b-d571-49ae48bc7b86"
   },
   "outputs": [
    {
     "name": "stdout",
     "output_type": "stream",
     "text": [
      "CPU times: user 1.6 s, sys: 4.22 ms, total: 1.6 s\n",
      "Wall time: 1.6 s\n"
     ]
    },
    {
     "data": {
      "text/html": [
       "<div>\n",
       "<style scoped>\n",
       "    .dataframe tbody tr th:only-of-type {\n",
       "        vertical-align: middle;\n",
       "    }\n",
       "\n",
       "    .dataframe tbody tr th {\n",
       "        vertical-align: top;\n",
       "    }\n",
       "\n",
       "    .dataframe thead th {\n",
       "        text-align: right;\n",
       "    }\n",
       "</style>\n",
       "<table border=\"1\" class=\"dataframe\">\n",
       "  <thead>\n",
       "    <tr style=\"text-align: right;\">\n",
       "      <th></th>\n",
       "      <th>loan_id</th>\n",
       "      <th>en_clean</th>\n",
       "      <th>defaulted</th>\n",
       "      <th>en_clean_Processed</th>\n",
       "    </tr>\n",
       "  </thead>\n",
       "  <tbody>\n",
       "    <tr>\n",
       "      <th>2094</th>\n",
       "      <td>7754.0</td>\n",
       "      <td>Fhlippe is a single parent, the head of his ho...</td>\n",
       "      <td>0</td>\n",
       "      <td>fhlippe single parent head household provides ...</td>\n",
       "    </tr>\n",
       "    <tr>\n",
       "      <th>6456</th>\n",
       "      <td>NaN</td>\n",
       "      <td>juana, the leader of this group, live 36 years...</td>\n",
       "      <td>1</td>\n",
       "      <td>juana leader group live 36 year old proud moth...</td>\n",
       "    </tr>\n",
       "    <tr>\n",
       "      <th>4931</th>\n",
       "      <td>3903.0</td>\n",
       "      <td>Jenny is a single mother with 3 children. She ...</td>\n",
       "      <td>0</td>\n",
       "      <td>jenny single mother 3 child owns small shop se...</td>\n",
       "    </tr>\n",
       "    <tr>\n",
       "      <th>190</th>\n",
       "      <td>5844.0</td>\n",
       "      <td>Iris is determined to start working on selling...</td>\n",
       "      <td>0</td>\n",
       "      <td>iris determined start working selling various ...</td>\n",
       "    </tr>\n",
       "    <tr>\n",
       "      <th>2240</th>\n",
       "      <td>7341.0</td>\n",
       "      <td>Maria Florentino is a spirited young woman who...</td>\n",
       "      <td>0</td>\n",
       "      <td>maria florentino spirited young woman life sma...</td>\n",
       "    </tr>\n",
       "  </tbody>\n",
       "</table>\n",
       "</div>"
      ],
      "text/plain": [
       "      loan_id  ...                                 en_clean_Processed\n",
       "2094   7754.0  ...  fhlippe single parent head household provides ...\n",
       "6456      NaN  ...  juana leader group live 36 year old proud moth...\n",
       "4931   3903.0  ...  jenny single mother 3 child owns small shop se...\n",
       "190    5844.0  ...  iris determined start working selling various ...\n",
       "2240   7341.0  ...  maria florentino spirited young woman life sma...\n",
       "\n",
       "[5 rows x 4 columns]"
      ]
     },
     "metadata": {
      "tags": []
     },
     "output_type": "display_data"
    },
    {
     "data": {
      "text/html": [
       "<div>\n",
       "<style scoped>\n",
       "    .dataframe tbody tr th:only-of-type {\n",
       "        vertical-align: middle;\n",
       "    }\n",
       "\n",
       "    .dataframe tbody tr th {\n",
       "        vertical-align: top;\n",
       "    }\n",
       "\n",
       "    .dataframe thead th {\n",
       "        text-align: right;\n",
       "    }\n",
       "</style>\n",
       "<table border=\"1\" class=\"dataframe\">\n",
       "  <thead>\n",
       "    <tr style=\"text-align: right;\">\n",
       "      <th></th>\n",
       "      <th>loan_id</th>\n",
       "      <th>en_clean</th>\n",
       "      <th>defaulted</th>\n",
       "      <th>en_clean_Processed</th>\n",
       "    </tr>\n",
       "  </thead>\n",
       "  <tbody>\n",
       "    <tr>\n",
       "      <th>4103</th>\n",
       "      <td>1226.0</td>\n",
       "      <td>I am a married man, a father of 3. I sell belt...</td>\n",
       "      <td>1</td>\n",
       "      <td>married man father 3 sell belt living main bre...</td>\n",
       "    </tr>\n",
       "    <tr>\n",
       "      <th>3900</th>\n",
       "      <td>3739.0</td>\n",
       "      <td>Maria Ortiz who is a 49 year-old originally fr...</td>\n",
       "      <td>0</td>\n",
       "      <td>maria ortiz 49 year old originally caar ecuado...</td>\n",
       "    </tr>\n",
       "    <tr>\n",
       "      <th>2992</th>\n",
       "      <td>5651.0</td>\n",
       "      <td>Jane is married with five children, all in pri...</td>\n",
       "      <td>0</td>\n",
       "      <td>jane married five child primary school underta...</td>\n",
       "    </tr>\n",
       "    <tr>\n",
       "      <th>6657</th>\n",
       "      <td>NaN</td>\n",
       "      <td>alejandrina give a small store in her house wh...</td>\n",
       "      <td>1</td>\n",
       "      <td>alejandrina give small store house trade basic...</td>\n",
       "    </tr>\n",
       "    <tr>\n",
       "      <th>4168</th>\n",
       "      <td>2366.0</td>\n",
       "      <td>Karen Chepngeno Rotich is 26 years old and mar...</td>\n",
       "      <td>1</td>\n",
       "      <td>karen chepngeno rotich 26 year old married thr...</td>\n",
       "    </tr>\n",
       "  </tbody>\n",
       "</table>\n",
       "</div>"
      ],
      "text/plain": [
       "      loan_id  ...                                 en_clean_Processed\n",
       "4103   1226.0  ...  married man father 3 sell belt living main bre...\n",
       "3900   3739.0  ...  maria ortiz 49 year old originally caar ecuado...\n",
       "2992   5651.0  ...  jane married five child primary school underta...\n",
       "6657      NaN  ...  alejandrina give small store house trade basic...\n",
       "4168   2366.0  ...  karen chepngeno rotich 26 year old married thr...\n",
       "\n",
       "[5 rows x 4 columns]"
      ]
     },
     "metadata": {
      "tags": []
     },
     "output_type": "display_data"
    }
   ],
   "source": [
    "#Removing Stop words again after Lemmatize\n",
    "%time df['en_clean_Processed'] = df['en_clean_Processed'].map(lambda x : ' '.join([w for w in x.split() if w not in stop_words]))\n",
    "display(df.head())\n",
    "display(df.tail())"
   ]
  },
  {
   "cell_type": "code",
   "execution_count": 25,
   "metadata": {
    "executionInfo": {
     "elapsed": 32116,
     "status": "ok",
     "timestamp": 1618178771876,
     "user": {
      "displayName": "Felipe A. Gomes Ferreira",
      "photoUrl": "",
      "userId": "09095471911889500468"
     },
     "user_tz": 180
    },
    "id": "9IhHdOIIrEDo"
   },
   "outputs": [],
   "source": [
    "from sklearn.feature_extraction.text import CountVectorizer\n",
    "from sklearn.feature_extraction.text import TfidfVectorizer\n",
    "from sklearn.feature_extraction.text import HashingVectorizer"
   ]
  },
  {
   "cell_type": "code",
   "execution_count": 26,
   "metadata": {
    "executionInfo": {
     "elapsed": 32115,
     "status": "ok",
     "timestamp": 1618178771878,
     "user": {
      "displayName": "Felipe A. Gomes Ferreira",
      "photoUrl": "",
      "userId": "09095471911889500468"
     },
     "user_tz": 180
    },
    "id": "ko0Nvo4KrHKG"
   },
   "outputs": [],
   "source": [
    "#funtion to get 'top N' or 'bottom N' words\n",
    "\n",
    "def get_n_words(corpus, direction, n):\n",
    "    vec = CountVectorizer(stop_words = 'english').fit(corpus)\n",
    "    bag_of_words = vec.transform(corpus)\n",
    "    sum_words = bag_of_words.sum(axis=0) \n",
    "    words_freq = [(word, sum_words[0, idx]) for word, idx in vec.vocabulary_.items()]\n",
    "    if direction == \"top\":\n",
    "        words_freq =sorted(words_freq, key = lambda x: x[1], reverse=True)\n",
    "    else:\n",
    "        words_freq =sorted(words_freq, key = lambda x: x[1], reverse=False)\n",
    "    return words_freq[:n]"
   ]
  },
  {
   "cell_type": "code",
   "execution_count": 27,
   "metadata": {
    "executionInfo": {
     "elapsed": 33866,
     "status": "ok",
     "timestamp": 1618178773631,
     "user": {
      "displayName": "Felipe A. Gomes Ferreira",
      "photoUrl": "",
      "userId": "09095471911889500468"
     },
     "user_tz": 180
    },
    "id": "t1kgeutALL76"
   },
   "outputs": [],
   "source": [
    "#10 most common and 10 most rare words\n",
    "common_words = get_n_words(df['en_clean_Processed'], \"top\", 15)\n",
    "rare_words = get_n_words(df['en_clean_Processed'], \"bottom\", 500)"
   ]
  },
  {
   "cell_type": "code",
   "execution_count": 28,
   "metadata": {
    "colab": {
     "base_uri": "https://localhost:8080/"
    },
    "executionInfo": {
     "elapsed": 33856,
     "status": "ok",
     "timestamp": 1618178773632,
     "user": {
      "displayName": "Felipe A. Gomes Ferreira",
      "photoUrl": "",
      "userId": "09095471911889500468"
     },
     "user_tz": 180
    },
    "id": "htseO84orRGN",
    "outputId": "7ac324be-9ae9-473f-d217-4fafb0bf2313"
   },
   "outputs": [
    {
     "data": {
      "text/plain": [
       "[('business', 14331),\n",
       " ('loan', 12691),\n",
       " ('child', 9078),\n",
       " ('year', 8862),\n",
       " ('school', 5534),\n",
       " ('sell', 5115),\n",
       " ('family', 4732),\n",
       " ('buy', 4648),\n",
       " ('old', 4469),\n",
       " ('group', 4152),\n",
       " ('able', 4107),\n",
       " ('woman', 3131),\n",
       " ('income', 3126),\n",
       " ('small', 3076),\n",
       " ('husband', 3021)]"
      ]
     },
     "execution_count": 28,
     "metadata": {
      "tags": []
     },
     "output_type": "execute_result"
    }
   ],
   "source": [
    "common_words"
   ]
  },
  {
   "cell_type": "code",
   "execution_count": 29,
   "metadata": {
    "colab": {
     "base_uri": "https://localhost:8080/"
    },
    "executionInfo": {
     "elapsed": 33849,
     "status": "ok",
     "timestamp": 1618178773633,
     "user": {
      "displayName": "Felipe A. Gomes Ferreira",
      "photoUrl": "",
      "userId": "09095471911889500468"
     },
     "user_tz": 180
    },
    "id": "Re8qU38hLiq-",
    "outputId": "b214172b-a08f-48c9-ab89-3c5acda14dfd"
   },
   "outputs": [
    {
     "data": {
      "text/plain": [
       "[('titled', 1),\n",
       " ('enlist', 1),\n",
       " ('localise', 1),\n",
       " ('ngoga', 1),\n",
       " ('torro', 1),\n",
       " ('aldofo', 1),\n",
       " ('imel', 1),\n",
       " ('nectanier', 1),\n",
       " ('getembe', 1),\n",
       " ('geraldino', 1),\n",
       " ('religion', 1),\n",
       " ('illustrates', 1),\n",
       " ('kedenyere', 1),\n",
       " ('eboya', 1),\n",
       " ('kadenyere', 1),\n",
       " ('117', 1),\n",
       " ('vuelven', 1),\n",
       " ('analyzes', 1),\n",
       " ('auko', 1),\n",
       " ('gloomy', 1),\n",
       " ('narrates', 1),\n",
       " ('oclock', 1),\n",
       " ('jaunt', 1),\n",
       " ('kirui', 1),\n",
       " ('worldwide', 1),\n",
       " ('nyakeru', 1),\n",
       " ('gichohi', 1),\n",
       " ('agoch', 1),\n",
       " ('persuades', 1),\n",
       " ('kalunda', 1),\n",
       " ('girlfriend', 1),\n",
       " ('munyambu', 1),\n",
       " ('reformed', 1),\n",
       " ('sculpture', 1),\n",
       " ('advantageously', 1),\n",
       " ('hello', 1),\n",
       " ('evangelic', 1),\n",
       " ('vaca', 1),\n",
       " ('cabra', 1),\n",
       " ('insect', 1),\n",
       " ('extermination', 1),\n",
       " ('cantuas', 1),\n",
       " ('sanitation', 1),\n",
       " ('oketch', 1),\n",
       " ('todo', 1),\n",
       " ('dubeau', 1),\n",
       " ('amauri', 1),\n",
       " ('ndonga', 1),\n",
       " ('sazon', 1),\n",
       " ('downplay', 1),\n",
       " ('mere', 1),\n",
       " ('outflow', 1),\n",
       " ('neck', 1),\n",
       " ('glendas', 1),\n",
       " ('cyrus', 1),\n",
       " ('warn', 1),\n",
       " ('in1996', 1),\n",
       " ('borderskenya', 1),\n",
       " ('shillings100', 1),\n",
       " ('illicit', 1),\n",
       " ('kangara', 1),\n",
       " ('dialect', 1),\n",
       " ('incapacitated', 1),\n",
       " ('ebenengi', 1),\n",
       " ('passionately', 1),\n",
       " ('demonstrator', 1),\n",
       " ('manned', 1),\n",
       " ('incorporates', 1),\n",
       " ('meeet', 1),\n",
       " ('suite', 1),\n",
       " ('barmaid', 1),\n",
       " ('subsistent', 1),\n",
       " ('bearable', 1),\n",
       " ('yambatiste', 1),\n",
       " ('usd20', 1),\n",
       " ('venir', 1),\n",
       " ('kune', 1),\n",
       " ('wako', 1),\n",
       " ('terry', 1),\n",
       " ('vivalyne', 1),\n",
       " ('chepkirui', 1),\n",
       " ('telekom', 1),\n",
       " ('barret', 1),\n",
       " ('refilling', 1),\n",
       " ('domincian', 1),\n",
       " ('canister', 1),\n",
       " ('anahilda', 1),\n",
       " ('branched', 1),\n",
       " ('guatita', 1),\n",
       " ('ecuadorean', 1),\n",
       " ('fron', 1),\n",
       " ('masika', 1),\n",
       " ('ndugu', 1),\n",
       " ('teddy', 1),\n",
       " ('masompa', 1),\n",
       " ('mifugo', 1),\n",
       " ('decoracion', 1),\n",
       " ('dimensional', 1),\n",
       " ('juaquin', 1),\n",
       " ('dilovi', 1),\n",
       " ('kiarie', 1),\n",
       " ('kagundo', 1),\n",
       " ('plato', 1),\n",
       " ('da', 1),\n",
       " ('aspired', 1),\n",
       " ('neigborhood', 1),\n",
       " ('preliminary', 1),\n",
       " ('esperaza', 1),\n",
       " ('higina', 1),\n",
       " ('limones', 1),\n",
       " ('olulo', 1),\n",
       " ('amondi', 1),\n",
       " ('overtop', 1),\n",
       " ('gicheru', 1),\n",
       " ('deterred', 1),\n",
       " ('obwaka', 1),\n",
       " ('kwa', 1),\n",
       " ('wamugi', 1),\n",
       " ('polio', 1),\n",
       " ('julitas', 1),\n",
       " ('dewormers', 1),\n",
       " ('gaki', 1),\n",
       " ('maximina', 1),\n",
       " ('albuerme', 1),\n",
       " ('roams', 1),\n",
       " ('anniversary', 1),\n",
       " ('emelinda', 1),\n",
       " ('aybar', 1),\n",
       " ('campos', 1),\n",
       " ('stifle', 1),\n",
       " ('agronomic', 1),\n",
       " ('roaming', 1),\n",
       " ('siboyi', 1),\n",
       " ('obutaywa', 1),\n",
       " ('supplus', 1),\n",
       " ('kamita', 1),\n",
       " ('dispenser', 1),\n",
       " ('salim', 1),\n",
       " ('montenegro', 1),\n",
       " ('overtaken', 1),\n",
       " ('munguti', 1),\n",
       " ('strep', 1),\n",
       " ('penicillin', 1),\n",
       " ('joviality', 1),\n",
       " ('yungo', 1),\n",
       " ('witeithie', 1),\n",
       " ('ngurweini', 1),\n",
       " ('farmland', 1),\n",
       " ('geraldo', 1),\n",
       " ('fay', 1),\n",
       " ('deducts', 1),\n",
       " ('decolourize', 1),\n",
       " ('overdue', 1),\n",
       " ('kipngeno', 1),\n",
       " ('suspended', 1),\n",
       " ('sterilized', 1),\n",
       " ('milon', 1),\n",
       " ('discontinue', 1),\n",
       " ('lour', 1),\n",
       " ('moil', 1),\n",
       " ('folding', 1),\n",
       " ('liquidated', 1),\n",
       " ('urgency', 1),\n",
       " ('simn', 1),\n",
       " ('juian', 1),\n",
       " ('odum', 1),\n",
       " ('knot', 1),\n",
       " ('sweetheart', 1),\n",
       " ('mutuku', 1),\n",
       " ('masil', 1),\n",
       " ('identifies', 1),\n",
       " ('nearing', 1),\n",
       " ('angle', 1),\n",
       " ('intensified', 1),\n",
       " ('counted', 1),\n",
       " ('jericans', 1),\n",
       " ('1968', 1),\n",
       " ('okudo', 1),\n",
       " ('assay', 1),\n",
       " ('sweeten', 1),\n",
       " ('wayua', 1),\n",
       " ('muasya', 1),\n",
       " ('headway', 1),\n",
       " ('servive', 1),\n",
       " ('litte', 1),\n",
       " ('adhesive', 1),\n",
       " ('karla', 1),\n",
       " ('balcony', 1),\n",
       " ('cordero', 1),\n",
       " ('joaquina', 1),\n",
       " ('jairo', 1),\n",
       " ('blacksmithing', 1),\n",
       " ('dustcart', 1),\n",
       " ('onwards', 1),\n",
       " ('manera', 1),\n",
       " ('battling', 1),\n",
       " ('relieving', 1),\n",
       " ('ndalo', 1),\n",
       " ('gardener', 1),\n",
       " ('2usd', 1),\n",
       " ('libia', 1),\n",
       " ('othiambo', 1),\n",
       " ('propositos', 1),\n",
       " ('bosch', 1),\n",
       " ('author', 1),\n",
       " ('guadam', 1),\n",
       " ('yesenias', 1),\n",
       " ('guadama', 1),\n",
       " ('celebrating', 1),\n",
       " ('olympic', 1),\n",
       " ('agape', 1),\n",
       " ('fabricating', 1),\n",
       " ('fabricated', 1),\n",
       " ('enforce', 1),\n",
       " ('diffrent', 1),\n",
       " ('kagio', 1),\n",
       " ('kangari', 1),\n",
       " ('karatina', 1),\n",
       " ('inturn', 1),\n",
       " ('swift', 1),\n",
       " ('dissapoint', 1),\n",
       " ('tarasilas', 1),\n",
       " ('pantyhose', 1),\n",
       " ('retrench', 1),\n",
       " ('clorine', 1),\n",
       " ('ironworking', 1),\n",
       " ('matching', 1),\n",
       " ('obadia', 1),\n",
       " ('tentmaker', 1),\n",
       " ('leatherwork', 1),\n",
       " ('chooses', 1),\n",
       " ('cateress', 1),\n",
       " ('gikumi', 1),\n",
       " ('candlescandles', 1),\n",
       " ('corruption', 1),\n",
       " ('stealing', 1),\n",
       " ('valencia', 1),\n",
       " ('honing', 1),\n",
       " ('pltano', 1),\n",
       " ('finest', 1),\n",
       " ('1030', 1),\n",
       " ('evaluation', 1),\n",
       " ('liquidate', 1),\n",
       " ('poche', 1),\n",
       " ('necessarily', 1),\n",
       " ('yolandas', 1),\n",
       " ('cauzi', 1),\n",
       " ('garrido', 1),\n",
       " ('orlando', 1),\n",
       " ('wilderness', 1),\n",
       " ('breathing', 1),\n",
       " ('untreated', 1),\n",
       " ('jorges', 1),\n",
       " ('masila', 1),\n",
       " ('pumwani', 1),\n",
       " ('aghakan', 1),\n",
       " ('nascent', 1),\n",
       " ('flaw', 1),\n",
       " ('suffocated', 1),\n",
       " ('ventilation', 1),\n",
       " ('kagia', 1),\n",
       " ('saron', 1),\n",
       " ('annelouse', 1),\n",
       " ('vasques', 1),\n",
       " ('traning', 1),\n",
       " ('overseee', 1),\n",
       " ('replants', 1),\n",
       " ('pumping', 1),\n",
       " ('antionio', 1),\n",
       " ('alvine', 1),\n",
       " ('favian', 1),\n",
       " ('yafresi', 1),\n",
       " ('30litres', 1),\n",
       " ('nkerote', 1),\n",
       " ('ndobi', 1),\n",
       " ('substantively', 1),\n",
       " ('palveuts', 1),\n",
       " ('exhausting', 1),\n",
       " ('christianity', 1),\n",
       " ('teolinda', 1),\n",
       " ('florestal', 1),\n",
       " ('poured', 1),\n",
       " ('alseis', 1),\n",
       " ('employeed', 1),\n",
       " ('billiard', 1),\n",
       " ('handsome', 1),\n",
       " ('dreamt', 1),\n",
       " ('elina', 1),\n",
       " ('undergarmentsas', 1),\n",
       " ('daybut', 1),\n",
       " ('eyed', 1),\n",
       " ('sonin', 1),\n",
       " ('yo', 1),\n",
       " ('puedo', 1),\n",
       " ('brushing', 1),\n",
       " ('factly', 1),\n",
       " ('zidor', 1),\n",
       " ('jesumene', 1),\n",
       " ('ahono', 1),\n",
       " ('mujer', 1),\n",
       " ('37th', 1),\n",
       " ('nayeli', 1),\n",
       " ('accompanied', 1),\n",
       " ('humored', 1),\n",
       " ('murcilago', 1),\n",
       " ('picoaz', 1),\n",
       " ('downsized', 1),\n",
       " ('lawn', 1),\n",
       " ('racket', 1),\n",
       " ('ball', 1),\n",
       " ('ripening', 1),\n",
       " ('burglarized', 1),\n",
       " ('usd130', 1),\n",
       " ('adumai', 1),\n",
       " ('waist', 1),\n",
       " ('assert', 1),\n",
       " ('nicauris', 1),\n",
       " ('pierrot', 1),\n",
       " ('valera', 1),\n",
       " ('awoke', 1),\n",
       " ('ending', 1),\n",
       " ('disastrous', 1),\n",
       " ('denissa', 1),\n",
       " ('altgracia', 1),\n",
       " ('solaine', 1),\n",
       " ('pinchn', 1),\n",
       " ('hyperactive', 1),\n",
       " ('alignment', 1),\n",
       " ('pedestal', 1),\n",
       " ('activate', 1),\n",
       " ('busines', 1),\n",
       " ('agness', 1),\n",
       " ('absence', 1),\n",
       " ('lantern', 1),\n",
       " ('roadmap', 1),\n",
       " ('caribe', 1),\n",
       " ('multilevel', 1),\n",
       " ('cspedes', 1),\n",
       " ('colasa', 1),\n",
       " ('sirita', 1),\n",
       " ('turere', 1),\n",
       " ('practise', 1),\n",
       " ('overburdened', 1),\n",
       " ('makongeni', 1),\n",
       " ('challeges', 1),\n",
       " ('armijos', 1),\n",
       " ('wilfredos', 1),\n",
       " ('francisa', 1),\n",
       " ('buckwheat', 1),\n",
       " ('midday', 1),\n",
       " ('react', 1),\n",
       " ('nzuki', 1),\n",
       " ('voluntary', 1),\n",
       " ('iads', 1),\n",
       " ('wireless', 1),\n",
       " ('becahse', 1),\n",
       " ('northwest', 1),\n",
       " ('loafer', 1),\n",
       " ('reapplying', 1),\n",
       " ('pascua', 1),\n",
       " ('stopes', 1),\n",
       " ('peeled', 1),\n",
       " ('rip', 1),\n",
       " ('ambreisi', 1),\n",
       " ('gallsheet', 1),\n",
       " ('mayonnaise', 1),\n",
       " ('enkirgirri', 1),\n",
       " ('defunct', 1),\n",
       " ('griselles', 1),\n",
       " ('rudecindo', 1),\n",
       " ('marian', 1),\n",
       " ('kihuro', 1),\n",
       " ('archdeaconry', 1),\n",
       " ('diocese', 1),\n",
       " ('mununga', 1),\n",
       " ('theyd', 1),\n",
       " ('magare', 1),\n",
       " ('stumbled', 1),\n",
       " ('ancn', 1),\n",
       " ('incase', 1),\n",
       " ('disaster', 1),\n",
       " ('kipkorir', 1),\n",
       " ('strived', 1),\n",
       " ('indio', 1),\n",
       " ('taller', 1),\n",
       " ('mecnico', 1),\n",
       " ('otano', 1),\n",
       " ('microentrepreneurship', 1),\n",
       " ('brisas', 1),\n",
       " ('threat', 1),\n",
       " ('elize', 1),\n",
       " ('frituria', 1),\n",
       " ('gloss', 1),\n",
       " ('skincare', 1),\n",
       " ('kk', 1),\n",
       " ('replicate', 1),\n",
       " ('congested', 1),\n",
       " ('aerial', 1),\n",
       " ('boredom', 1),\n",
       " ('enlisted', 1),\n",
       " ('kibubuti', 1),\n",
       " ('convict', 1),\n",
       " ('grouping', 1),\n",
       " ('rat', 1),\n",
       " ('tearing', 1),\n",
       " ('booksand', 1),\n",
       " ('cupboard', 1),\n",
       " ('quipes', 1),\n",
       " ('bulgur', 1),\n",
       " ('olkejuado', 1),\n",
       " ('demarcated', 1),\n",
       " ('comercial', 1),\n",
       " ('jared', 1),\n",
       " ('bwana', 1),\n",
       " ('princess', 1),\n",
       " ('havereceived', 1),\n",
       " ('reliably', 1),\n",
       " ('mabels', 1),\n",
       " ('guineo', 1),\n",
       " ('goret', 1),\n",
       " ('rudescindo', 1),\n",
       " ('mwiruri', 1),\n",
       " ('vicious', 1),\n",
       " ('assessed', 1),\n",
       " ('cubical', 1),\n",
       " ('africaonline', 1),\n",
       " ('yane', 1),\n",
       " ('payday', 1),\n",
       " ('beatro', 1),\n",
       " ('orbe', 1),\n",
       " ('aybal', 1),\n",
       " ('peynado', 1),\n",
       " ('attache', 1),\n",
       " ('snap', 1),\n",
       " ('clasp', 1),\n",
       " ('applicantalexandra', 1),\n",
       " ('kaptenbwa', 1),\n",
       " ('muthua', 1),\n",
       " ('advantaged', 1),\n",
       " ('sur', 1),\n",
       " ('pink', 1),\n",
       " ('lazareto', 1),\n",
       " ('unevenness', 1),\n",
       " ('wind', 1),\n",
       " ('mannered', 1),\n",
       " ('chocho', 1),\n",
       " ('celestina', 1),\n",
       " ('jeweler', 1),\n",
       " ('outright', 1),\n",
       " ('balcn', 1),\n",
       " ('cuencano', 1),\n",
       " ('canelos', 1),\n",
       " ('guamn', 1),\n",
       " ('roco', 1),\n",
       " ('suqui', 1),\n",
       " ('lycra', 1),\n",
       " ('ngeles', 1),\n",
       " ('yoke', 1),\n",
       " ('assemble', 1),\n",
       " ('dop', 1),\n",
       " ('12000', 1),\n",
       " ('wellstocked', 1),\n",
       " ('tonne', 1),\n",
       " ('ochre', 1),\n",
       " ('2200', 1),\n",
       " ('fler', 1),\n",
       " ('caleises', 1),\n",
       " ('kimongoi', 1),\n",
       " ('verdinary', 1),\n",
       " ('amados', 1),\n",
       " ('lavayen', 1),\n",
       " ('kimili', 1),\n",
       " ('concretely', 1),\n",
       " ('agustin', 1),\n",
       " ('alonside', 1),\n",
       " ('emania', 1),\n",
       " ('yela', 1),\n",
       " ('quetrina', 1),\n",
       " ('chelene', 1),\n",
       " ('vitali', 1),\n",
       " ('yaya', 1),\n",
       " ('peddlar', 1),\n",
       " ('confer', 1),\n",
       " ('retailed', 1),\n",
       " ('jemimas', 1),\n",
       " ('amancio', 1),\n",
       " ('cisnero', 1),\n",
       " ('alquidania', 1),\n",
       " ('cabassa', 1),\n",
       " ('aromatizers', 1),\n",
       " ('elaborates', 1),\n",
       " ('ndumbu', 1),\n",
       " ('samburu', 1),\n",
       " ('rustler', 1),\n",
       " ('icdc', 1),\n",
       " ('moi', 1),\n",
       " ('saddle', 1),\n",
       " ('gachuru', 1),\n",
       " ('muchunguchu', 1),\n",
       " ('jeantilia', 1)]"
      ]
     },
     "execution_count": 29,
     "metadata": {
      "tags": []
     },
     "output_type": "execute_result"
    }
   ],
   "source": [
    "rare_words"
   ]
  },
  {
   "cell_type": "code",
   "execution_count": 30,
   "metadata": {
    "colab": {
     "base_uri": "https://localhost:8080/"
    },
    "executionInfo": {
     "elapsed": 41136,
     "status": "ok",
     "timestamp": 1618178780929,
     "user": {
      "displayName": "Felipe A. Gomes Ferreira",
      "photoUrl": "",
      "userId": "09095471911889500468"
     },
     "user_tz": 180
    },
    "id": "YVDh3B8XTG3m",
    "outputId": "502f39c1-3735-41ae-ab3f-26c57ec7fe24"
   },
   "outputs": [
    {
     "name": "stdout",
     "output_type": "stream",
     "text": [
      "CPU times: user 5.5 s, sys: 8.58 ms, total: 5.51 s\n",
      "Wall time: 5.5 s\n"
     ]
    }
   ],
   "source": [
    "\n",
    "#Removing common and rare words\n",
    "#%time df['en_clean'] = df['en_clean'].map(lambda x : ' '.join([w for w in x.split() if w not in common_words]))\n",
    "%time df['en_clean_Processed'] = df['en_clean_Processed'].map(lambda x : ' '.join([w for w in x.split() if w not in rare_words]))"
   ]
  },
  {
   "cell_type": "code",
   "execution_count": 31,
   "metadata": {
    "colab": {
     "base_uri": "https://localhost:8080/",
     "height": 356
    },
    "executionInfo": {
     "elapsed": 43360,
     "status": "ok",
     "timestamp": 1618178783164,
     "user": {
      "displayName": "Felipe A. Gomes Ferreira",
      "photoUrl": "",
      "userId": "09095471911889500468"
     },
     "user_tz": 180
    },
    "id": "u23Z23SvrVit",
    "outputId": "5af1dd6b-6cca-46ca-dd32-437941fe4c19"
   },
   "outputs": [
    {
     "name": "stdout",
     "output_type": "stream",
     "text": [
      "CPU times: user 3.6 s, sys: 96 ms, total: 3.69 s\n",
      "Wall time: 3.68 s\n"
     ]
    },
    {
     "data": {
      "application/vnd.google.colaboratory.intrinsic+json": {
       "type": "string"
      },
      "text/plain": [
       "'Bow-TF :'"
      ]
     },
     "metadata": {
      "tags": []
     },
     "output_type": "display_data"
    },
    {
     "data": {
      "text/plain": [
       "(7329, 1159)"
      ]
     },
     "metadata": {
      "tags": []
     },
     "output_type": "display_data"
    },
    {
     "data": {
      "text/html": [
       "<div>\n",
       "<style scoped>\n",
       "    .dataframe tbody tr th:only-of-type {\n",
       "        vertical-align: middle;\n",
       "    }\n",
       "\n",
       "    .dataframe tbody tr th {\n",
       "        vertical-align: top;\n",
       "    }\n",
       "\n",
       "    .dataframe thead th {\n",
       "        text-align: right;\n",
       "    }\n",
       "</style>\n",
       "<table border=\"1\" class=\"dataframe\">\n",
       "  <thead>\n",
       "    <tr style=\"text-align: right;\">\n",
       "      <th></th>\n",
       "      <th>00</th>\n",
       "      <th>000</th>\n",
       "      <th>10</th>\n",
       "      <th>10 month</th>\n",
       "      <th>10 year</th>\n",
       "      <th>100</th>\n",
       "      <th>1000</th>\n",
       "      <th>11</th>\n",
       "      <th>12</th>\n",
       "      <th>12 month</th>\n",
       "      <th>1200</th>\n",
       "      <th>14</th>\n",
       "      <th>15</th>\n",
       "      <th>15 year</th>\n",
       "      <th>150</th>\n",
       "      <th>16</th>\n",
       "      <th>18</th>\n",
       "      <th>20</th>\n",
       "      <th>20 year</th>\n",
       "      <th>200</th>\n",
       "      <th>2002</th>\n",
       "      <th>2003</th>\n",
       "      <th>2004</th>\n",
       "      <th>2005</th>\n",
       "      <th>22</th>\n",
       "      <th>23</th>\n",
       "      <th>25</th>\n",
       "      <th>25 year</th>\n",
       "      <th>250</th>\n",
       "      <th>26</th>\n",
       "      <th>26 year</th>\n",
       "      <th>27</th>\n",
       "      <th>27 year</th>\n",
       "      <th>27 year old</th>\n",
       "      <th>28</th>\n",
       "      <th>29</th>\n",
       "      <th>30</th>\n",
       "      <th>30 year</th>\n",
       "      <th>30 year old</th>\n",
       "      <th>300</th>\n",
       "      <th>...</th>\n",
       "      <th>willing repay</th>\n",
       "      <th>willing repay loan</th>\n",
       "      <th>wish</th>\n",
       "      <th>within</th>\n",
       "      <th>within period</th>\n",
       "      <th>within period 12</th>\n",
       "      <th>without</th>\n",
       "      <th>woman</th>\n",
       "      <th>woman clothing</th>\n",
       "      <th>woman group</th>\n",
       "      <th>wood</th>\n",
       "      <th>work</th>\n",
       "      <th>work every</th>\n",
       "      <th>work every day</th>\n",
       "      <th>work hard</th>\n",
       "      <th>worked</th>\n",
       "      <th>worker</th>\n",
       "      <th>working</th>\n",
       "      <th>working hard</th>\n",
       "      <th>workshop</th>\n",
       "      <th>worth</th>\n",
       "      <th>would</th>\n",
       "      <th>would like</th>\n",
       "      <th>would like expand</th>\n",
       "      <th>year</th>\n",
       "      <th>year ago</th>\n",
       "      <th>year experience</th>\n",
       "      <th>year old</th>\n",
       "      <th>year old child</th>\n",
       "      <th>year old life</th>\n",
       "      <th>year old married</th>\n",
       "      <th>year old mother</th>\n",
       "      <th>year old single</th>\n",
       "      <th>year old two</th>\n",
       "      <th>year old woman</th>\n",
       "      <th>yet</th>\n",
       "      <th>young</th>\n",
       "      <th>young child</th>\n",
       "      <th>younger</th>\n",
       "      <th>youngest</th>\n",
       "    </tr>\n",
       "  </thead>\n",
       "  <tbody>\n",
       "    <tr>\n",
       "      <th>0</th>\n",
       "      <td>0</td>\n",
       "      <td>0</td>\n",
       "      <td>0</td>\n",
       "      <td>0</td>\n",
       "      <td>0</td>\n",
       "      <td>0</td>\n",
       "      <td>0</td>\n",
       "      <td>0</td>\n",
       "      <td>0</td>\n",
       "      <td>0</td>\n",
       "      <td>0</td>\n",
       "      <td>0</td>\n",
       "      <td>0</td>\n",
       "      <td>0</td>\n",
       "      <td>0</td>\n",
       "      <td>0</td>\n",
       "      <td>0</td>\n",
       "      <td>0</td>\n",
       "      <td>0</td>\n",
       "      <td>0</td>\n",
       "      <td>0</td>\n",
       "      <td>0</td>\n",
       "      <td>0</td>\n",
       "      <td>0</td>\n",
       "      <td>0</td>\n",
       "      <td>0</td>\n",
       "      <td>0</td>\n",
       "      <td>0</td>\n",
       "      <td>0</td>\n",
       "      <td>0</td>\n",
       "      <td>0</td>\n",
       "      <td>0</td>\n",
       "      <td>0</td>\n",
       "      <td>0</td>\n",
       "      <td>0</td>\n",
       "      <td>0</td>\n",
       "      <td>0</td>\n",
       "      <td>0</td>\n",
       "      <td>0</td>\n",
       "      <td>0</td>\n",
       "      <td>...</td>\n",
       "      <td>0</td>\n",
       "      <td>0</td>\n",
       "      <td>0</td>\n",
       "      <td>0</td>\n",
       "      <td>0</td>\n",
       "      <td>0</td>\n",
       "      <td>0</td>\n",
       "      <td>0</td>\n",
       "      <td>0</td>\n",
       "      <td>0</td>\n",
       "      <td>0</td>\n",
       "      <td>0</td>\n",
       "      <td>0</td>\n",
       "      <td>0</td>\n",
       "      <td>0</td>\n",
       "      <td>0</td>\n",
       "      <td>0</td>\n",
       "      <td>0</td>\n",
       "      <td>0</td>\n",
       "      <td>0</td>\n",
       "      <td>0</td>\n",
       "      <td>0</td>\n",
       "      <td>0</td>\n",
       "      <td>0</td>\n",
       "      <td>0</td>\n",
       "      <td>0</td>\n",
       "      <td>0</td>\n",
       "      <td>0</td>\n",
       "      <td>0</td>\n",
       "      <td>0</td>\n",
       "      <td>0</td>\n",
       "      <td>0</td>\n",
       "      <td>0</td>\n",
       "      <td>0</td>\n",
       "      <td>0</td>\n",
       "      <td>0</td>\n",
       "      <td>0</td>\n",
       "      <td>0</td>\n",
       "      <td>0</td>\n",
       "      <td>0</td>\n",
       "    </tr>\n",
       "    <tr>\n",
       "      <th>1</th>\n",
       "      <td>0</td>\n",
       "      <td>0</td>\n",
       "      <td>0</td>\n",
       "      <td>0</td>\n",
       "      <td>0</td>\n",
       "      <td>0</td>\n",
       "      <td>0</td>\n",
       "      <td>0</td>\n",
       "      <td>0</td>\n",
       "      <td>0</td>\n",
       "      <td>0</td>\n",
       "      <td>0</td>\n",
       "      <td>0</td>\n",
       "      <td>0</td>\n",
       "      <td>0</td>\n",
       "      <td>0</td>\n",
       "      <td>0</td>\n",
       "      <td>0</td>\n",
       "      <td>0</td>\n",
       "      <td>0</td>\n",
       "      <td>0</td>\n",
       "      <td>0</td>\n",
       "      <td>0</td>\n",
       "      <td>0</td>\n",
       "      <td>0</td>\n",
       "      <td>0</td>\n",
       "      <td>0</td>\n",
       "      <td>0</td>\n",
       "      <td>0</td>\n",
       "      <td>0</td>\n",
       "      <td>0</td>\n",
       "      <td>0</td>\n",
       "      <td>0</td>\n",
       "      <td>0</td>\n",
       "      <td>0</td>\n",
       "      <td>0</td>\n",
       "      <td>0</td>\n",
       "      <td>0</td>\n",
       "      <td>0</td>\n",
       "      <td>0</td>\n",
       "      <td>...</td>\n",
       "      <td>0</td>\n",
       "      <td>0</td>\n",
       "      <td>0</td>\n",
       "      <td>0</td>\n",
       "      <td>0</td>\n",
       "      <td>0</td>\n",
       "      <td>0</td>\n",
       "      <td>1</td>\n",
       "      <td>0</td>\n",
       "      <td>0</td>\n",
       "      <td>0</td>\n",
       "      <td>0</td>\n",
       "      <td>0</td>\n",
       "      <td>0</td>\n",
       "      <td>0</td>\n",
       "      <td>0</td>\n",
       "      <td>0</td>\n",
       "      <td>0</td>\n",
       "      <td>0</td>\n",
       "      <td>0</td>\n",
       "      <td>0</td>\n",
       "      <td>1</td>\n",
       "      <td>1</td>\n",
       "      <td>0</td>\n",
       "      <td>2</td>\n",
       "      <td>1</td>\n",
       "      <td>0</td>\n",
       "      <td>1</td>\n",
       "      <td>0</td>\n",
       "      <td>0</td>\n",
       "      <td>0</td>\n",
       "      <td>0</td>\n",
       "      <td>0</td>\n",
       "      <td>0</td>\n",
       "      <td>0</td>\n",
       "      <td>0</td>\n",
       "      <td>0</td>\n",
       "      <td>0</td>\n",
       "      <td>0</td>\n",
       "      <td>0</td>\n",
       "    </tr>\n",
       "    <tr>\n",
       "      <th>2</th>\n",
       "      <td>0</td>\n",
       "      <td>0</td>\n",
       "      <td>1</td>\n",
       "      <td>0</td>\n",
       "      <td>1</td>\n",
       "      <td>0</td>\n",
       "      <td>0</td>\n",
       "      <td>0</td>\n",
       "      <td>0</td>\n",
       "      <td>0</td>\n",
       "      <td>0</td>\n",
       "      <td>0</td>\n",
       "      <td>0</td>\n",
       "      <td>0</td>\n",
       "      <td>0</td>\n",
       "      <td>0</td>\n",
       "      <td>0</td>\n",
       "      <td>0</td>\n",
       "      <td>0</td>\n",
       "      <td>0</td>\n",
       "      <td>0</td>\n",
       "      <td>0</td>\n",
       "      <td>0</td>\n",
       "      <td>0</td>\n",
       "      <td>0</td>\n",
       "      <td>0</td>\n",
       "      <td>0</td>\n",
       "      <td>0</td>\n",
       "      <td>0</td>\n",
       "      <td>0</td>\n",
       "      <td>0</td>\n",
       "      <td>0</td>\n",
       "      <td>0</td>\n",
       "      <td>0</td>\n",
       "      <td>0</td>\n",
       "      <td>0</td>\n",
       "      <td>0</td>\n",
       "      <td>0</td>\n",
       "      <td>0</td>\n",
       "      <td>0</td>\n",
       "      <td>...</td>\n",
       "      <td>0</td>\n",
       "      <td>0</td>\n",
       "      <td>0</td>\n",
       "      <td>0</td>\n",
       "      <td>0</td>\n",
       "      <td>0</td>\n",
       "      <td>0</td>\n",
       "      <td>0</td>\n",
       "      <td>0</td>\n",
       "      <td>0</td>\n",
       "      <td>0</td>\n",
       "      <td>0</td>\n",
       "      <td>0</td>\n",
       "      <td>0</td>\n",
       "      <td>0</td>\n",
       "      <td>0</td>\n",
       "      <td>0</td>\n",
       "      <td>0</td>\n",
       "      <td>0</td>\n",
       "      <td>0</td>\n",
       "      <td>0</td>\n",
       "      <td>0</td>\n",
       "      <td>0</td>\n",
       "      <td>0</td>\n",
       "      <td>1</td>\n",
       "      <td>0</td>\n",
       "      <td>0</td>\n",
       "      <td>0</td>\n",
       "      <td>0</td>\n",
       "      <td>0</td>\n",
       "      <td>0</td>\n",
       "      <td>0</td>\n",
       "      <td>0</td>\n",
       "      <td>0</td>\n",
       "      <td>0</td>\n",
       "      <td>0</td>\n",
       "      <td>0</td>\n",
       "      <td>0</td>\n",
       "      <td>0</td>\n",
       "      <td>0</td>\n",
       "    </tr>\n",
       "    <tr>\n",
       "      <th>3</th>\n",
       "      <td>1</td>\n",
       "      <td>0</td>\n",
       "      <td>0</td>\n",
       "      <td>0</td>\n",
       "      <td>0</td>\n",
       "      <td>1</td>\n",
       "      <td>0</td>\n",
       "      <td>0</td>\n",
       "      <td>1</td>\n",
       "      <td>0</td>\n",
       "      <td>0</td>\n",
       "      <td>0</td>\n",
       "      <td>0</td>\n",
       "      <td>0</td>\n",
       "      <td>0</td>\n",
       "      <td>0</td>\n",
       "      <td>0</td>\n",
       "      <td>0</td>\n",
       "      <td>0</td>\n",
       "      <td>0</td>\n",
       "      <td>0</td>\n",
       "      <td>0</td>\n",
       "      <td>0</td>\n",
       "      <td>0</td>\n",
       "      <td>0</td>\n",
       "      <td>0</td>\n",
       "      <td>1</td>\n",
       "      <td>0</td>\n",
       "      <td>0</td>\n",
       "      <td>0</td>\n",
       "      <td>0</td>\n",
       "      <td>0</td>\n",
       "      <td>0</td>\n",
       "      <td>0</td>\n",
       "      <td>0</td>\n",
       "      <td>0</td>\n",
       "      <td>0</td>\n",
       "      <td>0</td>\n",
       "      <td>0</td>\n",
       "      <td>0</td>\n",
       "      <td>...</td>\n",
       "      <td>0</td>\n",
       "      <td>0</td>\n",
       "      <td>0</td>\n",
       "      <td>0</td>\n",
       "      <td>0</td>\n",
       "      <td>0</td>\n",
       "      <td>0</td>\n",
       "      <td>0</td>\n",
       "      <td>0</td>\n",
       "      <td>0</td>\n",
       "      <td>0</td>\n",
       "      <td>1</td>\n",
       "      <td>0</td>\n",
       "      <td>0</td>\n",
       "      <td>0</td>\n",
       "      <td>0</td>\n",
       "      <td>0</td>\n",
       "      <td>2</td>\n",
       "      <td>0</td>\n",
       "      <td>0</td>\n",
       "      <td>0</td>\n",
       "      <td>0</td>\n",
       "      <td>0</td>\n",
       "      <td>0</td>\n",
       "      <td>1</td>\n",
       "      <td>0</td>\n",
       "      <td>0</td>\n",
       "      <td>0</td>\n",
       "      <td>0</td>\n",
       "      <td>0</td>\n",
       "      <td>0</td>\n",
       "      <td>0</td>\n",
       "      <td>0</td>\n",
       "      <td>0</td>\n",
       "      <td>0</td>\n",
       "      <td>0</td>\n",
       "      <td>0</td>\n",
       "      <td>0</td>\n",
       "      <td>0</td>\n",
       "      <td>0</td>\n",
       "    </tr>\n",
       "    <tr>\n",
       "      <th>4</th>\n",
       "      <td>0</td>\n",
       "      <td>0</td>\n",
       "      <td>1</td>\n",
       "      <td>0</td>\n",
       "      <td>0</td>\n",
       "      <td>0</td>\n",
       "      <td>0</td>\n",
       "      <td>0</td>\n",
       "      <td>0</td>\n",
       "      <td>0</td>\n",
       "      <td>0</td>\n",
       "      <td>0</td>\n",
       "      <td>0</td>\n",
       "      <td>0</td>\n",
       "      <td>0</td>\n",
       "      <td>0</td>\n",
       "      <td>0</td>\n",
       "      <td>0</td>\n",
       "      <td>0</td>\n",
       "      <td>0</td>\n",
       "      <td>0</td>\n",
       "      <td>0</td>\n",
       "      <td>0</td>\n",
       "      <td>0</td>\n",
       "      <td>0</td>\n",
       "      <td>0</td>\n",
       "      <td>0</td>\n",
       "      <td>0</td>\n",
       "      <td>0</td>\n",
       "      <td>0</td>\n",
       "      <td>0</td>\n",
       "      <td>0</td>\n",
       "      <td>0</td>\n",
       "      <td>0</td>\n",
       "      <td>0</td>\n",
       "      <td>0</td>\n",
       "      <td>0</td>\n",
       "      <td>0</td>\n",
       "      <td>0</td>\n",
       "      <td>0</td>\n",
       "      <td>...</td>\n",
       "      <td>0</td>\n",
       "      <td>0</td>\n",
       "      <td>0</td>\n",
       "      <td>0</td>\n",
       "      <td>0</td>\n",
       "      <td>0</td>\n",
       "      <td>0</td>\n",
       "      <td>3</td>\n",
       "      <td>0</td>\n",
       "      <td>0</td>\n",
       "      <td>0</td>\n",
       "      <td>1</td>\n",
       "      <td>0</td>\n",
       "      <td>0</td>\n",
       "      <td>1</td>\n",
       "      <td>0</td>\n",
       "      <td>0</td>\n",
       "      <td>0</td>\n",
       "      <td>0</td>\n",
       "      <td>0</td>\n",
       "      <td>0</td>\n",
       "      <td>0</td>\n",
       "      <td>0</td>\n",
       "      <td>0</td>\n",
       "      <td>0</td>\n",
       "      <td>0</td>\n",
       "      <td>0</td>\n",
       "      <td>0</td>\n",
       "      <td>0</td>\n",
       "      <td>0</td>\n",
       "      <td>0</td>\n",
       "      <td>0</td>\n",
       "      <td>0</td>\n",
       "      <td>0</td>\n",
       "      <td>0</td>\n",
       "      <td>0</td>\n",
       "      <td>1</td>\n",
       "      <td>0</td>\n",
       "      <td>0</td>\n",
       "      <td>0</td>\n",
       "    </tr>\n",
       "  </tbody>\n",
       "</table>\n",
       "<p>5 rows × 1159 columns</p>\n",
       "</div>"
      ],
      "text/plain": [
       "   00  000  10  10 month  10 year  ...  yet  young  young child  younger  youngest\n",
       "0   0    0   0         0        0  ...    0      0            0        0         0\n",
       "1   0    0   0         0        0  ...    0      0            0        0         0\n",
       "2   0    0   1         0        1  ...    0      0            0        0         0\n",
       "3   1    0   0         0        0  ...    0      0            0        0         0\n",
       "4   0    0   1         0        0  ...    0      1            0        0         0\n",
       "\n",
       "[5 rows x 1159 columns]"
      ]
     },
     "metadata": {
      "tags": []
     },
     "output_type": "display_data"
    }
   ],
   "source": [
    "# BOW-TF Embedding\n",
    "\n",
    "no_features = 1500\n",
    "tf_vectorizer = CountVectorizer(min_df=.015, max_df=.8, max_features=no_features, ngram_range=[1, 3])\n",
    "\n",
    "%time tpl_tf = tf_vectorizer.fit_transform(df['en_clean_Processed'])\n",
    "display(\"Bow-TF :\", tpl_tf.shape)\n",
    "df_tf = pd.DataFrame(tpl_tf.toarray(), columns=tf_vectorizer.get_feature_names())\n",
    "display(df_tf.head())"
   ]
  },
  {
   "cell_type": "code",
   "execution_count": 32,
   "metadata": {
    "colab": {
     "base_uri": "https://localhost:8080/",
     "height": 69
    },
    "executionInfo": {
     "elapsed": 43352,
     "status": "ok",
     "timestamp": 1618178783165,
     "user": {
      "displayName": "Felipe A. Gomes Ferreira",
      "photoUrl": "",
      "userId": "09095471911889500468"
     },
     "user_tz": 180
    },
    "id": "q5x4VWjXCWUR",
    "outputId": "aaf4e531-8778-4f4c-c742-fd598a5dacc2"
   },
   "outputs": [
    {
     "data": {
      "application/vnd.google.colaboratory.intrinsic+json": {
       "type": "string"
      },
      "text/plain": [
       "'opened colmado side house dominican republic colmado small neighborhood general store lucia sell several staple food item rice dried bean cooky cracker well razor toilet paper daily necessity business successful third ezperanza loan lucia business helped put two child college son age 25 daughter age 23 enthusiastic success business plan continue expand business much possible community life love convenience colmado neighborhood'"
      ]
     },
     "execution_count": 32,
     "metadata": {
      "tags": []
     },
     "output_type": "execute_result"
    }
   ],
   "source": [
    "df['en_clean_Processed'][0]"
   ]
  },
  {
   "cell_type": "code",
   "execution_count": 33,
   "metadata": {
    "colab": {
     "base_uri": "https://localhost:8080/"
    },
    "executionInfo": {
     "elapsed": 43344,
     "status": "ok",
     "timestamp": 1618178783167,
     "user": {
      "displayName": "Felipe A. Gomes Ferreira",
      "photoUrl": "",
      "userId": "09095471911889500468"
     },
     "user_tz": 180
    },
    "id": "hgCg-1uk9lT6",
    "outputId": "15bbe548-0857-4f4b-e7a2-a2b482c68d9e"
   },
   "outputs": [
    {
     "name": "stdout",
     "output_type": "stream",
     "text": [
      "[nltk_data] Downloading package vader_lexicon to /root/nltk_data...\n"
     ]
    }
   ],
   "source": [
    "import nltk\n",
    "nltk.download('vader_lexicon')\n",
    "from nltk.sentiment.vader import SentimentIntensityAnalyzer"
   ]
  },
  {
   "cell_type": "code",
   "execution_count": 34,
   "metadata": {
    "executionInfo": {
     "elapsed": 43342,
     "status": "ok",
     "timestamp": 1618178783168,
     "user": {
      "displayName": "Felipe A. Gomes Ferreira",
      "photoUrl": "",
      "userId": "09095471911889500468"
     },
     "user_tz": 180
    },
    "id": "p6ofkgA09otb"
   },
   "outputs": [],
   "source": [
    "sid = SentimentIntensityAnalyzer()"
   ]
  },
  {
   "cell_type": "code",
   "execution_count": 35,
   "metadata": {
    "executionInfo": {
     "elapsed": 54191,
     "status": "ok",
     "timestamp": 1618178794019,
     "user": {
      "displayName": "Felipe A. Gomes Ferreira",
      "photoUrl": "",
      "userId": "09095471911889500468"
     },
     "user_tz": 180
    },
    "id": "rQN-X6wa9scS"
   },
   "outputs": [],
   "source": [
    "df['scores'] = df['en_clean'].apply(lambda review: sid.polarity_scores(review))"
   ]
  },
  {
   "cell_type": "code",
   "execution_count": 36,
   "metadata": {
    "colab": {
     "base_uri": "https://localhost:8080/",
     "height": 529
    },
    "executionInfo": {
     "elapsed": 54182,
     "status": "ok",
     "timestamp": 1618178794020,
     "user": {
      "displayName": "Felipe A. Gomes Ferreira",
      "photoUrl": "",
      "userId": "09095471911889500468"
     },
     "user_tz": 180
    },
    "id": "rbrnMv_e9xN6",
    "outputId": "8c160f08-25c1-4558-9bbd-ea0794d93c3a"
   },
   "outputs": [
    {
     "data": {
      "text/html": [
       "<div>\n",
       "<style scoped>\n",
       "    .dataframe tbody tr th:only-of-type {\n",
       "        vertical-align: middle;\n",
       "    }\n",
       "\n",
       "    .dataframe tbody tr th {\n",
       "        vertical-align: top;\n",
       "    }\n",
       "\n",
       "    .dataframe thead th {\n",
       "        text-align: right;\n",
       "    }\n",
       "</style>\n",
       "<table border=\"1\" class=\"dataframe\">\n",
       "  <thead>\n",
       "    <tr style=\"text-align: right;\">\n",
       "      <th></th>\n",
       "      <th>loan_id</th>\n",
       "      <th>en_clean</th>\n",
       "      <th>defaulted</th>\n",
       "      <th>en_clean_Processed</th>\n",
       "      <th>scores</th>\n",
       "      <th>compound</th>\n",
       "    </tr>\n",
       "  </thead>\n",
       "  <tbody>\n",
       "    <tr>\n",
       "      <th>2094</th>\n",
       "      <td>7754.0</td>\n",
       "      <td>Fhlippe is a single parent, the head of his ho...</td>\n",
       "      <td>0</td>\n",
       "      <td>fhlippe single parent head household provides ...</td>\n",
       "      <td>{'neg': 0.0, 'neu': 0.811, 'pos': 0.189, 'comp...</td>\n",
       "      <td>0.9356</td>\n",
       "    </tr>\n",
       "    <tr>\n",
       "      <th>6456</th>\n",
       "      <td>NaN</td>\n",
       "      <td>juana, the leader of this group, live 36 years...</td>\n",
       "      <td>1</td>\n",
       "      <td>juana leader group live 36 year old proud moth...</td>\n",
       "      <td>{'neg': 0.005, 'neu': 0.814, 'pos': 0.181, 'co...</td>\n",
       "      <td>0.9914</td>\n",
       "    </tr>\n",
       "    <tr>\n",
       "      <th>4931</th>\n",
       "      <td>3903.0</td>\n",
       "      <td>Jenny is a single mother with 3 children. She ...</td>\n",
       "      <td>0</td>\n",
       "      <td>jenny single mother 3 child owns small shop se...</td>\n",
       "      <td>{'neg': 0.02, 'neu': 0.912, 'pos': 0.068, 'com...</td>\n",
       "      <td>0.7819</td>\n",
       "    </tr>\n",
       "    <tr>\n",
       "      <th>190</th>\n",
       "      <td>5844.0</td>\n",
       "      <td>Iris is determined to start working on selling...</td>\n",
       "      <td>0</td>\n",
       "      <td>iris determined start working selling various ...</td>\n",
       "      <td>{'neg': 0.0, 'neu': 0.957, 'pos': 0.043, 'comp...</td>\n",
       "      <td>0.7269</td>\n",
       "    </tr>\n",
       "    <tr>\n",
       "      <th>2240</th>\n",
       "      <td>7341.0</td>\n",
       "      <td>Maria Florentino is a spirited young woman who...</td>\n",
       "      <td>0</td>\n",
       "      <td>maria florentino spirited young woman life sma...</td>\n",
       "      <td>{'neg': 0.006, 'neu': 0.884, 'pos': 0.11, 'com...</td>\n",
       "      <td>0.9698</td>\n",
       "    </tr>\n",
       "    <tr>\n",
       "      <th>3161</th>\n",
       "      <td>6293.0</td>\n",
       "      <td>This loan will go to start her cloth and beddi...</td>\n",
       "      <td>0</td>\n",
       "      <td>loan go start cloth bedding store purchase war...</td>\n",
       "      <td>{'neg': 0.0, 'neu': 0.933, 'pos': 0.067, 'comp...</td>\n",
       "      <td>0.8074</td>\n",
       "    </tr>\n",
       "    <tr>\n",
       "      <th>7132</th>\n",
       "      <td>NaN</td>\n",
       "      <td>alice ondonga, is a widow, mature 43, with two...</td>\n",
       "      <td>1</td>\n",
       "      <td>alice ondonga widow mature 43 two child grade ...</td>\n",
       "      <td>{'neg': 0.015, 'neu': 0.892, 'pos': 0.093, 'co...</td>\n",
       "      <td>0.9360</td>\n",
       "    </tr>\n",
       "    <tr>\n",
       "      <th>2673</th>\n",
       "      <td>7421.0</td>\n",
       "      <td>Carmen Isidra Lantigua is the coordinator of a...</td>\n",
       "      <td>0</td>\n",
       "      <td>carmen isidra lantigua coordinator group calle...</td>\n",
       "      <td>{'neg': 0.0, 'neu': 0.88, 'pos': 0.12, 'compou...</td>\n",
       "      <td>0.9612</td>\n",
       "    </tr>\n",
       "    <tr>\n",
       "      <th>6700</th>\n",
       "      <td>NaN</td>\n",
       "      <td>mrs. dumez has comprise selling clothing and a...</td>\n",
       "      <td>1</td>\n",
       "      <td>mr dumez comprise selling clothing accessory l...</td>\n",
       "      <td>{'neg': 0.0, 'neu': 0.897, 'pos': 0.103, 'comp...</td>\n",
       "      <td>0.9136</td>\n",
       "    </tr>\n",
       "    <tr>\n",
       "      <th>2525</th>\n",
       "      <td>116.0</td>\n",
       "      <td>JOSEPH MACHARIA MBUGUA 42 years of age married...</td>\n",
       "      <td>1</td>\n",
       "      <td>joseph macharia mbugua 42 year age married fiv...</td>\n",
       "      <td>{'neg': 0.039, 'neu': 0.907, 'pos': 0.055, 'co...</td>\n",
       "      <td>0.7717</td>\n",
       "    </tr>\n",
       "  </tbody>\n",
       "</table>\n",
       "</div>"
      ],
      "text/plain": [
       "      loan_id  ... compound\n",
       "2094   7754.0  ...   0.9356\n",
       "6456      NaN  ...   0.9914\n",
       "4931   3903.0  ...   0.7819\n",
       "190    5844.0  ...   0.7269\n",
       "2240   7341.0  ...   0.9698\n",
       "3161   6293.0  ...   0.8074\n",
       "7132      NaN  ...   0.9360\n",
       "2673   7421.0  ...   0.9612\n",
       "6700      NaN  ...   0.9136\n",
       "2525    116.0  ...   0.7717\n",
       "\n",
       "[10 rows x 6 columns]"
      ]
     },
     "execution_count": 36,
     "metadata": {
      "tags": []
     },
     "output_type": "execute_result"
    }
   ],
   "source": [
    "df['compound']  = df['scores'].apply(lambda score_dict: score_dict['compound'])\n",
    "\n",
    "df.head(10)"
   ]
  },
  {
   "cell_type": "code",
   "execution_count": 37,
   "metadata": {
    "executionInfo": {
     "elapsed": 54181,
     "status": "ok",
     "timestamp": 1618178794022,
     "user": {
      "displayName": "Felipe A. Gomes Ferreira",
      "photoUrl": "",
      "userId": "09095471911889500468"
     },
     "user_tz": 180
    },
    "id": "DTRaATCabvSR"
   },
   "outputs": [],
   "source": [
    "df['comp_score'] = df['compound'].apply(lambda c: 1 if c >=0 else 0)"
   ]
  },
  {
   "cell_type": "code",
   "execution_count": 38,
   "metadata": {
    "colab": {
     "base_uri": "https://localhost:8080/",
     "height": 589
    },
    "executionInfo": {
     "elapsed": 54174,
     "status": "ok",
     "timestamp": 1618178794023,
     "user": {
      "displayName": "Felipe A. Gomes Ferreira",
      "photoUrl": "",
      "userId": "09095471911889500468"
     },
     "user_tz": 180
    },
    "id": "U4SbAiBVb6yZ",
    "outputId": "2ebef7d0-ed1c-4ec1-daaf-d067ac13c86f"
   },
   "outputs": [
    {
     "data": {
      "text/html": [
       "<div>\n",
       "<style scoped>\n",
       "    .dataframe tbody tr th:only-of-type {\n",
       "        vertical-align: middle;\n",
       "    }\n",
       "\n",
       "    .dataframe tbody tr th {\n",
       "        vertical-align: top;\n",
       "    }\n",
       "\n",
       "    .dataframe thead th {\n",
       "        text-align: right;\n",
       "    }\n",
       "</style>\n",
       "<table border=\"1\" class=\"dataframe\">\n",
       "  <thead>\n",
       "    <tr style=\"text-align: right;\">\n",
       "      <th></th>\n",
       "      <th>loan_id</th>\n",
       "      <th>en_clean</th>\n",
       "      <th>defaulted</th>\n",
       "      <th>en_clean_Processed</th>\n",
       "      <th>scores</th>\n",
       "      <th>compound</th>\n",
       "      <th>comp_score</th>\n",
       "    </tr>\n",
       "  </thead>\n",
       "  <tbody>\n",
       "    <tr>\n",
       "      <th>3052</th>\n",
       "      <td>3830.0</td>\n",
       "      <td>Grace was born 49 years ago. She is married an...</td>\n",
       "      <td>0</td>\n",
       "      <td>grace born 49 year ago married couple blessed ...</td>\n",
       "      <td>{'neg': 0.121, 'neu': 0.792, 'pos': 0.087, 'co...</td>\n",
       "      <td>-0.4149</td>\n",
       "      <td>0</td>\n",
       "    </tr>\n",
       "    <tr>\n",
       "      <th>4981</th>\n",
       "      <td>4011.0</td>\n",
       "      <td>Teofila Bone has owned her business for two ye...</td>\n",
       "      <td>0</td>\n",
       "      <td>teofila bone owned business two year sell hous...</td>\n",
       "      <td>{'neg': 0.026, 'neu': 0.974, 'pos': 0.0, 'comp...</td>\n",
       "      <td>-0.3506</td>\n",
       "      <td>0</td>\n",
       "    </tr>\n",
       "    <tr>\n",
       "      <th>175</th>\n",
       "      <td>82.0</td>\n",
       "      <td>Terry is mother of 3 children who are grownup....</td>\n",
       "      <td>1</td>\n",
       "      <td>terry mother 3 child grownup source informatio...</td>\n",
       "      <td>{'neg': 0.097, 'neu': 0.862, 'pos': 0.041, 'co...</td>\n",
       "      <td>-0.8360</td>\n",
       "      <td>0</td>\n",
       "    </tr>\n",
       "    <tr>\n",
       "      <th>714</th>\n",
       "      <td>153.0</td>\n",
       "      <td>PAUL OBWAKA is 38 years old, married and a fat...</td>\n",
       "      <td>1</td>\n",
       "      <td>paul obwaka 38 year old married father two lif...</td>\n",
       "      <td>{'neg': 0.039, 'neu': 0.94, 'pos': 0.021, 'com...</td>\n",
       "      <td>-0.6621</td>\n",
       "      <td>0</td>\n",
       "    </tr>\n",
       "    <tr>\n",
       "      <th>6209</th>\n",
       "      <td>NaN</td>\n",
       "      <td>i am widow, mother of 3. my husband pall of hi...</td>\n",
       "      <td>1</td>\n",
       "      <td>widow mother 3 husband pall hiv aid main bread...</td>\n",
       "      <td>{'neg': 0.036, 'neu': 0.964, 'pos': 0.0, 'comp...</td>\n",
       "      <td>-0.1027</td>\n",
       "      <td>0</td>\n",
       "    </tr>\n",
       "    <tr>\n",
       "      <th>...</th>\n",
       "      <td>...</td>\n",
       "      <td>...</td>\n",
       "      <td>...</td>\n",
       "      <td>...</td>\n",
       "      <td>...</td>\n",
       "      <td>...</td>\n",
       "      <td>...</td>\n",
       "    </tr>\n",
       "    <tr>\n",
       "      <th>3259</th>\n",
       "      <td>3439.0</td>\n",
       "      <td>Elizabeth is single and an active member of Ka...</td>\n",
       "      <td>0</td>\n",
       "      <td>elizabeth single active member kandisi wisdom ...</td>\n",
       "      <td>{'neg': 0.114, 'neu': 0.811, 'pos': 0.075, 'co...</td>\n",
       "      <td>-0.5859</td>\n",
       "      <td>0</td>\n",
       "    </tr>\n",
       "    <tr>\n",
       "      <th>7251</th>\n",
       "      <td>NaN</td>\n",
       "      <td>i am 28 years old. i lead a small kiosk betray...</td>\n",
       "      <td>1</td>\n",
       "      <td>28 year old lead small kiosk betray petty hous...</td>\n",
       "      <td>{'neg': 0.18, 'neu': 0.751, 'pos': 0.069, 'com...</td>\n",
       "      <td>-0.5719</td>\n",
       "      <td>0</td>\n",
       "    </tr>\n",
       "    <tr>\n",
       "      <th>5094</th>\n",
       "      <td>7290.0</td>\n",
       "      <td>She lives in a very poor community surrounded ...</td>\n",
       "      <td>0</td>\n",
       "      <td>life poor community surrounded sugar cane rura...</td>\n",
       "      <td>{'neg': 0.039, 'neu': 0.928, 'pos': 0.032, 'co...</td>\n",
       "      <td>-0.1513</td>\n",
       "      <td>0</td>\n",
       "    </tr>\n",
       "    <tr>\n",
       "      <th>793</th>\n",
       "      <td>1583.0</td>\n",
       "      <td>Loice Njoki Chege is a 35-year-old single moth...</td>\n",
       "      <td>1</td>\n",
       "      <td>loice njoki chege 35 year old single mother tw...</td>\n",
       "      <td>{'neg': 0.06, 'neu': 0.912, 'pos': 0.028, 'com...</td>\n",
       "      <td>-0.6068</td>\n",
       "      <td>0</td>\n",
       "    </tr>\n",
       "    <tr>\n",
       "      <th>1444</th>\n",
       "      <td>6816.0</td>\n",
       "      <td>Germania sells a collection of chic pants to w...</td>\n",
       "      <td>0</td>\n",
       "      <td>germania sell collection chic pant woman batey...</td>\n",
       "      <td>{'neg': 0.115, 'neu': 0.79, 'pos': 0.095, 'com...</td>\n",
       "      <td>-0.3716</td>\n",
       "      <td>0</td>\n",
       "    </tr>\n",
       "  </tbody>\n",
       "</table>\n",
       "<p>239 rows × 7 columns</p>\n",
       "</div>"
      ],
      "text/plain": [
       "      loan_id  ... comp_score\n",
       "3052   3830.0  ...          0\n",
       "4981   4011.0  ...          0\n",
       "175      82.0  ...          0\n",
       "714     153.0  ...          0\n",
       "6209      NaN  ...          0\n",
       "...       ...  ...        ...\n",
       "3259   3439.0  ...          0\n",
       "7251      NaN  ...          0\n",
       "5094   7290.0  ...          0\n",
       "793    1583.0  ...          0\n",
       "1444   6816.0  ...          0\n",
       "\n",
       "[239 rows x 7 columns]"
      ]
     },
     "execution_count": 38,
     "metadata": {
      "tags": []
     },
     "output_type": "execute_result"
    }
   ],
   "source": [
    "df[df['comp_score']==0]"
   ]
  },
  {
   "cell_type": "code",
   "execution_count": 39,
   "metadata": {
    "executionInfo": {
     "elapsed": 56640,
     "status": "ok",
     "timestamp": 1618178796493,
     "user": {
      "displayName": "Felipe A. Gomes Ferreira",
      "photoUrl": "",
      "userId": "09095471911889500468"
     },
     "user_tz": 180
    },
    "id": "eekVFxacOrZW"
   },
   "outputs": [],
   "source": [
    "import spacy\n",
    "from functools import partial\n",
    "def spacy_tokenize(text, nlp):\n",
    "    return [x.orth_ for x in nlp(text)]\n",
    "\n",
    "nlp = spacy.load('en', disable=['ner',  'tagger'])\n",
    "tok = partial(spacy_tokenize, nlp=nlp)"
   ]
  },
  {
   "cell_type": "code",
   "execution_count": 40,
   "metadata": {
    "colab": {
     "base_uri": "https://localhost:8080/",
     "height": 419
    },
    "executionInfo": {
     "elapsed": 56633,
     "status": "ok",
     "timestamp": 1618178796495,
     "user": {
      "displayName": "Felipe A. Gomes Ferreira",
      "photoUrl": "",
      "userId": "09095471911889500468"
     },
     "user_tz": 180
    },
    "id": "wDkpsXcHhZbm",
    "outputId": "049cd599-08c2-414d-b77b-e320eb34e3fe"
   },
   "outputs": [
    {
     "data": {
      "text/html": [
       "<div>\n",
       "<style scoped>\n",
       "    .dataframe tbody tr th:only-of-type {\n",
       "        vertical-align: middle;\n",
       "    }\n",
       "\n",
       "    .dataframe tbody tr th {\n",
       "        vertical-align: top;\n",
       "    }\n",
       "\n",
       "    .dataframe thead th {\n",
       "        text-align: right;\n",
       "    }\n",
       "</style>\n",
       "<table border=\"1\" class=\"dataframe\">\n",
       "  <thead>\n",
       "    <tr style=\"text-align: right;\">\n",
       "      <th></th>\n",
       "      <th>en_clean_Processed</th>\n",
       "      <th>compound</th>\n",
       "    </tr>\n",
       "  </thead>\n",
       "  <tbody>\n",
       "    <tr>\n",
       "      <th>2094</th>\n",
       "      <td>fhlippe single parent head household provides ...</td>\n",
       "      <td>0.9356</td>\n",
       "    </tr>\n",
       "    <tr>\n",
       "      <th>6456</th>\n",
       "      <td>juana leader group live 36 year old proud moth...</td>\n",
       "      <td>0.9914</td>\n",
       "    </tr>\n",
       "    <tr>\n",
       "      <th>4931</th>\n",
       "      <td>jenny single mother 3 child owns small shop se...</td>\n",
       "      <td>0.7819</td>\n",
       "    </tr>\n",
       "    <tr>\n",
       "      <th>190</th>\n",
       "      <td>iris determined start working selling various ...</td>\n",
       "      <td>0.7269</td>\n",
       "    </tr>\n",
       "    <tr>\n",
       "      <th>2240</th>\n",
       "      <td>maria florentino spirited young woman life sma...</td>\n",
       "      <td>0.9698</td>\n",
       "    </tr>\n",
       "    <tr>\n",
       "      <th>...</th>\n",
       "      <td>...</td>\n",
       "      <td>...</td>\n",
       "    </tr>\n",
       "    <tr>\n",
       "      <th>4103</th>\n",
       "      <td>married man father 3 sell belt living main bre...</td>\n",
       "      <td>0.7713</td>\n",
       "    </tr>\n",
       "    <tr>\n",
       "      <th>3900</th>\n",
       "      <td>maria ortiz 49 year old originally caar ecuado...</td>\n",
       "      <td>0.5859</td>\n",
       "    </tr>\n",
       "    <tr>\n",
       "      <th>2992</th>\n",
       "      <td>jane married five child primary school underta...</td>\n",
       "      <td>0.8689</td>\n",
       "    </tr>\n",
       "    <tr>\n",
       "      <th>6657</th>\n",
       "      <td>alejandrina give small store house trade basic...</td>\n",
       "      <td>0.8126</td>\n",
       "    </tr>\n",
       "    <tr>\n",
       "      <th>4168</th>\n",
       "      <td>karen chepngeno rotich 26 year old married thr...</td>\n",
       "      <td>0.9151</td>\n",
       "    </tr>\n",
       "  </tbody>\n",
       "</table>\n",
       "<p>7329 rows × 2 columns</p>\n",
       "</div>"
      ],
      "text/plain": [
       "                                     en_clean_Processed  compound\n",
       "2094  fhlippe single parent head household provides ...    0.9356\n",
       "6456  juana leader group live 36 year old proud moth...    0.9914\n",
       "4931  jenny single mother 3 child owns small shop se...    0.7819\n",
       "190   iris determined start working selling various ...    0.7269\n",
       "2240  maria florentino spirited young woman life sma...    0.9698\n",
       "...                                                 ...       ...\n",
       "4103  married man father 3 sell belt living main bre...    0.7713\n",
       "3900  maria ortiz 49 year old originally caar ecuado...    0.5859\n",
       "2992  jane married five child primary school underta...    0.8689\n",
       "6657  alejandrina give small store house trade basic...    0.8126\n",
       "4168  karen chepngeno rotich 26 year old married thr...    0.9151\n",
       "\n",
       "[7329 rows x 2 columns]"
      ]
     },
     "execution_count": 40,
     "metadata": {
      "tags": []
     },
     "output_type": "execute_result"
    }
   ],
   "source": [
    "df[['en_clean_Processed','compound']]"
   ]
  },
  {
   "cell_type": "code",
   "execution_count": 41,
   "metadata": {
    "executionInfo": {
     "elapsed": 107466,
     "status": "ok",
     "timestamp": 1618178847331,
     "user": {
      "displayName": "Felipe A. Gomes Ferreira",
      "photoUrl": "",
      "userId": "09095471911889500468"
     },
     "user_tz": 180
    },
    "id": "EIlc6quj_iAo"
   },
   "outputs": [],
   "source": [
    "no_features = 1200\n",
    "vectorizer = CountVectorizer( tokenizer=tok, min_df=2, max_features=no_features,stop_words='english', ngram_range=(1, 2))\n",
    "X = vectorizer.fit_transform(df['en_clean_Processed']).toarray()\n",
    "y = df['defaulted']"
   ]
  },
  {
   "cell_type": "code",
   "execution_count": 42,
   "metadata": {
    "executionInfo": {
     "elapsed": 107463,
     "status": "ok",
     "timestamp": 1618178847331,
     "user": {
      "displayName": "Felipe A. Gomes Ferreira",
      "photoUrl": "",
      "userId": "09095471911889500468"
     },
     "user_tz": 180
    },
    "id": "fzCHLo33Ctoy"
   },
   "outputs": [],
   "source": [
    "# no_features = 1500\n",
    "# tfidf_vectorizer = TfidfVectorizer(tokenizer=tok, min_df=2, max_df=0.5, max_features=no_features,  ngram_range=[1,2],stop_words='english',\n",
    "#                                    analyzer='word', token_pattern=r'\\b[a-zA-Z]{3,}\\b')\n",
    "# X = tfidf_vectorizer.fit_transform(df['en_clean_Processed']).toarray()\n",
    "# y = df['defaulted']"
   ]
  },
  {
   "cell_type": "code",
   "execution_count": 43,
   "metadata": {
    "executionInfo": {
     "elapsed": 107460,
     "status": "ok",
     "timestamp": 1618178847332,
     "user": {
      "displayName": "Felipe A. Gomes Ferreira",
      "photoUrl": "",
      "userId": "09095471911889500468"
     },
     "user_tz": 180
    },
    "id": "UMrRZrNjh_ox"
   },
   "outputs": [],
   "source": [
    "# compu_score = np.array(df['compound']).reshape(-1,1)\n",
    "# X = np.append(X,compu_score,1)\n",
    "# X.shape"
   ]
  },
  {
   "cell_type": "code",
   "execution_count": 44,
   "metadata": {
    "colab": {
     "base_uri": "https://localhost:8080/"
    },
    "executionInfo": {
     "elapsed": 107452,
     "status": "ok",
     "timestamp": 1618178847332,
     "user": {
      "displayName": "Felipe A. Gomes Ferreira",
      "photoUrl": "",
      "userId": "09095471911889500468"
     },
     "user_tz": 180
    },
    "id": "WbpYRh9K-UE2",
    "outputId": "b7544ff8-1271-4f0b-96a3-b4c5714560e4"
   },
   "outputs": [
    {
     "data": {
      "text/plain": [
       "1200"
      ]
     },
     "execution_count": 44,
     "metadata": {
      "tags": []
     },
     "output_type": "execute_result"
    }
   ],
   "source": [
    "X.shape[1]"
   ]
  },
  {
   "cell_type": "code",
   "execution_count": 45,
   "metadata": {
    "colab": {
     "base_uri": "https://localhost:8080/"
    },
    "executionInfo": {
     "elapsed": 107443,
     "status": "ok",
     "timestamp": 1618178847333,
     "user": {
      "displayName": "Felipe A. Gomes Ferreira",
      "photoUrl": "",
      "userId": "09095471911889500468"
     },
     "user_tz": 180
    },
    "id": "bCWCqIm-AA8x",
    "outputId": "cc639e01-b2ee-44b7-dd7d-5790d29d9209"
   },
   "outputs": [
    {
     "data": {
      "text/plain": [
       "((5863, 1200), (1466, 1200), (5863,), (1466,))"
      ]
     },
     "execution_count": 45,
     "metadata": {
      "tags": []
     },
     "output_type": "execute_result"
    }
   ],
   "source": [
    "from sklearn.model_selection import train_test_split\n",
    "X_train, X_val, y_train, y_val = train_test_split(X, y, random_state=42, train_size = 0.80)\n",
    "X_train.shape, X_val.shape, y_train.shape, y_val.shape"
   ]
  },
  {
   "cell_type": "code",
   "execution_count": 46,
   "metadata": {
    "executionInfo": {
     "elapsed": 107441,
     "status": "ok",
     "timestamp": 1618178847333,
     "user": {
      "displayName": "Felipe A. Gomes Ferreira",
      "photoUrl": "",
      "userId": "09095471911889500468"
     },
     "user_tz": 180
    },
    "id": "tUzqgd33voP1"
   },
   "outputs": [],
   "source": [
    "# from sklearn.feature_selection import SelectKBest\n",
    "# from sklearn.feature_selection import chi2\n",
    "# #X_new = SelectKBest(chi2, k=2).fit_transform(X, y)\n",
    "# test = SelectKBest(score_func=chi2, k='all')\n",
    "# fit = test.fit(X, y)\n",
    "# X_new=test.fit_transform(X, y)"
   ]
  },
  {
   "cell_type": "code",
   "execution_count": 47,
   "metadata": {
    "executionInfo": {
     "elapsed": 107440,
     "status": "ok",
     "timestamp": 1618178847334,
     "user": {
      "displayName": "Felipe A. Gomes Ferreira",
      "photoUrl": "",
      "userId": "09095471911889500468"
     },
     "user_tz": 180
    },
    "id": "zr2Vjjewv4ah"
   },
   "outputs": [],
   "source": [
    "# X_new.shape"
   ]
  },
  {
   "cell_type": "code",
   "execution_count": 60,
   "metadata": {
    "executionInfo": {
     "elapsed": 826,
     "status": "ok",
     "timestamp": 1618179206505,
     "user": {
      "displayName": "Felipe A. Gomes Ferreira",
      "photoUrl": "",
      "userId": "09095471911889500468"
     },
     "user_tz": 180
    },
    "id": "AvF0-vWiwEyu"
   },
   "outputs": [],
   "source": [
    "# X_train, X_val, y_train, y_val = train_test_split(X_new, y, random_state=42, train_size = 0.70)\n",
    "# X_train.shape, X_val.shape, y_train.shape, y_val.shape"
   ]
  },
  {
   "cell_type": "code",
   "execution_count": 61,
   "metadata": {
    "executionInfo": {
     "elapsed": 1185,
     "status": "ok",
     "timestamp": 1618179206870,
     "user": {
      "displayName": "Felipe A. Gomes Ferreira",
      "photoUrl": "",
      "userId": "09095471911889500468"
     },
     "user_tz": 180
    },
    "id": "N2w5OeXuBGr8"
   },
   "outputs": [],
   "source": [
    "from tensorflow.keras.models import Sequential\n",
    "from tensorflow.keras.layers import Dense, Dropout\n",
    "from tensorflow.keras.optimizers import Adam\n",
    "model = Sequential()\n",
    "model.add(Dense(512, input_dim=X_train.shape[1], activation='relu'))\n",
    "model.add(Dropout(0.5))\n",
    "model.add(Dense(256, activation='relu'))\n",
    "model.add(Dropout(0.5))\n",
    "model.add(Dense(128, activation='relu'))\n",
    "model.add(Dropout(0.40))\n",
    "model.add(Dense(64, activation='relu'))\n",
    "model.add(Dropout(0.40))\n",
    "model.add(Dense(1, activation='sigmoid'))\n",
    "model.compile(loss='binary_crossentropy',optimizer='Adam',metrics=['accuracy'])"
   ]
  },
  {
   "cell_type": "code",
   "execution_count": 62,
   "metadata": {
    "colab": {
     "base_uri": "https://localhost:8080/"
    },
    "executionInfo": {
     "elapsed": 17740,
     "status": "ok",
     "timestamp": 1618179223428,
     "user": {
      "displayName": "Felipe A. Gomes Ferreira",
      "photoUrl": "",
      "userId": "09095471911889500468"
     },
     "user_tz": 180
    },
    "id": "b2LQg2M8BUCs",
    "outputId": "8457ab12-25a5-4d9a-ca98-6a18b0fd6fde"
   },
   "outputs": [
    {
     "name": "stdout",
     "output_type": "stream",
     "text": [
      "Epoch 1/30\n",
      "184/184 [==============================] - 1s 3ms/step - loss: 0.6185 - accuracy: 0.6221\n",
      "Epoch 2/30\n",
      "184/184 [==============================] - 1s 3ms/step - loss: 0.3601 - accuracy: 0.8533\n",
      "Epoch 3/30\n",
      "184/184 [==============================] - 1s 3ms/step - loss: 0.2428 - accuracy: 0.9099\n",
      "Epoch 4/30\n",
      "184/184 [==============================] - 1s 3ms/step - loss: 0.1890 - accuracy: 0.9279\n",
      "Epoch 5/30\n",
      "184/184 [==============================] - 1s 3ms/step - loss: 0.1351 - accuracy: 0.9535\n",
      "Epoch 6/30\n",
      "184/184 [==============================] - 1s 3ms/step - loss: 0.0899 - accuracy: 0.9689\n",
      "Epoch 7/30\n",
      "184/184 [==============================] - 1s 3ms/step - loss: 0.0736 - accuracy: 0.9773\n",
      "Epoch 8/30\n",
      "184/184 [==============================] - 1s 3ms/step - loss: 0.0604 - accuracy: 0.9810\n",
      "Epoch 9/30\n",
      "184/184 [==============================] - 1s 3ms/step - loss: 0.0435 - accuracy: 0.9861\n",
      "Epoch 10/30\n",
      "184/184 [==============================] - 1s 3ms/step - loss: 0.0375 - accuracy: 0.9869\n",
      "Epoch 11/30\n",
      "184/184 [==============================] - 1s 3ms/step - loss: 0.0551 - accuracy: 0.9865\n",
      "Epoch 12/30\n",
      "184/184 [==============================] - 1s 3ms/step - loss: 0.0359 - accuracy: 0.9894\n",
      "Epoch 13/30\n",
      "184/184 [==============================] - 1s 3ms/step - loss: 0.0464 - accuracy: 0.9874\n",
      "Epoch 14/30\n",
      "184/184 [==============================] - 1s 3ms/step - loss: 0.0379 - accuracy: 0.9911\n",
      "Epoch 15/30\n",
      "184/184 [==============================] - 1s 3ms/step - loss: 0.0209 - accuracy: 0.9936\n",
      "Epoch 16/30\n",
      "184/184 [==============================] - 1s 3ms/step - loss: 0.0327 - accuracy: 0.9920\n",
      "Epoch 17/30\n",
      "184/184 [==============================] - 1s 3ms/step - loss: 0.0207 - accuracy: 0.9949\n",
      "Epoch 18/30\n",
      "184/184 [==============================] - 1s 3ms/step - loss: 0.0174 - accuracy: 0.9944\n",
      "Epoch 19/30\n",
      "184/184 [==============================] - 1s 3ms/step - loss: 0.0208 - accuracy: 0.9949\n",
      "Epoch 20/30\n",
      "184/184 [==============================] - 1s 3ms/step - loss: 0.0206 - accuracy: 0.9929\n",
      "Epoch 21/30\n",
      "184/184 [==============================] - 1s 3ms/step - loss: 0.0210 - accuracy: 0.9941\n",
      "Epoch 22/30\n",
      "184/184 [==============================] - 1s 3ms/step - loss: 0.0140 - accuracy: 0.9949\n",
      "Epoch 23/30\n",
      "184/184 [==============================] - 1s 3ms/step - loss: 0.0189 - accuracy: 0.9954\n",
      "Epoch 24/30\n",
      "184/184 [==============================] - 1s 3ms/step - loss: 0.0209 - accuracy: 0.9933\n",
      "Epoch 25/30\n",
      "184/184 [==============================] - 1s 3ms/step - loss: 0.0398 - accuracy: 0.9903\n",
      "Epoch 26/30\n",
      "184/184 [==============================] - 1s 3ms/step - loss: 0.0217 - accuracy: 0.9949\n",
      "Epoch 27/30\n",
      "184/184 [==============================] - 1s 3ms/step - loss: 0.0121 - accuracy: 0.9957\n",
      "Epoch 28/30\n",
      "184/184 [==============================] - 1s 3ms/step - loss: 0.0170 - accuracy: 0.9941\n",
      "Epoch 29/30\n",
      "184/184 [==============================] - 1s 3ms/step - loss: 0.0147 - accuracy: 0.9954\n",
      "Epoch 30/30\n",
      "184/184 [==============================] - 1s 3ms/step - loss: 0.0122 - accuracy: 0.9959\n"
     ]
    }
   ],
   "source": [
    "history = model.fit(X_train,y_train, epochs=30)"
   ]
  },
  {
   "cell_type": "code",
   "execution_count": 63,
   "metadata": {
    "colab": {
     "base_uri": "https://localhost:8080/",
     "height": 716
    },
    "executionInfo": {
     "elapsed": 18521,
     "status": "ok",
     "timestamp": 1618179224216,
     "user": {
      "displayName": "Felipe A. Gomes Ferreira",
      "photoUrl": "",
      "userId": "09095471911889500468"
     },
     "user_tz": 180
    },
    "id": "rzqxkaz48i96",
    "outputId": "76e2f7df-ff33-4f07-c5eb-8dfa57ee2888"
   },
   "outputs": [
    {
     "data": {
      "image/png": "[encoded data removed]",
      "text/plain": [
       "<Figure size 864x864 with 2 Axes>"
      ]
     },
     "metadata": {
      "needs_background": "light",
      "tags": []
     },
     "output_type": "display_data"
    }
   ],
   "source": [
    "acc = history.history['accuracy']\n",
    "#val_acc = history.history['val_accuracy']\n",
    "\n",
    "loss = history.history['loss']\n",
    "#val_loss = history.history['val_loss']\n",
    "\n",
    "epochs_range = range(30)\n",
    "\n",
    "plt.figure(figsize=(12, 12))\n",
    "plt.subplot(1, 2, 1)\n",
    "plt.plot(epochs_range, acc, label='Training accuracy')\n",
    "#plt.plot(epochs_range, val_acc, label='Validation accuracy')\n",
    "plt.legend(loc='lower right')\n",
    "plt.title('Training accuracy')\n",
    "\n",
    "plt.subplot(1, 2, 2)\n",
    "plt.plot(epochs_range, loss, label='Training Loss')\n",
    "#plt.plot(epochs_range, val_loss, label='Validation Loss')\n",
    "plt.legend(loc='upper right')\n",
    "plt.title('Training Loss')\n",
    "plt.show()"
   ]
  },
  {
   "cell_type": "code",
   "execution_count": 64,
   "metadata": {
    "colab": {
     "base_uri": "https://localhost:8080/"
    },
    "executionInfo": {
     "elapsed": 18517,
     "status": "ok",
     "timestamp": 1618179224219,
     "user": {
      "displayName": "Felipe A. Gomes Ferreira",
      "photoUrl": "",
      "userId": "09095471911889500468"
     },
     "user_tz": 180
    },
    "id": "nGJHXkvzBf7W",
    "outputId": "1ab8ee73-abc5-498b-cb0f-bade4a392534"
   },
   "outputs": [
    {
     "data": {
      "text/plain": [
       "array([[1],\n",
       "       [0],\n",
       "       [0],\n",
       "       ...,\n",
       "       [1],\n",
       "       [0],\n",
       "       [1]])"
      ]
     },
     "execution_count": 64,
     "metadata": {
      "tags": []
     },
     "output_type": "execute_result"
    }
   ],
   "source": [
    "y_val_pred = (model.predict(X_val) > 0.5).astype('int')\n",
    "y_val_pred"
   ]
  },
  {
   "cell_type": "code",
   "execution_count": 65,
   "metadata": {
    "colab": {
     "base_uri": "https://localhost:8080/"
    },
    "executionInfo": {
     "elapsed": 18512,
     "status": "ok",
     "timestamp": 1618179224219,
     "user": {
      "displayName": "Felipe A. Gomes Ferreira",
      "photoUrl": "",
      "userId": "09095471911889500468"
     },
     "user_tz": 180
    },
    "id": "3eLOM2siBmJL",
    "outputId": "38520f45-3e5d-431c-d1da-213a91be7e2b"
   },
   "outputs": [
    {
     "name": "stdout",
     "output_type": "stream",
     "text": [
      "[[503  93]\n",
      " [ 80 790]]\n",
      "              precision    recall  f1-score   support\n",
      "\n",
      "           0       0.86      0.84      0.85       596\n",
      "           1       0.89      0.91      0.90       870\n",
      "\n",
      "    accuracy                           0.88      1466\n",
      "   macro avg       0.88      0.88      0.88      1466\n",
      "weighted avg       0.88      0.88      0.88      1466\n",
      "\n"
     ]
    }
   ],
   "source": [
    "from sklearn.metrics import confusion_matrix\n",
    "from sklearn.metrics import classification_report\n",
    "\n",
    "print(confusion_matrix(y_true = y_val, y_pred = y_val_pred))\n",
    "print(classification_report(y_true = y_val, y_pred = y_val_pred))"
   ]
  },
  {
   "cell_type": "code",
   "execution_count": 66,
   "metadata": {
    "executionInfo": {
     "elapsed": 18996,
     "status": "ok",
     "timestamp": 1618179224708,
     "user": {
      "displayName": "Felipe A. Gomes Ferreira",
      "photoUrl": "",
      "userId": "09095471911889500468"
     },
     "user_tz": 180
    },
    "id": "dADmNMOqMgd-"
   },
   "outputs": [],
   "source": [
    "# Read in the unlabeled testing data (for the Kaggle competition)\n",
    "df_test = pd.read_csv(\"https://drive.google.com/uc?export=download&id=1EVWfyqQOd_W2uTKrr4JTD2iFrEZHoOHT\")"
   ]
  },
  {
   "cell_type": "code",
   "execution_count": 67,
   "metadata": {
    "colab": {
     "base_uri": "https://localhost:8080/"
    },
    "executionInfo": {
     "elapsed": 27103,
     "status": "ok",
     "timestamp": 1618179232818,
     "user": {
      "displayName": "Felipe A. Gomes Ferreira",
      "photoUrl": "",
      "userId": "09095471911889500468"
     },
     "user_tz": 180
    },
    "id": "KuB0EgwV4os-",
    "outputId": "0f1921db-3e9f-4f63-a37e-8ae3cf7d4227"
   },
   "outputs": [
    {
     "data": {
      "text/plain": [
       "(664, 1200)"
      ]
     },
     "execution_count": 67,
     "metadata": {
      "tags": []
     },
     "output_type": "execute_result"
    }
   ],
   "source": [
    "X_test= vectorizer.fit_transform(df_test['en_clean']).toarray()\n",
    "X_test.shape"
   ]
  },
  {
   "cell_type": "code",
   "execution_count": 68,
   "metadata": {
    "executionInfo": {
     "elapsed": 27098,
     "status": "ok",
     "timestamp": 1618179232819,
     "user": {
      "displayName": "Felipe A. Gomes Ferreira",
      "photoUrl": "",
      "userId": "09095471911889500468"
     },
     "user_tz": 180
    },
    "id": "GEBMsF9uMltG"
   },
   "outputs": [],
   "source": [
    "# Use our pipeline to make predictions; then output predictions to a CSV file.\n",
    "\n",
    "pred_test = (model.predict(X_test)).astype('int')\n",
    "\n",
    "my_submission = pd.DataFrame({'id': df_test['loan_id'], 'predicted': pred_test[:, 0]})\n",
    "my_submission.head()\n",
    "\n",
    "# This command will save the file to the local cloud instance; it will be deleted\n",
    "# as soon as this Notebooks session ends.\n",
    "my_submission.to_csv('my_submission.csv', index=False)"
   ]
  },
  {
   "cell_type": "code",
   "execution_count": 69,
   "metadata": {
    "colab": {
     "base_uri": "https://localhost:8080/",
     "height": 17
    },
    "executionInfo": {
     "elapsed": 27096,
     "status": "ok",
     "timestamp": 1618179232820,
     "user": {
      "displayName": "Felipe A. Gomes Ferreira",
      "photoUrl": "",
      "userId": "09095471911889500468"
     },
     "user_tz": 180
    },
    "id": "5anM8O9P9Qod",
    "outputId": "c9100634-8f72-4e04-99d6-0894a3a0a3ac"
   },
   "outputs": [
    {
     "data": {
      "application/javascript": [
       "\n",
       "    async function download(id, filename, size) {\n",
       "      if (!google.colab.kernel.accessAllowed) {\n",
       "        return;\n",
       "      }\n",
       "      const div = document.createElement('div');\n",
       "      const label = document.createElement('label');\n",
       "      label.textContent = `Downloading \"${filename}\": `;\n",
       "      div.appendChild(label);\n",
       "      const progress = document.createElement('progress');\n",
       "      progress.max = size;\n",
       "      div.appendChild(progress);\n",
       "      document.body.appendChild(div);\n",
       "\n",
       "      const buffers = [];\n",
       "      let downloaded = 0;\n",
       "\n",
       "      const channel = await google.colab.kernel.comms.open(id);\n",
       "      // Send a message to notify the kernel that we're ready.\n",
       "      channel.send({})\n",
       "\n",
       "      for await (const message of channel.messages) {\n",
       "        // Send a message to notify the kernel that we're ready.\n",
       "        channel.send({})\n",
       "        if (message.buffers) {\n",
       "          for (const buffer of message.buffers) {\n",
       "            buffers.push(buffer);\n",
       "            downloaded += buffer.byteLength;\n",
       "            progress.value = downloaded;\n",
       "          }\n",
       "        }\n",
       "      }\n",
       "      const blob = new Blob(buffers, {type: 'application/binary'});\n",
       "      const a = document.createElement('a');\n",
       "      a.href = window.URL.createObjectURL(blob);\n",
       "      a.download = filename;\n",
       "      div.appendChild(a);\n",
       "      a.click();\n",
       "      div.remove();\n",
       "    }\n",
       "  "
      ],
      "text/plain": [
       "<IPython.core.display.Javascript object>"
      ]
     },
     "metadata": {
      "tags": []
     },
     "output_type": "display_data"
    },
    {
     "data": {
      "application/javascript": [
       "download(\"download_b6e7c85e-d68a-4da5-b2d5-507ad48ef80d\", \"my_submission.csv\", 4552)"
      ],
      "text/plain": [
       "<IPython.core.display.Javascript object>"
      ]
     },
     "metadata": {
      "tags": []
     },
     "output_type": "display_data"
    }
   ],
   "source": [
    "# Download predictions file to your local computer\n",
    "\n",
    "from google.colab import files\n",
    "files.download('my_submission.csv')"
   ]
  }
 ],
 "metadata": {
  "accelerator": "GPU",
  "colab": {
   "collapsed_sections": [],
   "machine_shape": "hm",
   "name": "T6_DataAugmentation_KerasNeuralNetwork_(2).ipynb",
   "provenance": [
    {
     "file_id": "1DEESyR9o50X6ZID1uXrHJnrqefrnnPux",
     "timestamp": 1618178003555
    },
    {
     "file_id": "1AyY-GQdFCQaIvhtIOASAM7YYL8LgXqhY",
     "timestamp": 1618174021072
    }
   ]
  },
  "kernelspec": {
   "display_name": "Python 3",
   "language": "python",
   "name": "python3"
  },
  "language_info": {
   "codemirror_mode": {
    "name": "ipython",
    "version": 3
   },
   "file_extension": ".py",
   "mimetype": "text/x-python",
   "name": "python",
   "nbconvert_exporter": "python",
   "pygments_lexer": "ipython3",
   "version": "3.8.3"
  }
 },
 "nbformat": 4,
 "nbformat_minor": 1
}
