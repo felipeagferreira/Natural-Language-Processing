{
 "cells": [
  {
   "cell_type": "code",
   "execution_count": null,
   "metadata": {
    "id": "gSFOL69swkIj"
   },
   "outputs": [],
   "source": [
    "import pandas as pd\n",
    "import numpy as np"
   ]
  },
  {
   "cell_type": "code",
   "execution_count": null,
   "metadata": {
    "id": "cfyft5ZyF5Pp"
   },
   "outputs": [],
   "source": [
    "from IPython.core.interactiveshell import InteractiveShell\n",
    "InteractiveShell.ast_node_interactivity = \"all\""
   ]
  },
  {
   "cell_type": "code",
   "execution_count": null,
   "metadata": {
    "colab": {
     "base_uri": "https://localhost:8080/"
    },
    "executionInfo": {
     "elapsed": 2347,
     "status": "ok",
     "timestamp": 1617991821271,
     "user": {
      "displayName": "Felipe A. Gomes Ferreira",
      "photoUrl": "",
      "userId": "09095471911889500468"
     },
     "user_tz": 180
    },
    "id": "SvSZQOG_MSwE",
    "outputId": "fcd5895b-0077-4f90-e6db-5eea9a426f56"
   },
   "outputs": [
    {
     "name": "stdout",
     "output_type": "stream",
     "text": [
      "[nltk_data] Downloading package stopwords to /root/nltk_data...\n",
      "[nltk_data]   Unzipping corpora/stopwords.zip.\n"
     ]
    },
    {
     "data": {
      "text/plain": [
       "True"
      ]
     },
     "execution_count": 3,
     "metadata": {
      "tags": []
     },
     "output_type": "execute_result"
    },
    {
     "name": "stdout",
     "output_type": "stream",
     "text": [
      "[nltk_data] Downloading package wordnet to /root/nltk_data...\n",
      "[nltk_data]   Unzipping corpora/wordnet.zip.\n"
     ]
    },
    {
     "data": {
      "text/plain": [
       "True"
      ]
     },
     "execution_count": 3,
     "metadata": {
      "tags": []
     },
     "output_type": "execute_result"
    }
   ],
   "source": [
    "import nltk\n",
    "nltk.download('stopwords')\n",
    "nltk.download('wordnet')"
   ]
  },
  {
   "cell_type": "code",
   "execution_count": null,
   "metadata": {
    "colab": {
     "base_uri": "https://localhost:8080/"
    },
    "executionInfo": {
     "elapsed": 1438,
     "status": "ok",
     "timestamp": 1617991831295,
     "user": {
      "displayName": "Felipe A. Gomes Ferreira",
      "photoUrl": "",
      "userId": "09095471911889500468"
     },
     "user_tz": 180
    },
    "id": "tiKk2YIxLiWL",
    "outputId": "82b9e070-6bc3-4618-f107-ef492d0b1d0e"
   },
   "outputs": [
    {
     "name": "stdout",
     "output_type": "stream",
     "text": [
      "[nltk_data] Downloading package punkt to /root/nltk_data...\n",
      "[nltk_data]   Unzipping tokenizers/punkt.zip.\n"
     ]
    },
    {
     "data": {
      "text/plain": [
       "True"
      ]
     },
     "execution_count": 4,
     "metadata": {
      "tags": []
     },
     "output_type": "execute_result"
    }
   ],
   "source": [
    "import string\n",
    "\n",
    "nltk.download('punkt')\n",
    "from nltk.tokenize import word_tokenize"
   ]
  },
  {
   "cell_type": "code",
   "execution_count": null,
   "metadata": {
    "id": "BZTxqks7LiOA"
   },
   "outputs": [],
   "source": [
    "from nltk.stem import WordNetLemmatizer\n",
    "from nltk.corpus import stopwords"
   ]
  },
  {
   "cell_type": "code",
   "execution_count": null,
   "metadata": {
    "colab": {
     "base_uri": "https://localhost:8080/"
    },
    "executionInfo": {
     "elapsed": 4535,
     "status": "ok",
     "timestamp": 1617991853006,
     "user": {
      "displayName": "Felipe A. Gomes Ferreira",
      "photoUrl": "",
      "userId": "09095471911889500468"
     },
     "user_tz": 180
    },
    "id": "RAYgKdHRMKnI",
    "outputId": "762699ce-414a-49a1-e573-4c3cf3c58bfa"
   },
   "outputs": [
    {
     "name": "stdout",
     "output_type": "stream",
     "text": [
      "Collecting unidecode\n",
      "\u001b[?25l  Downloading https://files.pythonhosted.org/packages/9e/25/723487ca2a52ebcee88a34d7d1f5a4b80b793f179ee0f62d5371938dfa01/Unidecode-1.2.0-py2.py3-none-any.whl (241kB)\n",
      "\u001b[K     |████████████████████████████████| 245kB 8.3MB/s \n",
      "\u001b[?25hCollecting textstat\n",
      "\u001b[?25l  Downloading https://files.pythonhosted.org/packages/ca/b1/ab40a00b727a0d209402d1be6aa3f1bc75bd03678b59ace8507b08bf12f5/textstat-0.7.0-py3-none-any.whl (99kB)\n",
      "\u001b[K     |████████████████████████████████| 102kB 7.3MB/s \n",
      "\u001b[?25hCollecting pyphen\n",
      "\u001b[?25l  Downloading https://files.pythonhosted.org/packages/7c/5a/5bc036e01389bc6a6667a932bac3e388de6e7fa5777a6ff50e652f60ec79/Pyphen-0.10.0-py3-none-any.whl (1.9MB)\n",
      "\u001b[K     |████████████████████████████████| 1.9MB 9.4MB/s \n",
      "\u001b[?25hInstalling collected packages: unidecode, pyphen, textstat\n",
      "Successfully installed pyphen-0.10.0 textstat-0.7.0 unidecode-1.2.0\n"
     ]
    }
   ],
   "source": [
    "pip install unidecode textstat"
   ]
  },
  {
   "cell_type": "code",
   "execution_count": null,
   "metadata": {
    "id": "7nugUvK8F5To"
   },
   "outputs": [],
   "source": [
    "# The labeled training data\n",
    "df = pd.read_csv(\"https://drive.google.com/uc?export=download&id=1dzzVbgHphbCf7kvq9IKiIhwzmxPbuH4s\")"
   ]
  },
  {
   "cell_type": "code",
   "execution_count": null,
   "metadata": {
    "colab": {
     "base_uri": "https://localhost:8080/",
     "height": 204
    },
    "executionInfo": {
     "elapsed": 989,
     "status": "ok",
     "timestamp": 1617991866480,
     "user": {
      "displayName": "Felipe A. Gomes Ferreira",
      "photoUrl": "",
      "userId": "09095471911889500468"
     },
     "user_tz": 180
    },
    "id": "k3xXc5JVF5Up",
    "outputId": "cd4f7670-439a-4557-ad79-c08eea9ceac8"
   },
   "outputs": [
    {
     "data": {
      "text/html": [
       "<div>\n",
       "<style scoped>\n",
       "    .dataframe tbody tr th:only-of-type {\n",
       "        vertical-align: middle;\n",
       "    }\n",
       "\n",
       "    .dataframe tbody tr th {\n",
       "        vertical-align: top;\n",
       "    }\n",
       "\n",
       "    .dataframe thead th {\n",
       "        text-align: right;\n",
       "    }\n",
       "</style>\n",
       "<table border=\"1\" class=\"dataframe\">\n",
       "  <thead>\n",
       "    <tr style=\"text-align: right;\">\n",
       "      <th></th>\n",
       "      <th>loan_id</th>\n",
       "      <th>en_clean</th>\n",
       "      <th>defaulted</th>\n",
       "    </tr>\n",
       "  </thead>\n",
       "  <tbody>\n",
       "    <tr>\n",
       "      <th>0</th>\n",
       "      <td>7779</td>\n",
       "      <td>She opened a colmado out of the side of her ho...</td>\n",
       "      <td>0</td>\n",
       "    </tr>\n",
       "    <tr>\n",
       "      <th>1</th>\n",
       "      <td>2777</td>\n",
       "      <td>(First Loan):  Joffre continues to run his loc...</td>\n",
       "      <td>1</td>\n",
       "    </tr>\n",
       "    <tr>\n",
       "      <th>2</th>\n",
       "      <td>6007</td>\n",
       "      <td>Dina Santana is the mother of two children, Ju...</td>\n",
       "      <td>0</td>\n",
       "    </tr>\n",
       "    <tr>\n",
       "      <th>3</th>\n",
       "      <td>76</td>\n",
       "      <td>Rosemary is 50 years old, single, and has 6 ch...</td>\n",
       "      <td>1</td>\n",
       "    </tr>\n",
       "    <tr>\n",
       "      <th>4</th>\n",
       "      <td>4217</td>\n",
       "      <td>Segundo has a shop where he sells animal feed,...</td>\n",
       "      <td>0</td>\n",
       "    </tr>\n",
       "  </tbody>\n",
       "</table>\n",
       "</div>"
      ],
      "text/plain": [
       "   loan_id                                           en_clean  defaulted\n",
       "0     7779  She opened a colmado out of the side of her ho...          0\n",
       "1     2777  (First Loan):  Joffre continues to run his loc...          1\n",
       "2     6007  Dina Santana is the mother of two children, Ju...          0\n",
       "3       76  Rosemary is 50 years old, single, and has 6 ch...          1\n",
       "4     4217  Segundo has a shop where he sells animal feed,...          0"
      ]
     },
     "execution_count": 8,
     "metadata": {
      "tags": []
     },
     "output_type": "execute_result"
    }
   ],
   "source": [
    "df.head()"
   ]
  },
  {
   "cell_type": "markdown",
   "metadata": {
    "id": "IPeUJcMS1Kg6"
   },
   "source": [
    "#### **Dop duplicates and drop loan_id**"
   ]
  },
  {
   "cell_type": "code",
   "execution_count": null,
   "metadata": {
    "colab": {
     "base_uri": "https://localhost:8080/"
    },
    "executionInfo": {
     "elapsed": 821,
     "status": "ok",
     "timestamp": 1617991922259,
     "user": {
      "displayName": "Felipe A. Gomes Ferreira",
      "photoUrl": "",
      "userId": "09095471911889500468"
     },
     "user_tz": 180
    },
    "id": "RE34MYueF5jG",
    "outputId": "058bd839-e7ca-46a5-cb4c-2c495c85681f"
   },
   "outputs": [
    {
     "data": {
      "text/plain": [
       "(6138, 3)"
      ]
     },
     "execution_count": 9,
     "metadata": {
      "tags": []
     },
     "output_type": "execute_result"
    }
   ],
   "source": [
    "df.shape"
   ]
  },
  {
   "cell_type": "code",
   "execution_count": null,
   "metadata": {
    "colab": {
     "base_uri": "https://localhost:8080/"
    },
    "executionInfo": {
     "elapsed": 815,
     "status": "ok",
     "timestamp": 1617991930104,
     "user": {
      "displayName": "Felipe A. Gomes Ferreira",
      "photoUrl": "",
      "userId": "09095471911889500468"
     },
     "user_tz": 180
    },
    "id": "aF16tKlKF5lF",
    "outputId": "babf1257-aa3f-4188-f83a-619e91da962a"
   },
   "outputs": [
    {
     "data": {
      "text/plain": [
       "(6129, 3)"
      ]
     },
     "execution_count": 10,
     "metadata": {
      "tags": []
     },
     "output_type": "execute_result"
    }
   ],
   "source": [
    "df = df.drop_duplicates('en_clean')\n",
    "df.shape"
   ]
  },
  {
   "cell_type": "code",
   "execution_count": null,
   "metadata": {
    "colab": {
     "base_uri": "https://localhost:8080/",
     "height": 204
    },
    "executionInfo": {
     "elapsed": 1404,
     "status": "ok",
     "timestamp": 1617992017268,
     "user": {
      "displayName": "Felipe A. Gomes Ferreira",
      "photoUrl": "",
      "userId": "09095471911889500468"
     },
     "user_tz": 180
    },
    "id": "HwNtCMmF1a4F",
    "outputId": "a1b58d29-2ffd-4e5c-e96b-559449e49d97"
   },
   "outputs": [
    {
     "data": {
      "text/html": [
       "<div>\n",
       "<style scoped>\n",
       "    .dataframe tbody tr th:only-of-type {\n",
       "        vertical-align: middle;\n",
       "    }\n",
       "\n",
       "    .dataframe tbody tr th {\n",
       "        vertical-align: top;\n",
       "    }\n",
       "\n",
       "    .dataframe thead th {\n",
       "        text-align: right;\n",
       "    }\n",
       "</style>\n",
       "<table border=\"1\" class=\"dataframe\">\n",
       "  <thead>\n",
       "    <tr style=\"text-align: right;\">\n",
       "      <th></th>\n",
       "      <th>en_clean</th>\n",
       "      <th>defaulted</th>\n",
       "    </tr>\n",
       "  </thead>\n",
       "  <tbody>\n",
       "    <tr>\n",
       "      <th>0</th>\n",
       "      <td>She opened a colmado out of the side of her ho...</td>\n",
       "      <td>0</td>\n",
       "    </tr>\n",
       "    <tr>\n",
       "      <th>1</th>\n",
       "      <td>(First Loan):  Joffre continues to run his loc...</td>\n",
       "      <td>1</td>\n",
       "    </tr>\n",
       "    <tr>\n",
       "      <th>2</th>\n",
       "      <td>Dina Santana is the mother of two children, Ju...</td>\n",
       "      <td>0</td>\n",
       "    </tr>\n",
       "    <tr>\n",
       "      <th>3</th>\n",
       "      <td>Rosemary is 50 years old, single, and has 6 ch...</td>\n",
       "      <td>1</td>\n",
       "    </tr>\n",
       "    <tr>\n",
       "      <th>4</th>\n",
       "      <td>Segundo has a shop where he sells animal feed,...</td>\n",
       "      <td>0</td>\n",
       "    </tr>\n",
       "  </tbody>\n",
       "</table>\n",
       "</div>"
      ],
      "text/plain": [
       "                                            en_clean  defaulted\n",
       "0  She opened a colmado out of the side of her ho...          0\n",
       "1  (First Loan):  Joffre continues to run his loc...          1\n",
       "2  Dina Santana is the mother of two children, Ju...          0\n",
       "3  Rosemary is 50 years old, single, and has 6 ch...          1\n",
       "4  Segundo has a shop where he sells animal feed,...          0"
      ]
     },
     "execution_count": 11,
     "metadata": {
      "tags": []
     },
     "output_type": "execute_result"
    }
   ],
   "source": [
    "df = df.drop(['loan_id'], axis=1)\n",
    "df.head()"
   ]
  },
  {
   "cell_type": "code",
   "execution_count": null,
   "metadata": {
    "id": "2Rk1jmdq1a7d"
   },
   "outputs": [],
   "source": []
  },
  {
   "cell_type": "code",
   "execution_count": null,
   "metadata": {
    "id": "4UiGDF33F5mi"
   },
   "outputs": [],
   "source": [
    "import spacy\n",
    "from spacy import displacy\n",
    "nlp = spacy.load(\"en_core_web_sm\")"
   ]
  },
  {
   "cell_type": "code",
   "execution_count": null,
   "metadata": {
    "id": "oKgN9uqYF5pp"
   },
   "outputs": [],
   "source": []
  },
  {
   "cell_type": "markdown",
   "metadata": {
    "id": "kUECSWjFOdTC"
   },
   "source": [
    "## **TF-IDF**\n",
    "\n",
    "\n",
    "TF-IDF is a measure of originality of a word by comparing the number of times a word appears in a doc with the number of docs the word appears in."
   ]
  },
  {
   "cell_type": "markdown",
   "metadata": {
    "id": "6t-SRCIzPPr9"
   },
   "source": [
    "Some semantic information is preserved as uncommon words are given more importance than common words in TF-IDF.\n",
    "\n",
    "**E.g. 'She is beautiful'**, Here 'beautiful will have more importance than 'she' or 'is'."
   ]
  },
  {
   "cell_type": "code",
   "execution_count": null,
   "metadata": {
    "id": "XfO_cdSwN7jm"
   },
   "outputs": [],
   "source": [
    "from sklearn.feature_extraction.text import TfidfVectorizer\n",
    "from sklearn.model_selection import train_test_split\n",
    "from sklearn.svm import LinearSVC\n",
    "from sklearn.ensemble import RandomForestClassifier\n",
    "from sklearn.metrics import classification_report"
   ]
  },
  {
   "cell_type": "markdown",
   "metadata": {
    "id": "E5-eh5FoWMdt"
   },
   "source": [
    "# **Text Preprocessing**"
   ]
  },
  {
   "cell_type": "code",
   "execution_count": null,
   "metadata": {
    "colab": {
     "base_uri": "https://localhost:8080/"
    },
    "executionInfo": {
     "elapsed": 4989,
     "status": "ok",
     "timestamp": 1617992139340,
     "user": {
      "displayName": "Felipe A. Gomes Ferreira",
      "photoUrl": "",
      "userId": "09095471911889500468"
     },
     "user_tz": 180
    },
    "id": "Umh7nuQzMnaN",
    "outputId": "44e15bee-097f-4692-fa28-7ad8c71c306b"
   },
   "outputs": [
    {
     "name": "stdout",
     "output_type": "stream",
     "text": [
      "Collecting git+https://github.com/laxmimerit/preprocess_kgptalkie.git\n",
      "  Cloning https://github.com/laxmimerit/preprocess_kgptalkie.git to /tmp/pip-req-build-auy9o4kh\n",
      "  Running command git clone -q https://github.com/laxmimerit/preprocess_kgptalkie.git /tmp/pip-req-build-auy9o4kh\n",
      "Building wheels for collected packages: preprocess-kgptalkie\n",
      "  Building wheel for preprocess-kgptalkie (setup.py) ... \u001b[?25l\u001b[?25hdone\n",
      "  Created wheel for preprocess-kgptalkie: filename=preprocess_kgptalkie-0.1.3-cp37-none-any.whl size=11743 sha256=fa5291050b1c19001a0c38071c4948d2c909707a443a95c5be4c1948c6da415d\n",
      "  Stored in directory: /tmp/pip-ephem-wheel-cache-z8zb7lq5/wheels/a8/18/22/90afa4bd43247fb9a75b710a4a3fcd94966c022ce9e3c7d0a6\n",
      "Successfully built preprocess-kgptalkie\n",
      "Installing collected packages: preprocess-kgptalkie\n",
      "Successfully installed preprocess-kgptalkie-0.1.3\n"
     ]
    }
   ],
   "source": [
    "!pip install git+https://github.com/laxmimerit/preprocess_kgptalkie.git"
   ]
  },
  {
   "cell_type": "markdown",
   "metadata": {
    "id": "K7CGOOh_Xl6v"
   },
   "source": [
    "Defining get_clean function which is taking argument as ‘Reviews’ column then after performing some steps:"
   ]
  },
  {
   "cell_type": "code",
   "execution_count": null,
   "metadata": {
    "id": "IrEKVG9tHELj"
   },
   "outputs": [],
   "source": [
    "from nltk.corpus import stopwords\n",
    "from nltk.stem import WordNetLemmatizer\n",
    "import re\n",
    "import unidecode\n",
    "import preprocess_kgptalkie as ps\n",
    "\n",
    "stop_words = set(stopwords.words('english') + stopwords.words('spanish'))\n",
    "lemmer = WordNetLemmatizer()\n",
    "\n",
    "# A nice preprocessing function that we can pass to CountVectorizer/TfidfVectorizer\n",
    "def my_preprocess(doc):\n",
    "\n",
    "    # Lowercase everything\n",
    "    res = doc.lower()\n",
    "    \n",
    "    # Remove any \"weird\" characters\n",
    "    res = unidecode.unidecode(res)\n",
    "\n",
    "    # TODO: What else?\n",
    "\n",
    "    res = re.sub(r'[^\\w\\s]', '',res)\n",
    "\n",
    "    res = re.sub(r'\\d+', '', res)\n",
    "    res = ps.remove_emails(res)\n",
    "    res = ps.remove_urls(res)\n",
    "    res = ps.remove_html_tags(res)\n",
    "    res = ps.remove_accented_chars(res)\n",
    "    res = ps.remove_special_chars(res)\n",
    "\n",
    "    res = [lemmer.lemmatize(w) for w in res.split() if w not in stop_words]\n",
    "\n",
    "\n",
    "    return ' '.join(res)   "
   ]
  },
  {
   "cell_type": "code",
   "execution_count": null,
   "metadata": {
    "colab": {
     "base_uri": "https://localhost:8080/",
     "height": 359
    },
    "executionInfo": {
     "elapsed": 6019,
     "status": "ok",
     "timestamp": 1617992164186,
     "user": {
      "displayName": "Felipe A. Gomes Ferreira",
      "photoUrl": "",
      "userId": "09095471911889500468"
     },
     "user_tz": 180
    },
    "id": "E1gp8jZGH7n7",
    "outputId": "0b290244-fae1-476c-87c0-64bb02bcc7fc"
   },
   "outputs": [
    {
     "data": {
      "text/html": [
       "<div>\n",
       "<style scoped>\n",
       "    .dataframe tbody tr th:only-of-type {\n",
       "        vertical-align: middle;\n",
       "    }\n",
       "\n",
       "    .dataframe tbody tr th {\n",
       "        vertical-align: top;\n",
       "    }\n",
       "\n",
       "    .dataframe thead th {\n",
       "        text-align: right;\n",
       "    }\n",
       "</style>\n",
       "<table border=\"1\" class=\"dataframe\">\n",
       "  <thead>\n",
       "    <tr style=\"text-align: right;\">\n",
       "      <th></th>\n",
       "      <th>en_clean</th>\n",
       "      <th>defaulted</th>\n",
       "    </tr>\n",
       "  </thead>\n",
       "  <tbody>\n",
       "    <tr>\n",
       "      <th>0</th>\n",
       "      <td>opened colmado side house dominican republic c...</td>\n",
       "      <td>0</td>\n",
       "    </tr>\n",
       "    <tr>\n",
       "      <th>1</th>\n",
       "      <td>first loan joffre continues run locksmith moto...</td>\n",
       "      <td>1</td>\n",
       "    </tr>\n",
       "    <tr>\n",
       "      <th>2</th>\n",
       "      <td>dina santana mother two child julio manuel san...</td>\n",
       "      <td>0</td>\n",
       "    </tr>\n",
       "    <tr>\n",
       "      <th>3</th>\n",
       "      <td>rosemary year old single child grandchild join...</td>\n",
       "      <td>1</td>\n",
       "    </tr>\n",
       "    <tr>\n",
       "      <th>4</th>\n",
       "      <td>segundo shop sell animal feed medicine live po...</td>\n",
       "      <td>0</td>\n",
       "    </tr>\n",
       "    <tr>\n",
       "      <th>5</th>\n",
       "      <td>single parent mother sell grocery earn living ...</td>\n",
       "      <td>0</td>\n",
       "    </tr>\n",
       "    <tr>\n",
       "      <th>6</th>\n",
       "      <td>mariana jose serda owns general store magdalen...</td>\n",
       "      <td>0</td>\n",
       "    </tr>\n",
       "    <tr>\n",
       "      <th>7</th>\n",
       "      <td>mary mother four child one child secondary sch...</td>\n",
       "      <td>1</td>\n",
       "    </tr>\n",
       "    <tr>\n",
       "      <th>8</th>\n",
       "      <td>wilson seeking second loan kiva mifex first lo...</td>\n",
       "      <td>0</td>\n",
       "    </tr>\n",
       "    <tr>\n",
       "      <th>9</th>\n",
       "      <td>clara life two child age small town samana wan...</td>\n",
       "      <td>0</td>\n",
       "    </tr>\n",
       "  </tbody>\n",
       "</table>\n",
       "</div>"
      ],
      "text/plain": [
       "                                            en_clean  defaulted\n",
       "0  opened colmado side house dominican republic c...          0\n",
       "1  first loan joffre continues run locksmith moto...          1\n",
       "2  dina santana mother two child julio manuel san...          0\n",
       "3  rosemary year old single child grandchild join...          1\n",
       "4  segundo shop sell animal feed medicine live po...          0\n",
       "5  single parent mother sell grocery earn living ...          0\n",
       "6  mariana jose serda owns general store magdalen...          0\n",
       "7  mary mother four child one child secondary sch...          1\n",
       "8  wilson seeking second loan kiva mifex first lo...          0\n",
       "9  clara life two child age small town samana wan...          0"
      ]
     },
     "execution_count": 17,
     "metadata": {
      "tags": []
     },
     "output_type": "execute_result"
    }
   ],
   "source": [
    "df['en_clean'] = df['en_clean'].apply(my_preprocess)\n",
    "df.head(10)"
   ]
  },
  {
   "cell_type": "code",
   "execution_count": null,
   "metadata": {
    "id": "Hoq_Apk1ILk6"
   },
   "outputs": [],
   "source": [
    "from sklearn.model_selection import train_test_split\n",
    "\n",
    "X = df['en_clean']\n",
    "y = df['defaulted']\n",
    "\n",
    "# So that we can evaluate how well our model is performing, we split our training data\n",
    "# into training and validation.\n",
    "\n",
    "X_train, X_val, y_train, y_val = train_test_split(X, y, test_size = 0.2, random_state=42)"
   ]
  },
  {
   "cell_type": "code",
   "execution_count": null,
   "metadata": {
    "id": "i5D754-nILs5"
   },
   "outputs": [],
   "source": [
    "# These functions will calculate additional features on the document.\n",
    "# They will be put into the Pipeline, called via the FunctionTransformer() function.\n",
    "# Each one takes an entire corpus (as a list of documents), and should return\n",
    "# an array of feature values (one for each document in the corpus).\n",
    "# These functions can do anything they want; I've made most of them quick\n",
    "# one-liners Hopefully the names of the functions will make them self explanitory.\n",
    "\n",
    "def doc_length(corpus):\n",
    "    return np.array([len(doc) for doc in corpus]).reshape(-1, 1)\n",
    "\n",
    "def num_exclamation_marks(corpus):\n",
    "    return np.array([doc.count('!') for doc in corpus]).reshape(-1, 1)"
   ]
  },
  {
   "cell_type": "code",
   "execution_count": null,
   "metadata": {
    "id": "zssb5g77ILxc"
   },
   "outputs": [],
   "source": [
    "from sklearn.pipeline import Pipeline, FeatureUnion\n",
    "from sklearn.feature_extraction.text import TfidfVectorizer, CountVectorizer\n",
    "from sklearn.ensemble import RandomForestClassifier\n",
    "\n",
    "from sklearn.preprocessing import FunctionTransformer\n",
    "\n",
    "# This vectorizer will be used to create the BOW features.\n",
    "vectorizer = TfidfVectorizer(preprocessor=my_preprocess, \n",
    "                             max_features = 100, \n",
    "                             use_idf=True)\n",
    "\n",
    "rf = RandomForestClassifier(criterion='entropy', random_state=223)\n",
    "\n",
    "# We will \"union\" together the BOW features and the custom-created features we\n",
    "# created in the cell above.\n",
    "feature_processing =  FeatureUnion([ \n",
    "    ('bow', Pipeline([('vectorizer', vectorizer), ])),\n",
    "    ('doc_length', FunctionTransformer(doc_length, validate=False)),\n",
    "    ('num_exclamation_marks', FunctionTransformer(num_exclamation_marks, validate=False)),  \n",
    "])\n",
    "\n",
    "pipe = Pipeline([('features', feature_processing), ('clf', rf)])"
   ]
  },
  {
   "cell_type": "code",
   "execution_count": null,
   "metadata": {
    "colab": {
     "base_uri": "https://localhost:8080/"
    },
    "executionInfo": {
     "elapsed": 1061462,
     "status": "ok",
     "timestamp": 1617993256884,
     "user": {
      "displayName": "Felipe A. Gomes Ferreira",
      "photoUrl": "",
      "userId": "09095471911889500468"
     },
     "user_tz": 180
    },
    "id": "1DW3qul4IL09",
    "outputId": "b2f590c5-dc80-4582-ec40-7423aa700014"
   },
   "outputs": [
    {
     "name": "stdout",
     "output_type": "stream",
     "text": [
      "Fitting 8 folds for each of 10 candidates, totalling 80 fits\n",
      "[CV] features__bow__vectorizer__use_idf=False, features__bow__vectorizer__max_features=500, clf__n_estimators=200 \n"
     ]
    },
    {
     "name": "stderr",
     "output_type": "stream",
     "text": [
      "[Parallel(n_jobs=1)]: Using backend SequentialBackend with 1 concurrent workers.\n"
     ]
    },
    {
     "name": "stdout",
     "output_type": "stream",
     "text": [
      "[CV]  features__bow__vectorizer__use_idf=False, features__bow__vectorizer__max_features=500, clf__n_estimators=200, score=(train=1.000, test=0.853), total=  10.4s\n",
      "[CV] features__bow__vectorizer__use_idf=False, features__bow__vectorizer__max_features=500, clf__n_estimators=200 \n"
     ]
    },
    {
     "name": "stderr",
     "output_type": "stream",
     "text": [
      "[Parallel(n_jobs=1)]: Done   1 out of   1 | elapsed:   13.2s remaining:    0.0s\n"
     ]
    },
    {
     "name": "stdout",
     "output_type": "stream",
     "text": [
      "[CV]  features__bow__vectorizer__use_idf=False, features__bow__vectorizer__max_features=500, clf__n_estimators=200, score=(train=1.000, test=0.820), total=  10.5s\n",
      "[CV] features__bow__vectorizer__use_idf=False, features__bow__vectorizer__max_features=500, clf__n_estimators=200 \n"
     ]
    },
    {
     "name": "stderr",
     "output_type": "stream",
     "text": [
      "[Parallel(n_jobs=1)]: Done   2 out of   2 | elapsed:   26.5s remaining:    0.0s\n"
     ]
    },
    {
     "name": "stdout",
     "output_type": "stream",
     "text": [
      "[CV]  features__bow__vectorizer__use_idf=False, features__bow__vectorizer__max_features=500, clf__n_estimators=200, score=(train=1.000, test=0.812), total=  10.4s\n",
      "[CV] features__bow__vectorizer__use_idf=False, features__bow__vectorizer__max_features=500, clf__n_estimators=200 \n"
     ]
    },
    {
     "name": "stderr",
     "output_type": "stream",
     "text": [
      "[Parallel(n_jobs=1)]: Done   3 out of   3 | elapsed:   39.7s remaining:    0.0s\n"
     ]
    },
    {
     "name": "stdout",
     "output_type": "stream",
     "text": [
      "[CV]  features__bow__vectorizer__use_idf=False, features__bow__vectorizer__max_features=500, clf__n_estimators=200, score=(train=1.000, test=0.843), total=  10.5s\n",
      "[CV] features__bow__vectorizer__use_idf=False, features__bow__vectorizer__max_features=500, clf__n_estimators=200 \n"
     ]
    },
    {
     "name": "stderr",
     "output_type": "stream",
     "text": [
      "[Parallel(n_jobs=1)]: Done   4 out of   4 | elapsed:   53.0s remaining:    0.0s\n"
     ]
    },
    {
     "name": "stdout",
     "output_type": "stream",
     "text": [
      "[CV]  features__bow__vectorizer__use_idf=False, features__bow__vectorizer__max_features=500, clf__n_estimators=200, score=(train=1.000, test=0.836), total=  10.4s\n",
      "[CV] features__bow__vectorizer__use_idf=False, features__bow__vectorizer__max_features=500, clf__n_estimators=200 \n"
     ]
    },
    {
     "name": "stderr",
     "output_type": "stream",
     "text": [
      "[Parallel(n_jobs=1)]: Done   5 out of   5 | elapsed:  1.1min remaining:    0.0s\n"
     ]
    },
    {
     "name": "stdout",
     "output_type": "stream",
     "text": [
      "[CV]  features__bow__vectorizer__use_idf=False, features__bow__vectorizer__max_features=500, clf__n_estimators=200, score=(train=1.000, test=0.848), total=  10.4s\n",
      "[CV] features__bow__vectorizer__use_idf=False, features__bow__vectorizer__max_features=500, clf__n_estimators=200 \n"
     ]
    },
    {
     "name": "stderr",
     "output_type": "stream",
     "text": [
      "[Parallel(n_jobs=1)]: Done   6 out of   6 | elapsed:  1.3min remaining:    0.0s\n"
     ]
    },
    {
     "name": "stdout",
     "output_type": "stream",
     "text": [
      "[CV]  features__bow__vectorizer__use_idf=False, features__bow__vectorizer__max_features=500, clf__n_estimators=200, score=(train=1.000, test=0.828), total=  10.4s\n",
      "[CV] features__bow__vectorizer__use_idf=False, features__bow__vectorizer__max_features=500, clf__n_estimators=200 \n"
     ]
    },
    {
     "name": "stderr",
     "output_type": "stream",
     "text": [
      "[Parallel(n_jobs=1)]: Done   7 out of   7 | elapsed:  1.5min remaining:    0.0s\n"
     ]
    },
    {
     "name": "stdout",
     "output_type": "stream",
     "text": [
      "[CV]  features__bow__vectorizer__use_idf=False, features__bow__vectorizer__max_features=500, clf__n_estimators=200, score=(train=1.000, test=0.836), total=  10.4s\n",
      "[CV] features__bow__vectorizer__use_idf=True, features__bow__vectorizer__max_features=6000, clf__n_estimators=150 \n",
      "[CV]  features__bow__vectorizer__use_idf=True, features__bow__vectorizer__max_features=6000, clf__n_estimators=150, score=(train=1.000, test=0.849), total=   7.9s\n",
      "[CV] features__bow__vectorizer__use_idf=True, features__bow__vectorizer__max_features=6000, clf__n_estimators=150 \n",
      "[CV]  features__bow__vectorizer__use_idf=True, features__bow__vectorizer__max_features=6000, clf__n_estimators=150, score=(train=1.000, test=0.826), total=   7.8s\n",
      "[CV] features__bow__vectorizer__use_idf=True, features__bow__vectorizer__max_features=6000, clf__n_estimators=150 \n",
      "[CV]  features__bow__vectorizer__use_idf=True, features__bow__vectorizer__max_features=6000, clf__n_estimators=150, score=(train=1.000, test=0.817), total=   7.8s\n",
      "[CV] features__bow__vectorizer__use_idf=True, features__bow__vectorizer__max_features=6000, clf__n_estimators=150 \n",
      "[CV]  features__bow__vectorizer__use_idf=True, features__bow__vectorizer__max_features=6000, clf__n_estimators=150, score=(train=1.000, test=0.848), total=   7.8s\n",
      "[CV] features__bow__vectorizer__use_idf=True, features__bow__vectorizer__max_features=6000, clf__n_estimators=150 \n",
      "[CV]  features__bow__vectorizer__use_idf=True, features__bow__vectorizer__max_features=6000, clf__n_estimators=150, score=(train=1.000, test=0.849), total=   7.9s\n",
      "[CV] features__bow__vectorizer__use_idf=True, features__bow__vectorizer__max_features=6000, clf__n_estimators=150 \n",
      "[CV]  features__bow__vectorizer__use_idf=True, features__bow__vectorizer__max_features=6000, clf__n_estimators=150, score=(train=1.000, test=0.846), total=   7.7s\n",
      "[CV] features__bow__vectorizer__use_idf=True, features__bow__vectorizer__max_features=6000, clf__n_estimators=150 \n",
      "[CV]  features__bow__vectorizer__use_idf=True, features__bow__vectorizer__max_features=6000, clf__n_estimators=150, score=(train=1.000, test=0.825), total=   7.7s\n",
      "[CV] features__bow__vectorizer__use_idf=True, features__bow__vectorizer__max_features=6000, clf__n_estimators=150 \n",
      "[CV]  features__bow__vectorizer__use_idf=True, features__bow__vectorizer__max_features=6000, clf__n_estimators=150, score=(train=1.000, test=0.828), total=   7.8s\n",
      "[CV] features__bow__vectorizer__use_idf=False, features__bow__vectorizer__max_features=3000, clf__n_estimators=150 \n",
      "[CV]  features__bow__vectorizer__use_idf=False, features__bow__vectorizer__max_features=3000, clf__n_estimators=150, score=(train=1.000, test=0.839), total=   7.9s\n",
      "[CV] features__bow__vectorizer__use_idf=False, features__bow__vectorizer__max_features=3000, clf__n_estimators=150 \n",
      "[CV]  features__bow__vectorizer__use_idf=False, features__bow__vectorizer__max_features=3000, clf__n_estimators=150, score=(train=1.000, test=0.828), total=   7.9s\n",
      "[CV] features__bow__vectorizer__use_idf=False, features__bow__vectorizer__max_features=3000, clf__n_estimators=150 \n",
      "[CV]  features__bow__vectorizer__use_idf=False, features__bow__vectorizer__max_features=3000, clf__n_estimators=150, score=(train=1.000, test=0.810), total=   7.8s\n",
      "[CV] features__bow__vectorizer__use_idf=False, features__bow__vectorizer__max_features=3000, clf__n_estimators=150 \n",
      "[CV]  features__bow__vectorizer__use_idf=False, features__bow__vectorizer__max_features=3000, clf__n_estimators=150, score=(train=1.000, test=0.853), total=   7.7s\n",
      "[CV] features__bow__vectorizer__use_idf=False, features__bow__vectorizer__max_features=3000, clf__n_estimators=150 \n",
      "[CV]  features__bow__vectorizer__use_idf=False, features__bow__vectorizer__max_features=3000, clf__n_estimators=150, score=(train=1.000, test=0.854), total=   7.8s\n",
      "[CV] features__bow__vectorizer__use_idf=False, features__bow__vectorizer__max_features=3000, clf__n_estimators=150 \n",
      "[CV]  features__bow__vectorizer__use_idf=False, features__bow__vectorizer__max_features=3000, clf__n_estimators=150, score=(train=1.000, test=0.836), total=   7.8s\n",
      "[CV] features__bow__vectorizer__use_idf=False, features__bow__vectorizer__max_features=3000, clf__n_estimators=150 \n",
      "[CV]  features__bow__vectorizer__use_idf=False, features__bow__vectorizer__max_features=3000, clf__n_estimators=150, score=(train=1.000, test=0.838), total=   7.9s\n",
      "[CV] features__bow__vectorizer__use_idf=False, features__bow__vectorizer__max_features=3000, clf__n_estimators=150 \n",
      "[CV]  features__bow__vectorizer__use_idf=False, features__bow__vectorizer__max_features=3000, clf__n_estimators=150, score=(train=1.000, test=0.825), total=   7.8s\n",
      "[CV] features__bow__vectorizer__use_idf=False, features__bow__vectorizer__max_features=5000, clf__n_estimators=300 \n",
      "[CV]  features__bow__vectorizer__use_idf=False, features__bow__vectorizer__max_features=5000, clf__n_estimators=300, score=(train=1.000, test=0.848), total=  12.3s\n",
      "[CV] features__bow__vectorizer__use_idf=False, features__bow__vectorizer__max_features=5000, clf__n_estimators=300 \n",
      "[CV]  features__bow__vectorizer__use_idf=False, features__bow__vectorizer__max_features=5000, clf__n_estimators=300, score=(train=1.000, test=0.822), total=  12.2s\n",
      "[CV] features__bow__vectorizer__use_idf=False, features__bow__vectorizer__max_features=5000, clf__n_estimators=300 \n",
      "[CV]  features__bow__vectorizer__use_idf=False, features__bow__vectorizer__max_features=5000, clf__n_estimators=300, score=(train=1.000, test=0.805), total=  12.5s\n",
      "[CV] features__bow__vectorizer__use_idf=False, features__bow__vectorizer__max_features=5000, clf__n_estimators=300 \n",
      "[CV]  features__bow__vectorizer__use_idf=False, features__bow__vectorizer__max_features=5000, clf__n_estimators=300, score=(train=1.000, test=0.862), total=  12.2s\n",
      "[CV] features__bow__vectorizer__use_idf=False, features__bow__vectorizer__max_features=5000, clf__n_estimators=300 \n",
      "[CV]  features__bow__vectorizer__use_idf=False, features__bow__vectorizer__max_features=5000, clf__n_estimators=300, score=(train=1.000, test=0.844), total=  12.2s\n",
      "[CV] features__bow__vectorizer__use_idf=False, features__bow__vectorizer__max_features=5000, clf__n_estimators=300 \n",
      "[CV]  features__bow__vectorizer__use_idf=False, features__bow__vectorizer__max_features=5000, clf__n_estimators=300, score=(train=1.000, test=0.848), total=  12.2s\n",
      "[CV] features__bow__vectorizer__use_idf=False, features__bow__vectorizer__max_features=5000, clf__n_estimators=300 \n",
      "[CV]  features__bow__vectorizer__use_idf=False, features__bow__vectorizer__max_features=5000, clf__n_estimators=300, score=(train=1.000, test=0.842), total=  12.3s\n",
      "[CV] features__bow__vectorizer__use_idf=False, features__bow__vectorizer__max_features=5000, clf__n_estimators=300 \n",
      "[CV]  features__bow__vectorizer__use_idf=False, features__bow__vectorizer__max_features=5000, clf__n_estimators=300, score=(train=1.000, test=0.841), total=  12.2s\n",
      "[CV] features__bow__vectorizer__use_idf=False, features__bow__vectorizer__max_features=7000, clf__n_estimators=200 \n",
      "[CV]  features__bow__vectorizer__use_idf=False, features__bow__vectorizer__max_features=7000, clf__n_estimators=200, score=(train=1.000, test=0.836), total=   9.1s\n",
      "[CV] features__bow__vectorizer__use_idf=False, features__bow__vectorizer__max_features=7000, clf__n_estimators=200 \n",
      "[CV]  features__bow__vectorizer__use_idf=False, features__bow__vectorizer__max_features=7000, clf__n_estimators=200, score=(train=1.000, test=0.819), total=   9.2s\n",
      "[CV] features__bow__vectorizer__use_idf=False, features__bow__vectorizer__max_features=7000, clf__n_estimators=200 \n",
      "[CV]  features__bow__vectorizer__use_idf=False, features__bow__vectorizer__max_features=7000, clf__n_estimators=200, score=(train=1.000, test=0.809), total=   9.1s\n",
      "[CV] features__bow__vectorizer__use_idf=False, features__bow__vectorizer__max_features=7000, clf__n_estimators=200 \n",
      "[CV]  features__bow__vectorizer__use_idf=False, features__bow__vectorizer__max_features=7000, clf__n_estimators=200, score=(train=1.000, test=0.851), total=   9.1s\n",
      "[CV] features__bow__vectorizer__use_idf=False, features__bow__vectorizer__max_features=7000, clf__n_estimators=200 \n",
      "[CV]  features__bow__vectorizer__use_idf=False, features__bow__vectorizer__max_features=7000, clf__n_estimators=200, score=(train=1.000, test=0.851), total=   9.3s\n",
      "[CV] features__bow__vectorizer__use_idf=False, features__bow__vectorizer__max_features=7000, clf__n_estimators=200 \n",
      "[CV]  features__bow__vectorizer__use_idf=False, features__bow__vectorizer__max_features=7000, clf__n_estimators=200, score=(train=1.000, test=0.847), total=   9.2s\n",
      "[CV] features__bow__vectorizer__use_idf=False, features__bow__vectorizer__max_features=7000, clf__n_estimators=200 \n",
      "[CV]  features__bow__vectorizer__use_idf=False, features__bow__vectorizer__max_features=7000, clf__n_estimators=200, score=(train=1.000, test=0.822), total=   9.1s\n",
      "[CV] features__bow__vectorizer__use_idf=False, features__bow__vectorizer__max_features=7000, clf__n_estimators=200 \n",
      "[CV]  features__bow__vectorizer__use_idf=False, features__bow__vectorizer__max_features=7000, clf__n_estimators=200, score=(train=1.000, test=0.836), total=   9.3s\n",
      "[CV] features__bow__vectorizer__use_idf=False, features__bow__vectorizer__max_features=1000, clf__n_estimators=300 \n",
      "[CV]  features__bow__vectorizer__use_idf=False, features__bow__vectorizer__max_features=1000, clf__n_estimators=300, score=(train=1.000, test=0.862), total=  13.7s\n",
      "[CV] features__bow__vectorizer__use_idf=False, features__bow__vectorizer__max_features=1000, clf__n_estimators=300 \n",
      "[CV]  features__bow__vectorizer__use_idf=False, features__bow__vectorizer__max_features=1000, clf__n_estimators=300, score=(train=1.000, test=0.823), total=  13.6s\n",
      "[CV] features__bow__vectorizer__use_idf=False, features__bow__vectorizer__max_features=1000, clf__n_estimators=300 \n",
      "[CV]  features__bow__vectorizer__use_idf=False, features__bow__vectorizer__max_features=1000, clf__n_estimators=300, score=(train=1.000, test=0.817), total=  13.7s\n",
      "[CV] features__bow__vectorizer__use_idf=False, features__bow__vectorizer__max_features=1000, clf__n_estimators=300 \n",
      "[CV]  features__bow__vectorizer__use_idf=False, features__bow__vectorizer__max_features=1000, clf__n_estimators=300, score=(train=1.000, test=0.844), total=  13.7s\n",
      "[CV] features__bow__vectorizer__use_idf=False, features__bow__vectorizer__max_features=1000, clf__n_estimators=300 \n",
      "[CV]  features__bow__vectorizer__use_idf=False, features__bow__vectorizer__max_features=1000, clf__n_estimators=300, score=(train=1.000, test=0.852), total=  13.6s\n",
      "[CV] features__bow__vectorizer__use_idf=False, features__bow__vectorizer__max_features=1000, clf__n_estimators=300 \n",
      "[CV]  features__bow__vectorizer__use_idf=False, features__bow__vectorizer__max_features=1000, clf__n_estimators=300, score=(train=1.000, test=0.853), total=  13.6s\n",
      "[CV] features__bow__vectorizer__use_idf=False, features__bow__vectorizer__max_features=1000, clf__n_estimators=300 \n",
      "[CV]  features__bow__vectorizer__use_idf=False, features__bow__vectorizer__max_features=1000, clf__n_estimators=300, score=(train=1.000, test=0.828), total=  13.6s\n",
      "[CV] features__bow__vectorizer__use_idf=False, features__bow__vectorizer__max_features=1000, clf__n_estimators=300 \n",
      "[CV]  features__bow__vectorizer__use_idf=False, features__bow__vectorizer__max_features=1000, clf__n_estimators=300, score=(train=1.000, test=0.841), total=  13.7s\n",
      "[CV] features__bow__vectorizer__use_idf=False, features__bow__vectorizer__max_features=5000, clf__n_estimators=200 \n",
      "[CV]  features__bow__vectorizer__use_idf=False, features__bow__vectorizer__max_features=5000, clf__n_estimators=200, score=(train=1.000, test=0.851), total=   9.2s\n",
      "[CV] features__bow__vectorizer__use_idf=False, features__bow__vectorizer__max_features=5000, clf__n_estimators=200 \n",
      "[CV]  features__bow__vectorizer__use_idf=False, features__bow__vectorizer__max_features=5000, clf__n_estimators=200, score=(train=1.000, test=0.824), total=   9.2s\n",
      "[CV] features__bow__vectorizer__use_idf=False, features__bow__vectorizer__max_features=5000, clf__n_estimators=200 \n",
      "[CV]  features__bow__vectorizer__use_idf=False, features__bow__vectorizer__max_features=5000, clf__n_estimators=200, score=(train=1.000, test=0.808), total=   9.1s\n",
      "[CV] features__bow__vectorizer__use_idf=False, features__bow__vectorizer__max_features=5000, clf__n_estimators=200 \n",
      "[CV]  features__bow__vectorizer__use_idf=False, features__bow__vectorizer__max_features=5000, clf__n_estimators=200, score=(train=1.000, test=0.857), total=   9.1s\n",
      "[CV] features__bow__vectorizer__use_idf=False, features__bow__vectorizer__max_features=5000, clf__n_estimators=200 \n",
      "[CV]  features__bow__vectorizer__use_idf=False, features__bow__vectorizer__max_features=5000, clf__n_estimators=200, score=(train=1.000, test=0.851), total=   9.3s\n",
      "[CV] features__bow__vectorizer__use_idf=False, features__bow__vectorizer__max_features=5000, clf__n_estimators=200 \n",
      "[CV]  features__bow__vectorizer__use_idf=False, features__bow__vectorizer__max_features=5000, clf__n_estimators=200, score=(train=1.000, test=0.839), total=   9.2s\n",
      "[CV] features__bow__vectorizer__use_idf=False, features__bow__vectorizer__max_features=5000, clf__n_estimators=200 \n",
      "[CV]  features__bow__vectorizer__use_idf=False, features__bow__vectorizer__max_features=5000, clf__n_estimators=200, score=(train=1.000, test=0.828), total=   9.1s\n",
      "[CV] features__bow__vectorizer__use_idf=False, features__bow__vectorizer__max_features=5000, clf__n_estimators=200 \n",
      "[CV]  features__bow__vectorizer__use_idf=False, features__bow__vectorizer__max_features=5000, clf__n_estimators=200, score=(train=1.000, test=0.836), total=   9.3s\n",
      "[CV] features__bow__vectorizer__use_idf=True, features__bow__vectorizer__max_features=7000, clf__n_estimators=200 \n",
      "[CV]  features__bow__vectorizer__use_idf=True, features__bow__vectorizer__max_features=7000, clf__n_estimators=200, score=(train=1.000, test=0.851), total=   9.3s\n",
      "[CV] features__bow__vectorizer__use_idf=True, features__bow__vectorizer__max_features=7000, clf__n_estimators=200 \n",
      "[CV]  features__bow__vectorizer__use_idf=True, features__bow__vectorizer__max_features=7000, clf__n_estimators=200, score=(train=1.000, test=0.821), total=   9.3s\n",
      "[CV] features__bow__vectorizer__use_idf=True, features__bow__vectorizer__max_features=7000, clf__n_estimators=200 \n",
      "[CV]  features__bow__vectorizer__use_idf=True, features__bow__vectorizer__max_features=7000, clf__n_estimators=200, score=(train=1.000, test=0.807), total=   9.3s\n",
      "[CV] features__bow__vectorizer__use_idf=True, features__bow__vectorizer__max_features=7000, clf__n_estimators=200 \n",
      "[CV]  features__bow__vectorizer__use_idf=True, features__bow__vectorizer__max_features=7000, clf__n_estimators=200, score=(train=1.000, test=0.843), total=   9.3s\n",
      "[CV] features__bow__vectorizer__use_idf=True, features__bow__vectorizer__max_features=7000, clf__n_estimators=200 \n",
      "[CV]  features__bow__vectorizer__use_idf=True, features__bow__vectorizer__max_features=7000, clf__n_estimators=200, score=(train=1.000, test=0.846), total=   9.4s\n",
      "[CV] features__bow__vectorizer__use_idf=True, features__bow__vectorizer__max_features=7000, clf__n_estimators=200 \n",
      "[CV]  features__bow__vectorizer__use_idf=True, features__bow__vectorizer__max_features=7000, clf__n_estimators=200, score=(train=1.000, test=0.849), total=   9.2s\n",
      "[CV] features__bow__vectorizer__use_idf=True, features__bow__vectorizer__max_features=7000, clf__n_estimators=200 \n",
      "[CV]  features__bow__vectorizer__use_idf=True, features__bow__vectorizer__max_features=7000, clf__n_estimators=200, score=(train=1.000, test=0.830), total=   9.2s\n",
      "[CV] features__bow__vectorizer__use_idf=True, features__bow__vectorizer__max_features=7000, clf__n_estimators=200 \n",
      "[CV]  features__bow__vectorizer__use_idf=True, features__bow__vectorizer__max_features=7000, clf__n_estimators=200, score=(train=1.000, test=0.836), total=   9.5s\n",
      "[CV] features__bow__vectorizer__use_idf=False, features__bow__vectorizer__max_features=4000, clf__n_estimators=200 \n",
      "[CV]  features__bow__vectorizer__use_idf=False, features__bow__vectorizer__max_features=4000, clf__n_estimators=200, score=(train=1.000, test=0.847), total=   9.2s\n",
      "[CV] features__bow__vectorizer__use_idf=False, features__bow__vectorizer__max_features=4000, clf__n_estimators=200 \n",
      "[CV]  features__bow__vectorizer__use_idf=False, features__bow__vectorizer__max_features=4000, clf__n_estimators=200, score=(train=1.000, test=0.826), total=   9.4s\n",
      "[CV] features__bow__vectorizer__use_idf=False, features__bow__vectorizer__max_features=4000, clf__n_estimators=200 \n",
      "[CV]  features__bow__vectorizer__use_idf=False, features__bow__vectorizer__max_features=4000, clf__n_estimators=200, score=(train=1.000, test=0.802), total=   9.3s\n",
      "[CV] features__bow__vectorizer__use_idf=False, features__bow__vectorizer__max_features=4000, clf__n_estimators=200 \n",
      "[CV]  features__bow__vectorizer__use_idf=False, features__bow__vectorizer__max_features=4000, clf__n_estimators=200, score=(train=1.000, test=0.847), total=   9.2s\n",
      "[CV] features__bow__vectorizer__use_idf=False, features__bow__vectorizer__max_features=4000, clf__n_estimators=200 \n",
      "[CV]  features__bow__vectorizer__use_idf=False, features__bow__vectorizer__max_features=4000, clf__n_estimators=200, score=(train=1.000, test=0.849), total=   9.3s\n",
      "[CV] features__bow__vectorizer__use_idf=False, features__bow__vectorizer__max_features=4000, clf__n_estimators=200 \n",
      "[CV]  features__bow__vectorizer__use_idf=False, features__bow__vectorizer__max_features=4000, clf__n_estimators=200, score=(train=1.000, test=0.843), total=   9.2s\n",
      "[CV] features__bow__vectorizer__use_idf=False, features__bow__vectorizer__max_features=4000, clf__n_estimators=200 \n",
      "[CV]  features__bow__vectorizer__use_idf=False, features__bow__vectorizer__max_features=4000, clf__n_estimators=200, score=(train=1.000, test=0.835), total=   9.2s\n",
      "[CV] features__bow__vectorizer__use_idf=False, features__bow__vectorizer__max_features=4000, clf__n_estimators=200 \n",
      "[CV]  features__bow__vectorizer__use_idf=False, features__bow__vectorizer__max_features=4000, clf__n_estimators=200, score=(train=1.000, test=0.833), total=   9.4s\n",
      "[CV] features__bow__vectorizer__use_idf=False, features__bow__vectorizer__max_features=3000, clf__n_estimators=300 \n",
      "[CV]  features__bow__vectorizer__use_idf=False, features__bow__vectorizer__max_features=3000, clf__n_estimators=300, score=(train=1.000, test=0.856), total=  12.6s\n",
      "[CV] features__bow__vectorizer__use_idf=False, features__bow__vectorizer__max_features=3000, clf__n_estimators=300 \n",
      "[CV]  features__bow__vectorizer__use_idf=False, features__bow__vectorizer__max_features=3000, clf__n_estimators=300, score=(train=1.000, test=0.834), total=  12.7s\n",
      "[CV] features__bow__vectorizer__use_idf=False, features__bow__vectorizer__max_features=3000, clf__n_estimators=300 \n",
      "[CV]  features__bow__vectorizer__use_idf=False, features__bow__vectorizer__max_features=3000, clf__n_estimators=300, score=(train=1.000, test=0.821), total=  12.4s\n",
      "[CV] features__bow__vectorizer__use_idf=False, features__bow__vectorizer__max_features=3000, clf__n_estimators=300 \n",
      "[CV]  features__bow__vectorizer__use_idf=False, features__bow__vectorizer__max_features=3000, clf__n_estimators=300, score=(train=1.000, test=0.864), total=  12.6s\n",
      "[CV] features__bow__vectorizer__use_idf=False, features__bow__vectorizer__max_features=3000, clf__n_estimators=300 \n",
      "[CV]  features__bow__vectorizer__use_idf=False, features__bow__vectorizer__max_features=3000, clf__n_estimators=300, score=(train=1.000, test=0.849), total=  12.5s\n",
      "[CV] features__bow__vectorizer__use_idf=False, features__bow__vectorizer__max_features=3000, clf__n_estimators=300 \n",
      "[CV]  features__bow__vectorizer__use_idf=False, features__bow__vectorizer__max_features=3000, clf__n_estimators=300, score=(train=1.000, test=0.846), total=  12.5s\n",
      "[CV] features__bow__vectorizer__use_idf=False, features__bow__vectorizer__max_features=3000, clf__n_estimators=300 \n",
      "[CV]  features__bow__vectorizer__use_idf=False, features__bow__vectorizer__max_features=3000, clf__n_estimators=300, score=(train=1.000, test=0.833), total=  12.6s\n",
      "[CV] features__bow__vectorizer__use_idf=False, features__bow__vectorizer__max_features=3000, clf__n_estimators=300 \n",
      "[CV]  features__bow__vectorizer__use_idf=False, features__bow__vectorizer__max_features=3000, clf__n_estimators=300, score=(train=1.000, test=0.833), total=  12.6s\n"
     ]
    },
    {
     "name": "stderr",
     "output_type": "stream",
     "text": [
      "[Parallel(n_jobs=1)]: Done  80 out of  80 | elapsed: 17.4min finished\n"
     ]
    }
   ],
   "source": [
    "from sklearn.model_selection import StratifiedKFold, RandomizedSearchCV\n",
    "\n",
    "param_grid = {\n",
    "    'features__bow__vectorizer__max_features': [500, 1000,3000,4000,5000,6000,7000,8000],\n",
    "    'features__bow__vectorizer__use_idf': [True, False],\n",
    "    'clf__n_estimators': [10, 100, 150, 200, 300],\n",
    "}\n",
    "cv = StratifiedKFold(n_splits=8)\n",
    "search = RandomizedSearchCV(pipe, param_distributions=param_grid, cv=cv,  scoring='f1_macro', return_train_score=True, verbose=8)\n",
    "search = search.fit(X_train, y_train)"
   ]
  },
  {
   "cell_type": "code",
   "execution_count": null,
   "metadata": {
    "colab": {
     "base_uri": "https://localhost:8080/"
    },
    "executionInfo": {
     "elapsed": 696,
     "status": "ok",
     "timestamp": 1617993354452,
     "user": {
      "displayName": "Felipe A. Gomes Ferreira",
      "photoUrl": "",
      "userId": "09095471911889500468"
     },
     "user_tz": 180
    },
    "id": "NzX_5HVDJkWK",
    "outputId": "8b6713f0-a435-43ad-a6e5-d7513034c5d5"
   },
   "outputs": [
    {
     "name": "stdout",
     "output_type": "stream",
     "text": [
      "Best parameter (CV score: 0.84217):\n",
      "{'features__bow__vectorizer__use_idf': False, 'features__bow__vectorizer__max_features': 3000, 'clf__n_estimators': 300}\n"
     ]
    }
   ],
   "source": [
    "print(\"Best parameter (CV score: %0.5f):\" % search.best_score_)\n",
    "print(search.best_params_)"
   ]
  },
  {
   "cell_type": "code",
   "execution_count": null,
   "metadata": {
    "colab": {
     "base_uri": "https://localhost:8080/",
     "height": 379
    },
    "executionInfo": {
     "elapsed": 774,
     "status": "ok",
     "timestamp": 1617993361723,
     "user": {
      "displayName": "Felipe A. Gomes Ferreira",
      "photoUrl": "",
      "userId": "09095471911889500468"
     },
     "user_tz": 180
    },
    "id": "2q7pXd6YJkS1",
    "outputId": "0d7f72f9-706e-4156-dd9e-fdfe44002695"
   },
   "outputs": [
    {
     "data": {
      "text/html": [
       "<div>\n",
       "<style scoped>\n",
       "    .dataframe tbody tr th:only-of-type {\n",
       "        vertical-align: middle;\n",
       "    }\n",
       "\n",
       "    .dataframe tbody tr th {\n",
       "        vertical-align: top;\n",
       "    }\n",
       "\n",
       "    .dataframe thead th {\n",
       "        text-align: right;\n",
       "    }\n",
       "</style>\n",
       "<table border=\"1\" class=\"dataframe\">\n",
       "  <thead>\n",
       "    <tr style=\"text-align: right;\">\n",
       "      <th></th>\n",
       "      <th>features__bow__vectorizer__use_idf</th>\n",
       "      <th>features__bow__vectorizer__max_features</th>\n",
       "      <th>clf__n_estimators</th>\n",
       "      <th>mean_fit_time</th>\n",
       "      <th>mean_score_time</th>\n",
       "      <th>mean_train_score</th>\n",
       "      <th>std_train_score</th>\n",
       "      <th>mean_test_score</th>\n",
       "      <th>std_test_score</th>\n",
       "      <th>rank_test_score</th>\n",
       "    </tr>\n",
       "  </thead>\n",
       "  <tbody>\n",
       "    <tr>\n",
       "      <th>9</th>\n",
       "      <td>False</td>\n",
       "      <td>3000</td>\n",
       "      <td>300</td>\n",
       "      <td>12.097403</td>\n",
       "      <td>0.461868</td>\n",
       "      <td>0.99965</td>\n",
       "      <td>0.000165</td>\n",
       "      <td>0.842172</td>\n",
       "      <td>0.013192</td>\n",
       "      <td>1</td>\n",
       "    </tr>\n",
       "    <tr>\n",
       "      <th>5</th>\n",
       "      <td>False</td>\n",
       "      <td>1000</td>\n",
       "      <td>300</td>\n",
       "      <td>13.194972</td>\n",
       "      <td>0.450079</td>\n",
       "      <td>0.99965</td>\n",
       "      <td>0.000165</td>\n",
       "      <td>0.840127</td>\n",
       "      <td>0.015001</td>\n",
       "      <td>2</td>\n",
       "    </tr>\n",
       "    <tr>\n",
       "      <th>3</th>\n",
       "      <td>False</td>\n",
       "      <td>5000</td>\n",
       "      <td>300</td>\n",
       "      <td>11.799272</td>\n",
       "      <td>0.472230</td>\n",
       "      <td>0.99965</td>\n",
       "      <td>0.000165</td>\n",
       "      <td>0.838895</td>\n",
       "      <td>0.016378</td>\n",
       "      <td>3</td>\n",
       "    </tr>\n",
       "    <tr>\n",
       "      <th>6</th>\n",
       "      <td>False</td>\n",
       "      <td>5000</td>\n",
       "      <td>200</td>\n",
       "      <td>8.741837</td>\n",
       "      <td>0.435996</td>\n",
       "      <td>0.99965</td>\n",
       "      <td>0.000165</td>\n",
       "      <td>0.836837</td>\n",
       "      <td>0.015203</td>\n",
       "      <td>4</td>\n",
       "    </tr>\n",
       "    <tr>\n",
       "      <th>1</th>\n",
       "      <td>True</td>\n",
       "      <td>6000</td>\n",
       "      <td>150</td>\n",
       "      <td>7.360796</td>\n",
       "      <td>0.427759</td>\n",
       "      <td>0.99965</td>\n",
       "      <td>0.000165</td>\n",
       "      <td>0.835951</td>\n",
       "      <td>0.012416</td>\n",
       "      <td>5</td>\n",
       "    </tr>\n",
       "    <tr>\n",
       "      <th>2</th>\n",
       "      <td>False</td>\n",
       "      <td>3000</td>\n",
       "      <td>150</td>\n",
       "      <td>7.400777</td>\n",
       "      <td>0.428838</td>\n",
       "      <td>0.99965</td>\n",
       "      <td>0.000165</td>\n",
       "      <td>0.835357</td>\n",
       "      <td>0.013738</td>\n",
       "      <td>6</td>\n",
       "    </tr>\n",
       "    <tr>\n",
       "      <th>7</th>\n",
       "      <td>True</td>\n",
       "      <td>7000</td>\n",
       "      <td>200</td>\n",
       "      <td>8.833508</td>\n",
       "      <td>0.478794</td>\n",
       "      <td>0.99965</td>\n",
       "      <td>0.000165</td>\n",
       "      <td>0.835332</td>\n",
       "      <td>0.014370</td>\n",
       "      <td>7</td>\n",
       "    </tr>\n",
       "    <tr>\n",
       "      <th>8</th>\n",
       "      <td>False</td>\n",
       "      <td>4000</td>\n",
       "      <td>200</td>\n",
       "      <td>8.834128</td>\n",
       "      <td>0.438735</td>\n",
       "      <td>0.99965</td>\n",
       "      <td>0.000165</td>\n",
       "      <td>0.835248</td>\n",
       "      <td>0.014836</td>\n",
       "      <td>8</td>\n",
       "    </tr>\n",
       "    <tr>\n",
       "      <th>0</th>\n",
       "      <td>False</td>\n",
       "      <td>500</td>\n",
       "      <td>200</td>\n",
       "      <td>9.993393</td>\n",
       "      <td>0.426367</td>\n",
       "      <td>0.99965</td>\n",
       "      <td>0.000165</td>\n",
       "      <td>0.834454</td>\n",
       "      <td>0.012989</td>\n",
       "      <td>9</td>\n",
       "    </tr>\n",
       "    <tr>\n",
       "      <th>4</th>\n",
       "      <td>False</td>\n",
       "      <td>7000</td>\n",
       "      <td>200</td>\n",
       "      <td>8.740062</td>\n",
       "      <td>0.439787</td>\n",
       "      <td>0.99965</td>\n",
       "      <td>0.000165</td>\n",
       "      <td>0.833910</td>\n",
       "      <td>0.014678</td>\n",
       "      <td>10</td>\n",
       "    </tr>\n",
       "  </tbody>\n",
       "</table>\n",
       "</div>"
      ],
      "text/plain": [
       "   features__bow__vectorizer__use_idf  ...  rank_test_score\n",
       "9                               False  ...                1\n",
       "5                               False  ...                2\n",
       "3                               False  ...                3\n",
       "6                               False  ...                4\n",
       "1                                True  ...                5\n",
       "2                               False  ...                6\n",
       "7                                True  ...                7\n",
       "8                               False  ...                8\n",
       "0                               False  ...                9\n",
       "4                               False  ...               10\n",
       "\n",
       "[10 rows x 10 columns]"
      ]
     },
     "execution_count": 23,
     "metadata": {
      "tags": []
     },
     "output_type": "execute_result"
    }
   ],
   "source": [
    "# Print out the results of hyperparmater tuning\n",
    "\n",
    "def cv_results_to_df(cv_results):\n",
    "    results = pd.DataFrame(list(cv_results['params']))\n",
    "    results['mean_fit_time'] = cv_results['mean_fit_time']\n",
    "    results['mean_score_time'] = cv_results['mean_score_time']\n",
    "    results['mean_train_score'] = cv_results['mean_train_score']\n",
    "    results['std_train_score'] = cv_results['std_train_score']\n",
    "    results['mean_test_score'] = cv_results['mean_test_score']\n",
    "    results['std_test_score'] = cv_results['std_test_score']\n",
    "    results['rank_test_score'] = cv_results['rank_test_score']\n",
    "\n",
    "    results = results.sort_values(['mean_test_score'], ascending=False)\n",
    "    return results\n",
    "\n",
    "results = cv_results_to_df(search.cv_results_)\n",
    "results"
   ]
  },
  {
   "cell_type": "code",
   "execution_count": null,
   "metadata": {
    "id": "t8SC31GVJkQy"
   },
   "outputs": [],
   "source": [
    "y_val_pred = search.predict(X_val)"
   ]
  },
  {
   "cell_type": "code",
   "execution_count": null,
   "metadata": {
    "colab": {
     "base_uri": "https://localhost:8080/"
    },
    "executionInfo": {
     "elapsed": 676,
     "status": "ok",
     "timestamp": 1617993393026,
     "user": {
      "displayName": "Felipe A. Gomes Ferreira",
      "photoUrl": "",
      "userId": "09095471911889500468"
     },
     "user_tz": 180
    },
    "id": "9DwbHNa5JkOW",
    "outputId": "8f488b8a-273c-4ef4-b500-c8d89fc8f64c"
   },
   "outputs": [
    {
     "name": "stdout",
     "output_type": "stream",
     "text": [
      "[[527  65]\n",
      " [120 514]]\n",
      "              precision    recall  f1-score   support\n",
      "\n",
      "           0       0.81      0.89      0.85       592\n",
      "           1       0.89      0.81      0.85       634\n",
      "\n",
      "    accuracy                           0.85      1226\n",
      "   macro avg       0.85      0.85      0.85      1226\n",
      "weighted avg       0.85      0.85      0.85      1226\n",
      "\n"
     ]
    }
   ],
   "source": [
    "from sklearn.metrics import confusion_matrix\n",
    "from sklearn.metrics import classification_report\n",
    "\n",
    "print(confusion_matrix(y_true = y_val, y_pred = y_val_pred))\n",
    "\n",
    "class_names = [str(x) for x in search.best_estimator_.classes_]\n",
    "print(classification_report(y_true = y_val, y_pred = y_val_pred, target_names=class_names))"
   ]
  },
  {
   "cell_type": "markdown",
   "metadata": {
    "id": "j_hbDku-I_4I"
   },
   "source": [
    "# **CONCLUSIONS: dropping loan_id didn't help a lot.**"
   ]
  },
  {
   "cell_type": "code",
   "execution_count": null,
   "metadata": {
    "id": "yKpiV09JoF_R"
   },
   "outputs": [],
   "source": []
  }
 ],
 "metadata": {
  "accelerator": "GPU",
  "colab": {
   "collapsed_sections": [],
   "name": "T3_with_Drop_loan_id.ipynb",
   "provenance": [
    {
     "file_id": "1eSbyfwvH1GjZWCYTmAJRiAGcjLSNToZ2",
     "timestamp": 1617991549535
    },
    {
     "file_id": "1P5NmbEpkUqC1HLschIhPOIIodyHBX4cm",
     "timestamp": 1617912327272
    },
    {
     "file_id": "1ckbaIKB9Jbhoq_hPAt0RPnO-sjcd_bDG",
     "timestamp": 1617839396746
    }
   ]
  },
  "kernelspec": {
   "display_name": "Python 3",
   "language": "python",
   "name": "python3"
  },
  "language_info": {
   "codemirror_mode": {
    "name": "ipython",
    "version": 3
   },
   "file_extension": ".py",
   "mimetype": "text/x-python",
   "name": "python",
   "nbconvert_exporter": "python",
   "pygments_lexer": "ipython3",
   "version": "3.8.3"
  }
 },
 "nbformat": 4,
 "nbformat_minor": 1
}
